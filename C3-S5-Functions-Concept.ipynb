{
 "cells": [
  {
   "cell_type": "code",
   "execution_count": null,
   "id": "9bfb1271-d260-4248-8fd1-ffcf208eee5c",
   "metadata": {},
   "outputs": [],
   "source": [
    "# functions\n",
    "\n",
    "1. user defined functions\n",
    "2. built in functions >>   case sensitive\n",
    "3.  \n",
    "def mu_function_name()\n",
    "\n",
    "def  >>  define \n",
    ">>  key words are shown in green font"
   ]
  },
  {
   "cell_type": "code",
   "execution_count": 3,
   "id": "3b42ad8e-5688-4b01-8664-205c53ed21b5",
   "metadata": {},
   "outputs": [
    {
     "name": "stdout",
     "output_type": "stream",
     "text": [
      "hello world!\n"
     ]
    }
   ],
   "source": [
    "# define a function\n",
    "def my_function():\n",
    "    print(\"hello world!\")\n",
    "\n",
    "#call function\n",
    "my_function() "
   ]
  },
  {
   "cell_type": "code",
   "execution_count": 11,
   "id": "98986a1c-780e-4a12-b8a6-8d8c4fe7b3de",
   "metadata": {},
   "outputs": [
    {
     "name": "stdout",
     "output_type": "stream",
     "text": [
      "hello world\n"
     ]
    }
   ],
   "source": [
    "# define a function\n",
    "def my_function1(a):\n",
    "    print(a)\n",
    "\n",
    "#call function\n",
    "my_function1(\"hello world\") "
   ]
  },
  {
   "cell_type": "code",
   "execution_count": 15,
   "id": "3741830a-1d97-46ae-9932-62d88df3995c",
   "metadata": {},
   "outputs": [
    {
     "ename": "NameError",
     "evalue": "name 'MY_FUNCTION1' is not defined",
     "output_type": "error",
     "traceback": [
      "\u001b[1;31m---------------------------------------------------------------------------\u001b[0m",
      "\u001b[1;31mNameError\u001b[0m                                 Traceback (most recent call last)",
      "Cell \u001b[1;32mIn[15], line 2\u001b[0m\n\u001b[0;32m      1\u001b[0m \u001b[38;5;66;03m#call function \u001b[39;00m\n\u001b[1;32m----> 2\u001b[0m MY_FUNCTION1(\u001b[38;5;124m\"\u001b[39m\u001b[38;5;124mhello world\u001b[39m\u001b[38;5;124m\"\u001b[39m)\n",
      "\u001b[1;31mNameError\u001b[0m: name 'MY_FUNCTION1' is not defined"
     ]
    }
   ],
   "source": [
    "#call function \n",
    "MY_FUNCTION1(\"hello world\") \n",
    "\n",
    "# error becoz python is case sensitive"
   ]
  },
  {
   "cell_type": "markdown",
   "id": "75a04f30-119c-4c01-b1f5-ba1a50eb76b0",
   "metadata": {},
   "source": [
    "clear memory\n",
    ">> restart kernel"
   ]
  },
  {
   "cell_type": "code",
   "execution_count": 23,
   "id": "bc405e43-eda8-4003-9b22-d1444addc987",
   "metadata": {},
   "outputs": [
    {
     "name": "stdout",
     "output_type": "stream",
     "text": [
      "hello world!\n"
     ]
    },
    {
     "data": {
      "text/plain": [
       "123"
      ]
     },
     "execution_count": 23,
     "metadata": {},
     "output_type": "execute_result"
    }
   ],
   "source": [
    "# return values\n",
    "def my_function():\n",
    "    print(\"hello world!\")\n",
    "    return 123\n",
    "\n",
    "#call function\n",
    "my_function() "
   ]
  },
  {
   "cell_type": "code",
   "execution_count": 29,
   "id": "c1c6b9a4-b531-4460-a09e-e313578e8eb5",
   "metadata": {},
   "outputs": [
    {
     "name": "stdout",
     "output_type": "stream",
     "text": [
      "hello world!\n",
      "123\n",
      "123\n"
     ]
    }
   ],
   "source": [
    "a=my_function() \n",
    "b=a\n",
    "print(a)\n",
    "print(b)"
   ]
  },
  {
   "cell_type": "markdown",
   "id": "e8da5141-fda2-4be7-b409-b7bf08b1df34",
   "metadata": {},
   "source": [
    "# Local and Global Variables"
   ]
  },
  {
   "cell_type": "code",
   "execution_count": 38,
   "id": "39220758-3a35-45e6-97e2-4bd8a070ace7",
   "metadata": {},
   "outputs": [
    {
     "name": "stdout",
     "output_type": "stream",
     "text": [
      "3\n",
      "4\n",
      "3\n",
      "5\n"
     ]
    }
   ],
   "source": [
    "#global variable  accessible to all functions\n",
    "x=3\n",
    "\n",
    "def cal():\n",
    "    y=4 #local variable, it is accisible only to cal function\n",
    "    print(x)\n",
    "    print(y)\n",
    "\n",
    "def process():\n",
    "    z=5 #local variable\n",
    "    print(x)\n",
    "    print(z)\n",
    "\n",
    "#call functions\n",
    "cal()\n",
    "process()"
   ]
  },
  {
   "cell_type": "markdown",
   "id": "204a30eb-3a47-4492-8287-63bb96059013",
   "metadata": {},
   "source": [
    "# Functions with Parameters"
   ]
  },
  {
   "cell_type": "code",
   "execution_count": 41,
   "id": "f7add768-0b0e-4647-9400-bcf9bc7c2e15",
   "metadata": {},
   "outputs": [
    {
     "name": "stdout",
     "output_type": "stream",
     "text": [
      "1\n"
     ]
    }
   ],
   "source": [
    "def newFun(b):\n",
    "    print(b)\n",
    "\n",
    "newFun(1)"
   ]
  },
  {
   "cell_type": "code",
   "execution_count": 43,
   "id": "070ac9b4-b08e-4ac2-b064-5c80d821ee5f",
   "metadata": {},
   "outputs": [
    {
     "name": "stdout",
     "output_type": "stream",
     "text": [
      "abc\n"
     ]
    }
   ],
   "source": [
    "newFun(\"abc\")"
   ]
  },
  {
   "cell_type": "code",
   "execution_count": 45,
   "id": "e753011b-403a-478f-881d-f0c705761efa",
   "metadata": {},
   "outputs": [
    {
     "name": "stdout",
     "output_type": "stream",
     "text": [
      "12.5\n"
     ]
    }
   ],
   "source": [
    "newFun(12.5)"
   ]
  },
  {
   "cell_type": "code",
   "execution_count": 47,
   "id": "81e1baeb-dbd3-48d4-b1ed-a66913b55cd3",
   "metadata": {},
   "outputs": [
    {
     "name": "stdout",
     "output_type": "stream",
     "text": [
      "calculation function\n"
     ]
    },
    {
     "data": {
      "text/plain": [
       "9"
      ]
     },
     "execution_count": 47,
     "metadata": {},
     "output_type": "execute_result"
    }
   ],
   "source": [
    "def cal_sum(p,q):\n",
    "    print(\"calculation function\")\n",
    "    return p+q\n",
    "\n",
    "cal_sum(4,5)"
   ]
  },
  {
   "cell_type": "code",
   "execution_count": 51,
   "id": "931b7d6f-bf41-40d8-810e-5530625e6cfb",
   "metadata": {},
   "outputs": [
    {
     "name": "stdout",
     "output_type": "stream",
     "text": [
      "calculation function\n",
      "9\n"
     ]
    }
   ],
   "source": [
    "r = cal_sum(4,5)\n",
    "print(r)"
   ]
  },
  {
   "cell_type": "code",
   "execution_count": 55,
   "id": "4c6c5821-c192-4564-9288-25db354d926b",
   "metadata": {},
   "outputs": [
    {
     "name": "stdout",
     "output_type": "stream",
     "text": [
      "calculation function\n",
      "hi world\n"
     ]
    }
   ],
   "source": [
    "r = cal_sum(\"hi\",\" world\")\n",
    "print(r)"
   ]
  },
  {
   "cell_type": "markdown",
   "id": "50051284-0a7d-4009-93a8-e6431bb9395d",
   "metadata": {},
   "source": [
    "# default arguments"
   ]
  },
  {
   "cell_type": "code",
   "execution_count": 62,
   "id": "ae93f35a-f072-4fa8-b316-5f89f1eb71b3",
   "metadata": {},
   "outputs": [
    {
     "name": "stdout",
     "output_type": "stream",
     "text": [
      "4\n",
      "5\n",
      "7\n"
     ]
    }
   ],
   "source": [
    "def cal_sum(x,y,v=7): #v gets a defualt argument 7  ,  xand y are parameters\n",
    "    print(x)\n",
    "    print(y)\n",
    "    print(v)\n",
    "\n",
    "cal_sum(4,5)  # 4 and 5 are arguments"
   ]
  },
  {
   "cell_type": "code",
   "execution_count": 64,
   "id": "e256c6f0-7ae9-4658-bfe3-6d7051b4f05e",
   "metadata": {},
   "outputs": [
    {
     "name": "stdout",
     "output_type": "stream",
     "text": [
      "4\n",
      "5\n",
      "8\n"
     ]
    }
   ],
   "source": [
    "cal_sum(4,5,8)"
   ]
  },
  {
   "cell_type": "markdown",
   "id": "69101320-a8c3-4584-ab8b-a73e738e7658",
   "metadata": {},
   "source": [
    "# Commonly used in built functions"
   ]
  },
  {
   "cell_type": "code",
   "execution_count": 157,
   "id": "56ae8e5d-b177-48ca-859d-c23ff09314a6",
   "metadata": {},
   "outputs": [
    {
     "data": {
      "text/plain": [
       "[2, 3, 4, 5]"
      ]
     },
     "execution_count": 157,
     "metadata": {},
     "output_type": "execute_result"
    }
   ],
   "source": [
    "mylist=[2,3,4,5]\n",
    "mylist"
   ]
  },
  {
   "cell_type": "code",
   "execution_count": 84,
   "id": "cba052f4-3057-4153-af12-7c29dd7176a3",
   "metadata": {},
   "outputs": [
    {
     "data": {
      "text/plain": [
       "[2, 3, 4, 5]"
      ]
     },
     "execution_count": 84,
     "metadata": {},
     "output_type": "execute_result"
    }
   ],
   "source": [
    "mylist2 = mylist\n",
    "mylist2\n"
   ]
  },
  {
   "cell_type": "code",
   "execution_count": null,
   "id": "d5821d78-1842-4506-8b78-0b6d09bbb9cb",
   "metadata": {},
   "outputs": [],
   "source": [
    "#  reversed used to reversing the content"
   ]
  },
  {
   "cell_type": "code",
   "execution_count": 88,
   "id": "14a75240-1e6f-4a22-b088-449c083f843e",
   "metadata": {},
   "outputs": [
    {
     "data": {
      "text/plain": [
       "[5, 4, 3, 2]"
      ]
     },
     "execution_count": 88,
     "metadata": {},
     "output_type": "execute_result"
    }
   ],
   "source": [
    "revmylist = list( reversed(mylist))\n",
    "revmylist"
   ]
  },
  {
   "cell_type": "code",
   "execution_count": 96,
   "id": "f20af129-6725-467d-9a8a-3237b6076ff4",
   "metadata": {},
   "outputs": [
    {
     "data": {
      "text/plain": [
       "'<reversed object at 0x000001BF931B2EC0>'"
      ]
     },
     "execution_count": 96,
     "metadata": {},
     "output_type": "execute_result"
    }
   ],
   "source": [
    "abc = str(reversed(\"reema joseph\"))  ## error >>  list is needed for reversed\n",
    "abc"
   ]
  },
  {
   "cell_type": "code",
   "execution_count": 3,
   "id": "865771d3-9b69-4ec2-9da6-986a6a2cc3ca",
   "metadata": {},
   "outputs": [
    {
     "data": {
      "text/plain": [
       "'hpesoj ameer'"
      ]
     },
     "execution_count": 3,
     "metadata": {},
     "output_type": "execute_result"
    }
   ],
   "source": [
    "revmylist = list( reversed(\"reema joseph\"))\n",
    "revmylist\n",
    "\"\".join(revmylist)"
   ]
  },
  {
   "cell_type": "code",
   "execution_count": 5,
   "id": "7f8ad198-ca24-477b-90de-e85c71ee5909",
   "metadata": {},
   "outputs": [],
   "source": [
    "# functions:  reversed(), soted() >>  any iterable can be passed tuple, list , string etc"
   ]
  },
  {
   "cell_type": "code",
   "execution_count": 15,
   "id": "3fca2b47-fba9-4d33-ac17-d639eb64bcc0",
   "metadata": {},
   "outputs": [
    {
     "data": {
      "text/plain": [
       "[1, 5, 33, 99]"
      ]
     },
     "execution_count": 15,
     "metadata": {},
     "output_type": "execute_result"
    }
   ],
   "source": [
    "#sorted()\n",
    "\n",
    "anotherlist =[99,1,5,33]\n",
    "sorted(anotherlist)\n"
   ]
  },
  {
   "cell_type": "code",
   "execution_count": 17,
   "id": "db237d96-177d-4863-8762-b3020921ec9d",
   "metadata": {},
   "outputs": [
    {
     "data": {
      "text/plain": [
       "[99, 33, 5, 1]"
      ]
     },
     "execution_count": 17,
     "metadata": {},
     "output_type": "execute_result"
    }
   ],
   "source": [
    "list(reversed(sorted(anotherlist)))"
   ]
  },
  {
   "cell_type": "code",
   "execution_count": 19,
   "id": "4ce349f2-402e-4c08-ae05-84084a371e82",
   "metadata": {},
   "outputs": [
    {
     "data": {
      "text/plain": [
       "[99, 33, 5, 1]"
      ]
     },
     "execution_count": 19,
     "metadata": {},
     "output_type": "execute_result"
    }
   ],
   "source": [
    "sortlist = sorted(anotherlist)\n",
    "sortlist[::-1]"
   ]
  },
  {
   "cell_type": "code",
   "execution_count": 21,
   "id": "7a3b747c-3eb7-4100-82c7-b15e8d424e97",
   "metadata": {},
   "outputs": [],
   "source": [
    "# String realted in built functions"
   ]
  },
  {
   "cell_type": "code",
   "execution_count": 25,
   "id": "e61fe8c6-df98-4f76-9da5-88af1e4b15bf",
   "metadata": {},
   "outputs": [
    {
     "data": {
      "text/plain": [
       "'MANIK'"
      ]
     },
     "execution_count": 25,
     "metadata": {},
     "output_type": "execute_result"
    }
   ],
   "source": [
    "z=\"manik\"\n",
    "z.upper()"
   ]
  },
  {
   "cell_type": "code",
   "execution_count": 35,
   "id": "845755ee-2190-4aaa-b7ad-f04f1429c010",
   "metadata": {},
   "outputs": [
    {
     "name": "stdout",
     "output_type": "stream",
     "text": [
      "['In', 'Out', '_', '_1', '_10', '_11', '_12', '_13', '_14', '_15', '_16', '_17', '_18', '_19', '_2', '_20', '_22', '_24', '_25', '_26', '_27', '_28', '_29', '_3', '_30', '_32', '_34', '_4', '_6', '_8', '_9', '__', '___', '__builtin__', '__builtins__', '__doc__', '__loader__', '__name__', '__package__', '__pandas', '__session__', '__spec__', '_dh', '_i', '_i1', '_i10', '_i11', '_i12', '_i13', '_i14', '_i15', '_i16', '_i17', '_i18', '_i19', '_i2', '_i20', '_i21', '_i22', '_i23', '_i24', '_i25', '_i26', '_i27', '_i28', '_i29', '_i3', '_i30', '_i31', '_i32', '_i33', '_i34', '_i35', '_i4', '_i5', '_i6', '_i7', '_i8', '_i9', '_ih', '_ii', '_iii', '_oh', 'anotherlist', 'dataframe_columns', 'dataframe_hash', 'dtypes_str', 'exit', 'get_dataframes', 'get_ipython', 'getpass', 'hashlib', 'import_pandas_safely', 'is_data_frame', 'json', 'open', 'quit', 'revmylist', 'sortlist', 'z']\n"
     ]
    }
   ],
   "source": [
    "print(dir())"
   ]
  },
  {
   "cell_type": "code",
   "execution_count": 33,
   "id": "0f9ed157-95ea-4a87-ad08-4c28e9746bc2",
   "metadata": {},
   "outputs": [
    {
     "name": "stdout",
     "output_type": "stream",
     "text": [
      "['__add__', '__class__', '__contains__', '__delattr__', '__dir__', '__doc__', '__eq__', '__format__', '__ge__', '__getattribute__', '__getitem__', '__getnewargs__', '__getstate__', '__gt__', '__hash__', '__init__', '__init_subclass__', '__iter__', '__le__', '__len__', '__lt__', '__mod__', '__mul__', '__ne__', '__new__', '__reduce__', '__reduce_ex__', '__repr__', '__rmod__', '__rmul__', '__setattr__', '__sizeof__', '__str__', '__subclasshook__', 'capitalize', 'casefold', 'center', 'count', 'encode', 'endswith', 'expandtabs', 'find', 'format', 'format_map', 'index', 'isalnum', 'isalpha', 'isascii', 'isdecimal', 'isdigit', 'isidentifier', 'islower', 'isnumeric', 'isprintable', 'isspace', 'istitle', 'isupper', 'join', 'ljust', 'lower', 'lstrip', 'maketrans', 'partition', 'removeprefix', 'removesuffix', 'replace', 'rfind', 'rindex', 'rjust', 'rpartition', 'rsplit', 'rstrip', 'split', 'splitlines', 'startswith', 'strip', 'swapcase', 'title', 'translate', 'upper', 'zfill']\n"
     ]
    }
   ],
   "source": [
    "print(dir(str))"
   ]
  },
  {
   "cell_type": "code",
   "execution_count": 31,
   "id": "b4ca5242-6b63-430b-9a06-582bb280cd68",
   "metadata": {},
   "outputs": [
    {
     "name": "stdout",
     "output_type": "stream",
     "text": [
      "['ArithmeticError', 'AssertionError', 'AttributeError', 'BaseException', 'BaseExceptionGroup', 'BlockingIOError', 'BrokenPipeError', 'BufferError', 'BytesWarning', 'ChildProcessError', 'ConnectionAbortedError', 'ConnectionError', 'ConnectionRefusedError', 'ConnectionResetError', 'DeprecationWarning', 'EOFError', 'Ellipsis', 'EncodingWarning', 'EnvironmentError', 'Exception', 'ExceptionGroup', 'False', 'FileExistsError', 'FileNotFoundError', 'FloatingPointError', 'FutureWarning', 'GeneratorExit', 'IOError', 'ImportError', 'ImportWarning', 'IndentationError', 'IndexError', 'InterruptedError', 'IsADirectoryError', 'KeyError', 'KeyboardInterrupt', 'LookupError', 'MemoryError', 'ModuleNotFoundError', 'NameError', 'None', 'NotADirectoryError', 'NotImplemented', 'NotImplementedError', 'OSError', 'OverflowError', 'PendingDeprecationWarning', 'PermissionError', 'ProcessLookupError', 'RecursionError', 'ReferenceError', 'ResourceWarning', 'RuntimeError', 'RuntimeWarning', 'StopAsyncIteration', 'StopIteration', 'SyntaxError', 'SyntaxWarning', 'SystemError', 'SystemExit', 'TabError', 'TimeoutError', 'True', 'TypeError', 'UnboundLocalError', 'UnicodeDecodeError', 'UnicodeEncodeError', 'UnicodeError', 'UnicodeTranslateError', 'UnicodeWarning', 'UserWarning', 'ValueError', 'Warning', 'WindowsError', 'ZeroDivisionError', '__IPYTHON__', '__build_class__', '__debug__', '__doc__', '__import__', '__loader__', '__name__', '__package__', '__spec__', 'abs', 'aiter', 'all', 'anext', 'any', 'ascii', 'bin', 'bool', 'breakpoint', 'bytearray', 'bytes', 'callable', 'chr', 'classmethod', 'compile', 'complex', 'copyright', 'credits', 'delattr', 'dict', 'dir', 'display', 'divmod', 'enumerate', 'eval', 'exec', 'execfile', 'filter', 'float', 'format', 'frozenset', 'get_ipython', 'getattr', 'globals', 'hasattr', 'hash', 'help', 'hex', 'id', 'input', 'int', 'isinstance', 'issubclass', 'iter', 'len', 'license', 'list', 'locals', 'map', 'max', 'memoryview', 'min', 'next', 'object', 'oct', 'open', 'ord', 'pow', 'print', 'property', 'range', 'repr', 'reversed', 'round', 'runfile', 'set', 'setattr', 'slice', 'sorted', 'staticmethod', 'str', 'sum', 'super', 'tuple', 'type', 'vars', 'zip']\n"
     ]
    }
   ],
   "source": [
    "print(dir(__builtins__))  # all functions"
   ]
  },
  {
   "cell_type": "code",
   "execution_count": 37,
   "id": "7d75e33b-dfaa-43ac-8d4d-ca3fa2d0d1d8",
   "metadata": {},
   "outputs": [
    {
     "data": {
      "text/plain": [
       "'hello'"
      ]
     },
     "execution_count": 37,
     "metadata": {},
     "output_type": "execute_result"
    }
   ],
   "source": [
    "z.replace(\"manik\",\"hello\")"
   ]
  },
  {
   "cell_type": "code",
   "execution_count": 43,
   "id": "eee1cd01-9cbc-49d0-be1e-bf6869efecc8",
   "metadata": {},
   "outputs": [
    {
     "name": "stdout",
     "output_type": "stream",
     "text": [
      "manik\n"
     ]
    }
   ],
   "source": [
    "print(z)"
   ]
  },
  {
   "cell_type": "code",
   "execution_count": 45,
   "id": "f68be0b9-f370-4ff0-9202-4357754ee727",
   "metadata": {},
   "outputs": [],
   "source": [
    "z= z.replace(\"manik\",\"hello\")"
   ]
  },
  {
   "cell_type": "code",
   "execution_count": 47,
   "id": "285d7eaf-85da-409a-84e1-54fe507651f3",
   "metadata": {},
   "outputs": [
    {
     "data": {
      "text/plain": [
       "'hello'"
      ]
     },
     "execution_count": 47,
     "metadata": {},
     "output_type": "execute_result"
    }
   ],
   "source": [
    "z"
   ]
  },
  {
   "cell_type": "code",
   "execution_count": 49,
   "id": "7d66c2b5-512c-4588-a35a-9f62a7680eec",
   "metadata": {},
   "outputs": [],
   "source": [
    "z= z.replace(\"hello\",\"hello abc\")"
   ]
  },
  {
   "cell_type": "code",
   "execution_count": 51,
   "id": "3bae82e4-4334-44bb-95ad-0947345f7500",
   "metadata": {},
   "outputs": [
    {
     "data": {
      "text/plain": [
       "'hello abc'"
      ]
     },
     "execution_count": 51,
     "metadata": {},
     "output_type": "execute_result"
    }
   ],
   "source": [
    "z"
   ]
  },
  {
   "cell_type": "code",
   "execution_count": 53,
   "id": "dd9242ee-7df8-4332-9b10-b0281add7d08",
   "metadata": {},
   "outputs": [
    {
     "data": {
      "text/plain": [
       "'hello'"
      ]
     },
     "execution_count": 53,
     "metadata": {},
     "output_type": "execute_result"
    }
   ],
   "source": [
    "z= z.replace(\"hello abc\", \"hello\")\n",
    "z"
   ]
  },
  {
   "cell_type": "code",
   "execution_count": 57,
   "id": "706c472e-0637-41cb-8ba1-03a611edac2a",
   "metadata": {},
   "outputs": [
    {
     "name": "stdout",
     "output_type": "stream",
     "text": [
      "['hello', 'how', 'are', 'you', 'doing', 'I', 'am', 'good']\n"
     ]
    }
   ],
   "source": [
    "z= \"hello how are you doing I am good\"\n",
    "print(z.split(\" \"))"
   ]
  },
  {
   "cell_type": "code",
   "execution_count": 61,
   "id": "a7b0d8ca-fc9b-4f1d-ac92-2b5d18f007a9",
   "metadata": {},
   "outputs": [
    {
     "name": "stdout",
     "output_type": "stream",
     "text": [
      "hello#how#are#you#doing#I#am#good\n"
     ]
    }
   ],
   "source": [
    "print(z.replace(\" \",\"#\"))"
   ]
  },
  {
   "cell_type": "code",
   "execution_count": 69,
   "id": "c1ba9044-24fe-4bbf-b13e-cac00ab61658",
   "metadata": {},
   "outputs": [],
   "source": [
    "listnew  = z.split(\" \")"
   ]
  },
  {
   "cell_type": "code",
   "execution_count": 71,
   "id": "c7ebd58e-109e-41da-b4f6-f9c4c77c121c",
   "metadata": {},
   "outputs": [
    {
     "data": {
      "text/plain": [
       "list"
      ]
     },
     "execution_count": 71,
     "metadata": {},
     "output_type": "execute_result"
    }
   ],
   "source": [
    "type(listnew)"
   ]
  },
  {
   "cell_type": "code",
   "execution_count": 67,
   "id": "e19967e1-b486-48f2-9560-596487e7c1fa",
   "metadata": {},
   "outputs": [
    {
     "data": {
      "text/plain": [
       "str"
      ]
     },
     "execution_count": 67,
     "metadata": {},
     "output_type": "execute_result"
    }
   ],
   "source": [
    "type(z)"
   ]
  },
  {
   "cell_type": "code",
   "execution_count": 73,
   "id": "c7ceef8a-b236-473d-a2f7-ba6aa11cd8ec",
   "metadata": {},
   "outputs": [
    {
     "data": {
      "text/plain": [
       "'hellohowareyoudoingIamgood'"
      ]
     },
     "execution_count": 73,
     "metadata": {},
     "output_type": "execute_result"
    }
   ],
   "source": [
    "\n",
    "\"\".join(listnew)"
   ]
  },
  {
   "cell_type": "code",
   "execution_count": 204,
   "id": "8fb58878-fe18-496a-b3ad-6dc22db97872",
   "metadata": {},
   "outputs": [],
   "source": [
    "#zip >> pairing\n"
   ]
  },
  {
   "cell_type": "code",
   "execution_count": 85,
   "id": "8f5f96e0-b0e1-4f11-8c97-e41c9ee63984",
   "metadata": {},
   "outputs": [
    {
     "data": {
      "text/plain": [
       "list"
      ]
     },
     "execution_count": 85,
     "metadata": {},
     "output_type": "execute_result"
    }
   ],
   "source": [
    "a1 = [\"Abdul\", \"Reema\"]\n",
    "b1 = [\"Male\", \"Female\"]\n",
    "\n",
    "c1=list(zip(a1,b1))\n",
    "\n",
    "c1\n",
    "\n",
    "type(c1)"
   ]
  },
  {
   "cell_type": "code",
   "execution_count": 87,
   "id": "b28e7b0c-14eb-4954-bdfa-bad0b288ca07",
   "metadata": {},
   "outputs": [
    {
     "data": {
      "text/plain": [
       "(('Abdul', 'Male'), ('Reema', 'Female'))"
      ]
     },
     "execution_count": 87,
     "metadata": {},
     "output_type": "execute_result"
    }
   ],
   "source": [
    "tuple(c1)"
   ]
  },
  {
   "cell_type": "code",
   "execution_count": 91,
   "id": "b07b8d6d-f6fc-4697-8ab3-805d692ea6da",
   "metadata": {},
   "outputs": [
    {
     "data": {
      "text/plain": [
       "(('Abdul', 'Male'), ('Reema', 'Female'))"
      ]
     },
     "execution_count": 91,
     "metadata": {},
     "output_type": "execute_result"
    }
   ],
   "source": [
    "c1=tuple(zip(a1,b1))\n",
    "c1"
   ]
  },
  {
   "cell_type": "code",
   "execution_count": 93,
   "id": "5f0d8208-ea2c-439f-a4af-8fb8868affcd",
   "metadata": {},
   "outputs": [
    {
     "data": {
      "text/plain": [
       "['__add__',\n",
       " '__class__',\n",
       " '__class_getitem__',\n",
       " '__contains__',\n",
       " '__delattr__',\n",
       " '__dir__',\n",
       " '__doc__',\n",
       " '__eq__',\n",
       " '__format__',\n",
       " '__ge__',\n",
       " '__getattribute__',\n",
       " '__getitem__',\n",
       " '__getnewargs__',\n",
       " '__getstate__',\n",
       " '__gt__',\n",
       " '__hash__',\n",
       " '__init__',\n",
       " '__init_subclass__',\n",
       " '__iter__',\n",
       " '__le__',\n",
       " '__len__',\n",
       " '__lt__',\n",
       " '__mul__',\n",
       " '__ne__',\n",
       " '__new__',\n",
       " '__reduce__',\n",
       " '__reduce_ex__',\n",
       " '__repr__',\n",
       " '__rmul__',\n",
       " '__setattr__',\n",
       " '__sizeof__',\n",
       " '__str__',\n",
       " '__subclasshook__',\n",
       " 'count',\n",
       " 'index']"
      ]
     },
     "execution_count": 93,
     "metadata": {},
     "output_type": "execute_result"
    }
   ],
   "source": [
    "dir(tuple)"
   ]
  },
  {
   "cell_type": "code",
   "execution_count": 111,
   "id": "29f36802-2e17-488d-9165-d17000a60a95",
   "metadata": {},
   "outputs": [
    {
     "data": {
      "text/plain": [
       "<function tuple.index(value, start=0, stop=9223372036854775807, /)>"
      ]
     },
     "execution_count": 111,
     "metadata": {},
     "output_type": "execute_result"
    }
   ],
   "source": [
    "c1.index ## ??????????"
   ]
  },
  {
   "cell_type": "markdown",
   "id": "bcad6a39-db53-43a0-8c8f-2588198ac309",
   "metadata": {},
   "source": [
    "# Lamda functions\n",
    "\n",
    "# no name\n",
    "# should be written in one line\n",
    "# return key word sould not be used\n",
    "\n"
   ]
  },
  {
   "cell_type": "code",
   "execution_count": 139,
   "id": "71986b33-8727-4004-a153-84b5f80328a6",
   "metadata": {},
   "outputs": [
    {
     "data": {
      "text/plain": [
       "<function __main__.<lambda>(var1, var2, var3=1)>"
      ]
     },
     "execution_count": 139,
     "metadata": {},
     "output_type": "execute_result"
    }
   ],
   "source": [
    "sumVal  = lambda var1, var2, var3=1 : var1+var2+var3\n",
    "sumVal"
   ]
  },
  {
   "cell_type": "code",
   "execution_count": 141,
   "id": "f460c6d1-4d93-4454-96c0-ae9fa8d40703",
   "metadata": {},
   "outputs": [
    {
     "data": {
      "text/plain": [
       "31"
      ]
     },
     "execution_count": 141,
     "metadata": {},
     "output_type": "execute_result"
    }
   ],
   "source": [
    "sumVal(10,20)"
   ]
  },
  {
   "cell_type": "code",
   "execution_count": 145,
   "id": "ce63bb6c-4075-4dc7-8bbc-b17f349219ce",
   "metadata": {},
   "outputs": [
    {
     "data": {
      "text/plain": [
       "'abcxyz'"
      ]
     },
     "execution_count": 145,
     "metadata": {},
     "output_type": "execute_result"
    }
   ],
   "source": [
    "sumVal  = lambda var1, var2 : var1+var2\n",
    "sumVal\n",
    "sumVal(\"abc\",\"xyz\")"
   ]
  },
  {
   "cell_type": "code",
   "execution_count": 147,
   "id": "a96943ab-b21d-4d79-b8e4-3151d4156f8e",
   "metadata": {},
   "outputs": [],
   "source": [
    "x1 = lambda a,b,c : a*b/c"
   ]
  },
  {
   "cell_type": "code",
   "execution_count": 149,
   "id": "9f613d45-9dc5-4030-b291-2f8160a618c0",
   "metadata": {},
   "outputs": [
    {
     "data": {
      "text/plain": [
       "2.0"
      ]
     },
     "execution_count": 149,
     "metadata": {},
     "output_type": "execute_result"
    }
   ],
   "source": [
    "x1(2,2,2)"
   ]
  },
  {
   "cell_type": "code",
   "execution_count": 159,
   "id": "cd25c398-58ad-4dc5-bf68-35554cc3b32f",
   "metadata": {},
   "outputs": [
    {
     "data": {
      "text/plain": [
       "[2, 3, 4, 5]"
      ]
     },
     "execution_count": 159,
     "metadata": {},
     "output_type": "execute_result"
    }
   ],
   "source": [
    "mylist"
   ]
  },
  {
   "cell_type": "code",
   "execution_count": 173,
   "id": "b45787b9-0aec-449a-9635-93fcd5c26570",
   "metadata": {},
   "outputs": [
    {
     "name": "stdout",
     "output_type": "stream",
     "text": [
      "3\n",
      "4\n",
      "5\n"
     ]
    },
    {
     "data": {
      "text/plain": [
       "[3, 4, 5]"
      ]
     },
     "execution_count": 173,
     "metadata": {},
     "output_type": "execute_result"
    }
   ],
   "source": [
    "for i in mylist:\n",
    "    if(i>2):\n",
    "        print(i)\n",
    "\n",
    "\n"
   ]
  },
  {
   "cell_type": "code",
   "execution_count": 175,
   "id": "d3d678c2-e26a-485a-9903-32662666bd21",
   "metadata": {},
   "outputs": [
    {
     "data": {
      "text/plain": [
       "[3, 4, 5]"
      ]
     },
     "execution_count": 175,
     "metadata": {},
     "output_type": "execute_result"
    }
   ],
   "source": [
    "list(filter(lambda i: i>2, mylist))"
   ]
  },
  {
   "cell_type": "code",
   "execution_count": 177,
   "id": "0a055b50-634d-4e57-8ace-1103bef45382",
   "metadata": {},
   "outputs": [
    {
     "name": "stdout",
     "output_type": "stream",
     "text": [
      "False\n",
      "True\n",
      "True\n",
      "True\n"
     ]
    }
   ],
   "source": [
    "condition = lambda i: i>2\n",
    "\n",
    "for i in mylist:\n",
    "    print(condition(i))"
   ]
  },
  {
   "cell_type": "code",
   "execution_count": 188,
   "id": "f9b459e5-ca71-41f3-94ce-8844039b05f4",
   "metadata": {},
   "outputs": [
    {
     "ename": "TypeError",
     "evalue": "'>' not supported between instances of 'list' and 'int'",
     "output_type": "error",
     "traceback": [
      "\u001b[1;31m---------------------------------------------------------------------------\u001b[0m",
      "\u001b[1;31mTypeError\u001b[0m                                 Traceback (most recent call last)",
      "Cell \u001b[1;32mIn[188], line 2\u001b[0m\n\u001b[0;32m      1\u001b[0m p \u001b[38;5;241m=\u001b[39m [\u001b[38;5;241m5\u001b[39m,\u001b[38;5;241m6\u001b[39m,\u001b[38;5;241m7\u001b[39m]\n\u001b[1;32m----> 2\u001b[0m \u001b[38;5;28mfilter\u001b[39m(p\u001b[38;5;241m>\u001b[39m\u001b[38;5;241m2\u001b[39m, p)\n",
      "\u001b[1;31mTypeError\u001b[0m: '>' not supported between instances of 'list' and 'int'"
     ]
    }
   ],
   "source": [
    "p = [5,6,7]\n",
    "filter(p>2, p)"
   ]
  },
  {
   "cell_type": "markdown",
   "id": "10bc199b-2fd8-4f00-b9bd-8069ef49ac2f",
   "metadata": {},
   "source": [
    "# import "
   ]
  },
  {
   "cell_type": "code",
   "execution_count": 194,
   "id": "7886d845-6def-4edc-91f0-67534f7c9542",
   "metadata": {},
   "outputs": [
    {
     "data": {
      "text/plain": [
       "10"
      ]
     },
     "execution_count": 194,
     "metadata": {},
     "output_type": "execute_result"
    }
   ],
   "source": [
    "# reduce(name of another function, variable)\n",
    "\n",
    "from functools import reduce\n",
    "reduce((lambda a,b :  a+b), [1,2,3,4])"
   ]
  },
  {
   "cell_type": "code",
   "execution_count": 196,
   "id": "2201a9ec-443e-441e-9c73-22a733624f42",
   "metadata": {},
   "outputs": [
    {
     "name": "stdout",
     "output_type": "stream",
     "text": [
      "99\n",
      "121\n",
      "124\n"
     ]
    }
   ],
   "source": [
    "j=0\n",
    "for i in [99,22,3]:\n",
    "    j=i+j\n",
    "    print(j)"
   ]
  },
  {
   "cell_type": "code",
   "execution_count": 200,
   "id": "580c8454-ddd5-44d3-82be-cdbda520534c",
   "metadata": {},
   "outputs": [
    {
     "data": {
      "text/plain": [
       "124"
      ]
     },
     "execution_count": 200,
     "metadata": {},
     "output_type": "execute_result"
    }
   ],
   "source": [
    "reduce((lambda a,b: a+b), [99,22,3])"
   ]
  },
  {
   "cell_type": "code",
   "execution_count": 202,
   "id": "4029f506-ac4d-4817-8bbd-e12b9cb3fd34",
   "metadata": {},
   "outputs": [
    {
     "data": {
      "text/plain": [
       "99"
      ]
     },
     "execution_count": 202,
     "metadata": {},
     "output_type": "execute_result"
    }
   ],
   "source": [
    "reduce((lambda a,b: a+b), [99])"
   ]
  },
  {
   "cell_type": "code",
   "execution_count": 210,
   "id": "534a7647-e7b2-4a0a-bcb1-e118bd413d24",
   "metadata": {},
   "outputs": [],
   "source": [
    "#MAP\n",
    "# map(name of another function, iterable-object)"
   ]
  },
  {
   "cell_type": "code",
   "execution_count": 218,
   "id": "affe2c32-91af-49b4-965c-e9e2b22412ce",
   "metadata": {},
   "outputs": [
    {
     "name": "stdout",
     "output_type": "stream",
     "text": [
      "[2, 3, 4]\n"
     ]
    }
   ],
   "source": [
    "def addOne(a):\n",
    "    return(a+1)\n",
    "\n",
    "addOne(5)\n",
    "\n",
    "print(list(map(addOne, [1,2,3])))  #type casting"
   ]
  },
  {
   "cell_type": "code",
   "execution_count": 224,
   "id": "61e460dc-1089-43ad-a614-013a00b60e3e",
   "metadata": {},
   "outputs": [
    {
     "ename": "TypeError",
     "evalue": "addOne() takes 1 positional argument but 2 were given",
     "output_type": "error",
     "traceback": [
      "\u001b[1;31m---------------------------------------------------------------------------\u001b[0m",
      "\u001b[1;31mTypeError\u001b[0m                                 Traceback (most recent call last)",
      "Cell \u001b[1;32mIn[224], line 1\u001b[0m\n\u001b[1;32m----> 1\u001b[0m reduce(addOne, [\u001b[38;5;241m1\u001b[39m,\u001b[38;5;241m2\u001b[39m,\u001b[38;5;241m3\u001b[39m])\n",
      "\u001b[1;31mTypeError\u001b[0m: addOne() takes 1 positional argument but 2 were given"
     ]
    }
   ],
   "source": [
    "reduce(addOne, [1,2,3])"
   ]
  },
  {
   "cell_type": "markdown",
   "id": "9ead3238-ccc9-4ade-b4a9-4c96100aa4b2",
   "metadata": {},
   "source": [
    "# MAIN function  \n",
    "\n",
    "page 30\n"
   ]
  },
  {
   "cell_type": "code",
   "execution_count": 236,
   "id": "5b758d4b-31aa-4604-bed0-864954d277a3",
   "metadata": {},
   "outputs": [
    {
     "name": "stdout",
     "output_type": "stream",
     "text": [
      "***********\n",
      "hello world\n",
      "new world\n"
     ]
    }
   ],
   "source": [
    "def printName():\n",
    "    print(\"hello world\")\n",
    "\n",
    "def printName2():\n",
    "    print(\"new world\")\n",
    "\n",
    "def main():\n",
    "    print(\"***********\")\n",
    "    printName()\n",
    "    printName2()\n",
    "    \n",
    "#if __name__== \"__main__\": #main function\n",
    "#    print(12345)\n",
    "#   main()\n",
    "\n",
    "main()\n",
    "  "
   ]
  },
  {
   "cell_type": "code",
   "execution_count": null,
   "id": "92e44b3a-609f-4fad-b8fc-2b1f18aa2a0b",
   "metadata": {},
   "outputs": [],
   "source": []
  }
 ],
 "metadata": {
  "kernelspec": {
   "display_name": "Python 3 (ipykernel)",
   "language": "python",
   "name": "python3"
  },
  "language_info": {
   "codemirror_mode": {
    "name": "ipython",
    "version": 3
   },
   "file_extension": ".py",
   "mimetype": "text/x-python",
   "name": "python",
   "nbconvert_exporter": "python",
   "pygments_lexer": "ipython3",
   "version": "3.12.7"
  }
 },
 "nbformat": 4,
 "nbformat_minor": 5
}
