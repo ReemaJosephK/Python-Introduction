{
 "cells": [
  {
   "cell_type": "code",
   "execution_count": 3,
   "id": "99d5287f-7724-4500-b31b-2ab2e9883adc",
   "metadata": {},
   "outputs": [
    {
     "name": "stdout",
     "output_type": "stream",
     "text": [
      "reema,joseph\n"
     ]
    }
   ],
   "source": [
    "print(\"reema\", end=\",\")\n",
    "print (\"joseph\")"
   ]
  },
  {
   "cell_type": "markdown",
   "id": "c1ce6a9a-b034-498c-8f21-3a5c9017a7a6",
   "metadata": {},
   "source": [
    "# Type casting"
   ]
  },
  {
   "cell_type": "code",
   "execution_count": 6,
   "id": "6996eb74-38f1-42ce-a91d-1a73a99cfe6d",
   "metadata": {},
   "outputs": [
    {
     "name": "stdin",
     "output_type": "stream",
     "text": [
      "enter your marks:  40\n"
     ]
    }
   ],
   "source": [
    "marks = input(\"enter your marks: \") #default datatype from input() is string"
   ]
  },
  {
   "cell_type": "code",
   "execution_count": 10,
   "id": "c33a96e6-19b8-4ee0-8ffc-7b13f4cafad3",
   "metadata": {},
   "outputs": [
    {
     "name": "stdout",
     "output_type": "stream",
     "text": [
      "40\n",
      "<class 'str'>\n"
     ]
    }
   ],
   "source": [
    "print(marks)\n",
    "print(type(marks))"
   ]
  },
  {
   "cell_type": "code",
   "execution_count": 12,
   "id": "7da3f16d-0d83-4953-95e1-ce2443570b3a",
   "metadata": {},
   "outputs": [],
   "source": [
    "# converting from datatype to another\n",
    "marks_new = int(marks)"
   ]
  },
  {
   "cell_type": "code",
   "execution_count": 14,
   "id": "f1e2d91a-7176-42c6-8e70-01a0668e9965",
   "metadata": {},
   "outputs": [
    {
     "name": "stdout",
     "output_type": "stream",
     "text": [
      "<class 'int'>\n"
     ]
    }
   ],
   "source": [
    "print(type(marks_new))"
   ]
  },
  {
   "cell_type": "code",
   "execution_count": 16,
   "id": "2026db16-bde2-4dcd-9270-b1db29cfe8ce",
   "metadata": {},
   "outputs": [
    {
     "name": "stdout",
     "output_type": "stream",
     "text": [
      "1547309577104\n",
      "140735928217240\n"
     ]
    }
   ],
   "source": [
    "print(id(marks))\n",
    "print(id(marks_new))"
   ]
  },
  {
   "cell_type": "code",
   "execution_count": 19,
   "id": "dca3c96d-704c-4d6c-bdc9-4d5339a41794",
   "metadata": {},
   "outputs": [
    {
     "name": "stdout",
     "output_type": "stream",
     "text": [
      "True\n"
     ]
    }
   ],
   "source": [
    "a=\"True\"\n",
    "b = bool(a)\n",
    "print(b)"
   ]
  },
  {
   "cell_type": "markdown",
   "id": "5a244ad9-2c59-48b0-8454-58c03595894f",
   "metadata": {},
   "source": [
    "# implicit typecasting"
   ]
  },
  {
   "cell_type": "code",
   "execution_count": 27,
   "id": "95257366-b738-45a4-b58b-2a74a119cac6",
   "metadata": {},
   "outputs": [
    {
     "name": "stdout",
     "output_type": "stream",
     "text": [
      "<class 'int'>\n",
      "<class 'float'>\n"
     ]
    }
   ],
   "source": [
    "x=10\n",
    "print(type(x))\n",
    "y=10.1\n",
    "x = x+y \n",
    "print(type(x))"
   ]
  },
  {
   "cell_type": "code",
   "execution_count": 29,
   "id": "400c03a5-40b3-4be9-928f-6e85de3513f6",
   "metadata": {},
   "outputs": [],
   "source": [
    "# ..............."
   ]
  },
  {
   "cell_type": "code",
   "execution_count": 31,
   "id": "c7abd618-b50a-401c-9cb7-bcdc7804ac2b",
   "metadata": {},
   "outputs": [
    {
     "name": "stdin",
     "output_type": "stream",
     "text": [
      "enter your age:  17\n"
     ]
    }
   ],
   "source": [
    "age = int( input(\"enter your age: \"))"
   ]
  },
  {
   "cell_type": "code",
   "execution_count": 41,
   "id": "7f0fa88f-139d-4083-8a62-e92a644640ff",
   "metadata": {},
   "outputs": [
    {
     "name": "stdin",
     "output_type": "stream",
     "text": [
      "enter your age:  -1\n"
     ]
    },
    {
     "name": "stdout",
     "output_type": "stream",
     "text": [
      "invalid age\n"
     ]
    }
   ],
   "source": [
    "age = int( input(\"enter your age: \"))\n",
    "if(age>60):\n",
    "    print(\"senior citizen\")\n",
    "elif(age>=18):\n",
    "    print(\"adult\")\n",
    "elif(age>=13):\n",
    "    print(\"teen\")\n",
    "elif(age>=0):\n",
    "    print(\"child\")\n",
    "else:\n",
    "    print(\"invalid age\")"
   ]
  },
  {
   "cell_type": "code",
   "execution_count": 53,
   "id": "47579895-3e05-40dd-8e0f-69ff23f55c8e",
   "metadata": {},
   "outputs": [
    {
     "name": "stdin",
     "output_type": "stream",
     "text": [
      "enter a number:  1\n"
     ]
    },
    {
     "name": "stdout",
     "output_type": "stream",
     "text": [
      "its a positive number\n"
     ]
    }
   ],
   "source": [
    "# positive or negative input\n",
    "num = int( input(\"enter a number: \"))\n",
    "if(num>0):\n",
    "    print(\"its a positive number\")\n",
    "elif(num==0):\n",
    "    print(\"input is zero\")\n",
    "elif(num<0):\n",
    "    print(\"its a negative number\")\n",
    "else:\n",
    "    print(\"invalid input\")"
   ]
  },
  {
   "cell_type": "code",
   "execution_count": 61,
   "id": "da931cd5-3f91-44bb-b7d5-aac951937296",
   "metadata": {},
   "outputs": [
    {
     "name": "stdin",
     "output_type": "stream",
     "text": [
      "enter a number:  0\n"
     ]
    },
    {
     "name": "stdout",
     "output_type": "stream",
     "text": [
      "even number\n"
     ]
    }
   ],
   "source": [
    "# even or odd\n",
    "num = int( input(\"enter a number: \"))\n",
    "\n",
    "if(num%2==0):\n",
    "    print(\"even number\")\n",
    "elif(num%2==1):\n",
    "    print(\"odd number\")\n",
    "else:\n",
    "    print(\"invalid input\")"
   ]
  },
  {
   "cell_type": "markdown",
   "id": "5a9550b8-e301-430e-ad83-70d04f56e408",
   "metadata": {},
   "source": [
    "# List\n"
   ]
  },
  {
   "cell_type": "code",
   "execution_count": 64,
   "id": "6ce47973-0f4e-4a6e-a4ad-844c3a8e6996",
   "metadata": {},
   "outputs": [],
   "source": [
    "a=[1,2,3,4,5,6,7]"
   ]
  },
  {
   "cell_type": "code",
   "execution_count": 66,
   "id": "a9953024-5a4c-4218-aaad-08b314b1e885",
   "metadata": {},
   "outputs": [
    {
     "data": {
      "text/plain": [
       "[2, 3]"
      ]
     },
     "execution_count": 66,
     "metadata": {},
     "output_type": "execute_result"
    }
   ],
   "source": [
    "a[1:3]"
   ]
  },
  {
   "cell_type": "code",
   "execution_count": 68,
   "id": "e2466394-b479-4079-8e87-a10ef378a01c",
   "metadata": {},
   "outputs": [
    {
     "name": "stdout",
     "output_type": "stream",
     "text": [
      "ma\n"
     ]
    }
   ],
   "source": [
    "a=\"reema\"\n",
    "print(a[3:5])"
   ]
  },
  {
   "cell_type": "code",
   "execution_count": 70,
   "id": "d8baaaa3-2a07-4067-8f9c-6c360c613b8d",
   "metadata": {},
   "outputs": [
    {
     "data": {
      "text/plain": [
       "'ameer'"
      ]
     },
     "execution_count": 70,
     "metadata": {},
     "output_type": "execute_result"
    }
   ],
   "source": [
    "a[::-1]"
   ]
  },
  {
   "cell_type": "code",
   "execution_count": 72,
   "id": "415106af-4972-4c86-81ec-78b534579b81",
   "metadata": {},
   "outputs": [
    {
     "data": {
      "text/plain": [
       "'reema'"
      ]
     },
     "execution_count": 72,
     "metadata": {},
     "output_type": "execute_result"
    }
   ],
   "source": [
    "a[:]"
   ]
  },
  {
   "cell_type": "code",
   "execution_count": 74,
   "id": "609c3c69-5cf8-46f1-8bc6-6dc678b47185",
   "metadata": {},
   "outputs": [
    {
     "data": {
      "text/plain": [
       "'a'"
      ]
     },
     "execution_count": 74,
     "metadata": {},
     "output_type": "execute_result"
    }
   ],
   "source": [
    "a[-1:]"
   ]
  },
  {
   "cell_type": "code",
   "execution_count": 76,
   "id": "d918809a-29fa-4b5d-bda0-d57c9e5ae8a0",
   "metadata": {},
   "outputs": [
    {
     "data": {
      "text/plain": [
       "'reem'"
      ]
     },
     "execution_count": 76,
     "metadata": {},
     "output_type": "execute_result"
    }
   ],
   "source": [
    "a[:-1]"
   ]
  },
  {
   "cell_type": "code",
   "execution_count": 78,
   "id": "9676d30c-965c-42e2-be9c-8848aa1778cd",
   "metadata": {},
   "outputs": [
    {
     "data": {
      "text/plain": [
       "'ema'"
      ]
     },
     "execution_count": 78,
     "metadata": {},
     "output_type": "execute_result"
    }
   ],
   "source": [
    "a[-3:]"
   ]
  },
  {
   "cell_type": "code",
   "execution_count": 84,
   "id": "e064b9fa-82bd-4b18-8d0a-4f2a84d01688",
   "metadata": {},
   "outputs": [
    {
     "data": {
      "text/plain": [
       "'em'"
      ]
     },
     "execution_count": 84,
     "metadata": {},
     "output_type": "execute_result"
    }
   ],
   "source": [
    "a[-3:-1]"
   ]
  },
  {
   "cell_type": "code",
   "execution_count": 86,
   "id": "36472ac4-9a6a-4956-8554-b7c455508622",
   "metadata": {},
   "outputs": [],
   "source": [
    "#....\n",
    "slicing\n",
    "varname[start:end+1: step/jumping]\n",
    "\n"
   ]
  },
  {
   "cell_type": "code",
   "execution_count": 100,
   "id": "954130df-bc38-4a0b-84e2-7efccde20c7c",
   "metadata": {},
   "outputs": [
    {
     "data": {
      "text/plain": [
       "'adgjm'"
      ]
     },
     "execution_count": 100,
     "metadata": {},
     "output_type": "execute_result"
    }
   ],
   "source": [
    "b=\"abcdefghijklmn\"\n",
    "b[0::3]"
   ]
  },
  {
   "cell_type": "markdown",
   "id": "ea80b8a6-64e1-4451-bf7a-925737ca00d9",
   "metadata": {},
   "source": [
    "# LIst Methods\n",
    "\n",
    "extend and append() difference"
   ]
  },
  {
   "cell_type": "code",
   "execution_count": 106,
   "id": "f39fcc80-76b6-4f11-8d25-d7c7934c0ac0",
   "metadata": {},
   "outputs": [
    {
     "name": "stdout",
     "output_type": "stream",
     "text": [
      "[1, 2, [3, 4]]\n"
     ]
    }
   ],
   "source": [
    "x=[1,2]\n",
    "x.append([3,4])\n",
    "print(x)"
   ]
  },
  {
   "cell_type": "code",
   "execution_count": 108,
   "id": "155974a9-9505-45ec-9181-dccfa81c2649",
   "metadata": {},
   "outputs": [
    {
     "name": "stdout",
     "output_type": "stream",
     "text": [
      "[1, 2, 3, 4]\n"
     ]
    }
   ],
   "source": [
    "y=[1,2]\n",
    "y.extend([3,4])\n",
    "print(y)"
   ]
  },
  {
   "cell_type": "code",
   "execution_count": 112,
   "id": "94da7873-29de-43ae-9ee2-284c48fcabbf",
   "metadata": {},
   "outputs": [
    {
     "data": {
      "text/plain": [
       "3"
      ]
     },
     "execution_count": 112,
     "metadata": {},
     "output_type": "execute_result"
    }
   ],
   "source": [
    "#length function\n",
    "\n",
    "len(x)"
   ]
  },
  {
   "cell_type": "code",
   "execution_count": 132,
   "id": "71e3ca15-900d-4e4f-91d4-df06014c98a8",
   "metadata": {},
   "outputs": [],
   "source": [
    "x.extend(y)"
   ]
  },
  {
   "cell_type": "code",
   "execution_count": 122,
   "id": "5b245609-585a-4c94-8339-9fc4200149d4",
   "metadata": {},
   "outputs": [
    {
     "name": "stdout",
     "output_type": "stream",
     "text": [
      "[1, 2, [3, 4], 1, 2, 3, 4, 1, 2, 3, 4, 1, 2, 3, 4]\n"
     ]
    }
   ],
   "source": [
    "print(x)"
   ]
  },
  {
   "cell_type": "code",
   "execution_count": 124,
   "id": "6b755513-5466-45c6-ab28-ad105a9f2d61",
   "metadata": {},
   "outputs": [
    {
     "data": {
      "text/plain": [
       "4"
      ]
     },
     "execution_count": 124,
     "metadata": {},
     "output_type": "execute_result"
    }
   ],
   "source": [
    "x.pop()"
   ]
  },
  {
   "cell_type": "code",
   "execution_count": 134,
   "id": "81a08f47-f430-435d-81d9-c18325cafd29",
   "metadata": {},
   "outputs": [
    {
     "name": "stdout",
     "output_type": "stream",
     "text": [
      "[1, 2, [3, 4], 2, 3, 4, 1, 2, 3, 4, 1, 2, 3, 1, 2, 3, 4]\n"
     ]
    }
   ],
   "source": [
    "print(x)"
   ]
  },
  {
   "cell_type": "code",
   "execution_count": 128,
   "id": "a8edd5c7-e0ff-4a0f-bf28-727e0854374c",
   "metadata": {},
   "outputs": [
    {
     "data": {
      "text/plain": [
       "1"
      ]
     },
     "execution_count": 128,
     "metadata": {},
     "output_type": "execute_result"
    }
   ],
   "source": [
    "x.pop(3)"
   ]
  },
  {
   "cell_type": "code",
   "execution_count": 130,
   "id": "cbeb6c25-6784-4d9a-8588-377d0c43f7a1",
   "metadata": {},
   "outputs": [
    {
     "name": "stdout",
     "output_type": "stream",
     "text": [
      "[1, 2, [3, 4], 2, 3, 4, 1, 2, 3, 4, 1, 2, 3]\n"
     ]
    }
   ],
   "source": [
    "print(x)"
   ]
  },
  {
   "cell_type": "code",
   "execution_count": 136,
   "id": "76518d31-6152-4b65-9385-15e1096beeb9",
   "metadata": {},
   "outputs": [],
   "source": [
    "a=2"
   ]
  },
  {
   "cell_type": "code",
   "execution_count": 142,
   "id": "dee629bd-666b-41c4-9ee1-22d3fafa111c",
   "metadata": {},
   "outputs": [],
   "source": [
    "a=a+2"
   ]
  },
  {
   "cell_type": "code",
   "execution_count": 144,
   "id": "0af51412-c2ff-4e5c-923a-0521c9da8fb7",
   "metadata": {},
   "outputs": [
    {
     "name": "stdout",
     "output_type": "stream",
     "text": [
      "6\n"
     ]
    }
   ],
   "source": [
    "print(a)"
   ]
  },
  {
   "cell_type": "code",
   "execution_count": 146,
   "id": "7bb5719a-b913-48a7-a910-2e54c4508977",
   "metadata": {},
   "outputs": [
    {
     "name": "stdout",
     "output_type": "stream",
     "text": [
      "['start', 1, 2, [3, 4], 2, 3, 4, 1, 2, 3, 4, 1, 2, 3, 1, 2, 3, 4]\n"
     ]
    }
   ],
   "source": [
    "x.insert(0,\"start\")\n",
    "print(x)"
   ]
  },
  {
   "cell_type": "code",
   "execution_count": 150,
   "id": "3ed76092-168a-4960-9b2d-6f3c0fb68967",
   "metadata": {},
   "outputs": [
    {
     "name": "stdout",
     "output_type": "stream",
     "text": [
      "[[100, 200], 'start', 1, 2, [3, 4], 2, 3, 4, 1, 2, 3, 4, 1, 2, 3, 1, 2, 3, 4]\n"
     ]
    }
   ],
   "source": [
    "x.insert(0,[100,200])\n",
    "print(x)"
   ]
  },
  {
   "cell_type": "code",
   "execution_count": 160,
   "id": "e6cca33c-0cc5-4d0c-b5c9-3ec28cd9e706",
   "metadata": {},
   "outputs": [
    {
     "ename": "ValueError",
     "evalue": "list.remove(x): x not in list",
     "output_type": "error",
     "traceback": [
      "\u001b[1;31m---------------------------------------------------------------------------\u001b[0m",
      "\u001b[1;31mValueError\u001b[0m                                Traceback (most recent call last)",
      "Cell \u001b[1;32mIn[160], line 4\u001b[0m\n\u001b[0;32m      1\u001b[0m \u001b[38;5;66;03m# pop delete based on  index\u001b[39;00m\n\u001b[0;32m      2\u001b[0m \n\u001b[0;32m      3\u001b[0m \u001b[38;5;66;03m#delete first item \u001b[39;00m\n\u001b[1;32m----> 4\u001b[0m x\u001b[38;5;241m.\u001b[39mremove(\u001b[38;5;241m1\u001b[39m)\n\u001b[0;32m      5\u001b[0m \u001b[38;5;28mprint\u001b[39m(x)\n\u001b[0;32m      7\u001b[0m \u001b[38;5;66;03m#delete all rows\u001b[39;00m\n",
      "\u001b[1;31mValueError\u001b[0m: list.remove(x): x not in list"
     ]
    }
   ],
   "source": [
    "# pop delete based on  index\n",
    "\n",
    "#delete first item \n",
    "x.remove(1)\n",
    "print(x)\n",
    "\n",
    "#delete all rows\n",
    "y.clear()\n",
    "print(y)\n",
    "\n",
    "# deleting the entire structure\n",
    "del y\n",
    "print (y)  # this throws error"
   ]
  },
  {
   "cell_type": "code",
   "execution_count": 162,
   "id": "2b6aac4c-b464-4445-a0da-643b556f1225",
   "metadata": {},
   "outputs": [
    {
     "data": {
      "text/plain": [
       "[]"
      ]
     },
     "execution_count": 162,
     "metadata": {},
     "output_type": "execute_result"
    }
   ],
   "source": [
    "newList =[]\n",
    "newList"
   ]
  },
  {
   "cell_type": "code",
   "execution_count": 168,
   "id": "426b8cf1-10dc-4489-b483-223bc8bbaae7",
   "metadata": {},
   "outputs": [],
   "source": [
    "newList.append([\"weer\",\"www\"])"
   ]
  },
  {
   "cell_type": "code",
   "execution_count": 170,
   "id": "ba488af2-2a0c-435f-8068-a4cde0eade06",
   "metadata": {},
   "outputs": [
    {
     "ename": "NameError",
     "evalue": "name 'newlist' is not defined",
     "output_type": "error",
     "traceback": [
      "\u001b[1;31m---------------------------------------------------------------------------\u001b[0m",
      "\u001b[1;31mNameError\u001b[0m                                 Traceback (most recent call last)",
      "Cell \u001b[1;32mIn[170], line 1\u001b[0m\n\u001b[1;32m----> 1\u001b[0m newlist\n",
      "\u001b[1;31mNameError\u001b[0m: name 'newlist' is not defined"
     ]
    }
   ],
   "source": [
    "newlist"
   ]
  },
  {
   "cell_type": "code",
   "execution_count": 172,
   "id": "9c5e9063-7180-46cd-b6d4-fcb3511aa500",
   "metadata": {},
   "outputs": [
    {
     "data": {
      "text/plain": [
       "[['weer', 'www']]"
      ]
     },
     "execution_count": 172,
     "metadata": {},
     "output_type": "execute_result"
    }
   ],
   "source": [
    "newList"
   ]
  },
  {
   "cell_type": "code",
   "execution_count": 174,
   "id": "b61157d9-b452-4b45-9e6a-16f1cb29185f",
   "metadata": {},
   "outputs": [],
   "source": [
    "#  iterable - ore than one elelemt is present .. string , list, tuple, set, dictionary\n",
    "# non iterable means only elemet int float boolean\n",
    "\n"
   ]
  },
  {
   "cell_type": "code",
   "execution_count": 176,
   "id": "5daf00b5-08d4-4605-a696-a9e4c1cd817e",
   "metadata": {},
   "outputs": [],
   "source": [
    "newList.append(222) #allows non -iterables"
   ]
  },
  {
   "cell_type": "code",
   "execution_count": 178,
   "id": "7eb4bf92-32be-4d4f-bbed-acb94d14fb98",
   "metadata": {},
   "outputs": [
    {
     "data": {
      "text/plain": [
       "[['weer', 'www'], 222]"
      ]
     },
     "execution_count": 178,
     "metadata": {},
     "output_type": "execute_result"
    }
   ],
   "source": [
    "newList"
   ]
  },
  {
   "cell_type": "code",
   "execution_count": 182,
   "id": "a912601f-cab5-4294-b7e7-96f71c0fe026",
   "metadata": {},
   "outputs": [
    {
     "ename": "TypeError",
     "evalue": "'int' object is not iterable",
     "output_type": "error",
     "traceback": [
      "\u001b[1;31m---------------------------------------------------------------------------\u001b[0m",
      "\u001b[1;31mTypeError\u001b[0m                                 Traceback (most recent call last)",
      "Cell \u001b[1;32mIn[182], line 1\u001b[0m\n\u001b[1;32m----> 1\u001b[0m newList\u001b[38;5;241m.\u001b[39mextend(\u001b[38;5;241m5555\u001b[39m)\n",
      "\u001b[1;31mTypeError\u001b[0m: 'int' object is not iterable"
     ]
    }
   ],
   "source": [
    "newList.extend(5555) #  doesnot allow noniterables"
   ]
  },
  {
   "cell_type": "code",
   "execution_count": 184,
   "id": "f98a883d-2813-41c1-b84e-2a6aab52343c",
   "metadata": {},
   "outputs": [],
   "source": [
    "newList.extend([1,3,4])"
   ]
  },
  {
   "cell_type": "code",
   "execution_count": 186,
   "id": "4020ae9d-99d7-4779-bcde-a87d59febe3f",
   "metadata": {},
   "outputs": [
    {
     "data": {
      "text/plain": [
       "[['weer', 'www'], 222, 1, 3, 4]"
      ]
     },
     "execution_count": 186,
     "metadata": {},
     "output_type": "execute_result"
    }
   ],
   "source": [
    "newList"
   ]
  },
  {
   "cell_type": "code",
   "execution_count": 189,
   "id": "daf04806-9a19-4679-87d0-5abcaf44db7f",
   "metadata": {},
   "outputs": [],
   "source": [
    "#Range"
   ]
  },
  {
   "cell_type": "code",
   "execution_count": 195,
   "id": "5e0e428f-abeb-4f65-a922-fd44a7bd7b1b",
   "metadata": {},
   "outputs": [
    {
     "name": "stdout",
     "output_type": "stream",
     "text": [
      "['weer', 'www']\n",
      "222\n",
      "1\n",
      "3\n",
      "4\n"
     ]
    }
   ],
   "source": [
    "for n in newList:\n",
    "    print(n)"
   ]
  },
  {
   "cell_type": "code",
   "execution_count": 197,
   "id": "2f475c00-15e8-4eab-9d9d-a22da9cf3c1f",
   "metadata": {},
   "outputs": [
    {
     "name": "stdout",
     "output_type": "stream",
     "text": [
      "5\n",
      "6\n",
      "7\n",
      "8\n",
      "9\n",
      "10\n",
      "11\n",
      "12\n",
      "13\n",
      "14\n",
      "15\n"
     ]
    }
   ],
   "source": [
    "for n in range(5,16,1):\n",
    "    print(n)"
   ]
  },
  {
   "cell_type": "code",
   "execution_count": 1,
   "id": "e9eebb7a-c0eb-4f62-8a9f-53727a0df636",
   "metadata": {},
   "outputs": [
    {
     "name": "stdout",
     "output_type": "stream",
     "text": [
      "56789101112131415"
     ]
    }
   ],
   "source": [
    "for n in range(5,16,1):\n",
    "    print(n, end=\"\")"
   ]
  },
  {
   "cell_type": "code",
   "execution_count": 5,
   "id": "e79ac844-b7d5-41fe-a186-0fe62280e63d",
   "metadata": {},
   "outputs": [
    {
     "name": "stdout",
     "output_type": "stream",
     "text": [
      "123456789"
     ]
    }
   ],
   "source": [
    "for n in range(1,10,):\n",
    "    print(n, end=\"\")"
   ]
  },
  {
   "cell_type": "code",
   "execution_count": 1,
   "id": "60e99c73-064b-40bd-93d0-9b6cd1811e46",
   "metadata": {},
   "outputs": [
    {
     "name": "stdout",
     "output_type": "stream",
     "text": [
      "0123456789"
     ]
    }
   ],
   "source": [
    "for n in range(10):\n",
    "    print(n, end=\"\")"
   ]
  },
  {
   "cell_type": "markdown",
   "id": "47130bd4-fe5b-40da-b462-1701eb0ec6ce",
   "metadata": {},
   "source": [
    "# List comprehension"
   ]
  },
  {
   "cell_type": "code",
   "execution_count": 4,
   "id": "bc793abd-4e38-4c5c-91aa-b13b71636dd7",
   "metadata": {},
   "outputs": [
    {
     "name": "stdout",
     "output_type": "stream",
     "text": [
      "0\n",
      "1\n",
      "4\n",
      "9\n",
      "16\n",
      "25\n",
      "36\n",
      "49\n",
      "64\n",
      "81\n",
      "100\n"
     ]
    }
   ],
   "source": [
    "for i in range(11):\n",
    "    print(i*i)"
   ]
  },
  {
   "cell_type": "code",
   "execution_count": 8,
   "id": "1a64096b-bda4-40bf-8add-d949bb8be798",
   "metadata": {},
   "outputs": [
    {
     "name": "stdout",
     "output_type": "stream",
     "text": [
      "[0, 1, 4, 9, 16, 25, 36, 49, 64, 81, 100]\n"
     ]
    }
   ],
   "source": [
    "# list comprehension\n",
    "\n",
    "x=[i*i for i in range(11)]\n",
    "print(x)"
   ]
  },
  {
   "cell_type": "code",
   "execution_count": 20,
   "id": "aec0709d-8f7e-4205-8ad2-314e48db60e9",
   "metadata": {},
   "outputs": [
    {
     "name": "stdout",
     "output_type": "stream",
     "text": [
      "h is not a vowel\n",
      "e is a vowel\n",
      "l is not a vowel\n",
      "l is not a vowel\n",
      "o is a vowel\n",
      "  is not a vowel\n",
      "h is not a vowel\n",
      "o is a vowel\n",
      "w is not a vowel\n",
      "  is not a vowel\n",
      "a is a vowel\n",
      "r is not a vowel\n",
      "e is a vowel\n",
      "  is not a vowel\n",
      "y is not a vowel\n",
      "o is a vowel\n",
      "u is a vowel\n",
      "  is not a vowel\n",
      "i is a vowel\n",
      "  is not a vowel\n",
      "a is a vowel\n",
      "m is not a vowel\n",
      "  is not a vowel\n",
      "d is not a vowel\n",
      "o is a vowel\n",
      "i is a vowel\n",
      "n is not a vowel\n",
      "g is not a vowel\n",
      "  is not a vowel\n",
      "g is not a vowel\n",
      "o is a vowel\n",
      "o is a vowel\n",
      "d is not a vowel\n"
     ]
    }
   ],
   "source": [
    "y = \"hello how are you i am doing good\"\n",
    "\n",
    "for i in y:\n",
    "    if i in \"aeiou\":\n",
    "        k=i\n",
    "        print(k , \"is a vowel\")\n",
    "    else:\n",
    "        print(i , \"is not a vowel\")"
   ]
  },
  {
   "cell_type": "code",
   "execution_count": 30,
   "id": "c0f319e8-ba7e-42ff-86ae-b08773e34b03",
   "metadata": {},
   "outputs": [
    {
     "name": "stdout",
     "output_type": "stream",
     "text": [
      "['e', 'o', 'o', 'a', 'e', 'o', 'u', 'i', 'a', 'o', 'i', 'o', 'o']\n"
     ]
    }
   ],
   "source": [
    "# list comprehension >>  can have only two condition\n",
    "z=[i for i in y if i in \"aeiou\"]\n",
    "print(z)"
   ]
  },
  {
   "cell_type": "code",
   "execution_count": 32,
   "id": "058bc589-2c07-48b2-84f9-2db93a2bd141",
   "metadata": {},
   "outputs": [
    {
     "name": "stdout",
     "output_type": "stream",
     "text": [
      "['r', 'a', 'u', 'n', 'a', 'k']\n"
     ]
    }
   ],
   "source": [
    "# basic >>  create empty list and then enter values n the list\n",
    "\n",
    "empt=[]\n",
    "for i in \"raunak\":\n",
    "    empt.append(i)\n",
    "print(empt)"
   ]
  },
  {
   "cell_type": "code",
   "execution_count": 40,
   "id": "d88407e5-cde2-4713-a113-0d177e3b921d",
   "metadata": {},
   "outputs": [
    {
     "name": "stdout",
     "output_type": "stream",
     "text": [
      "['raunak', 77, 'reema', '99']\n"
     ]
    }
   ],
   "source": [
    "empt=[]\n",
    "for i in [\"raunak\",77,\"reema\",\"99\"]:\n",
    "    empt.append(i)\n",
    "print(empt)"
   ]
  },
  {
   "cell_type": "code",
   "execution_count": 52,
   "id": "8d3e58b2-5ad9-4a5d-b400-b4100378c2d4",
   "metadata": {},
   "outputs": [
    {
     "name": "stdout",
     "output_type": "stream",
     "text": [
      "[]\n"
     ]
    }
   ],
   "source": [
    "# list comp\n",
    "\n",
    "w=[i for i in empt if i in ['abc']]\n",
    "print(w)"
   ]
  },
  {
   "cell_type": "code",
   "execution_count": 54,
   "id": "1dcc92e0-cf0b-4dc7-9665-60123531b5a1",
   "metadata": {},
   "outputs": [
    {
     "name": "stdout",
     "output_type": "stream",
     "text": [
      "['raunak', 77, 'reema', '99']\n"
     ]
    }
   ],
   "source": [
    "# list comp\n",
    "\n",
    "w=[i for i in empt]\n",
    "print(w)"
   ]
  },
  {
   "cell_type": "code",
   "execution_count": 58,
   "id": "16345878-c4b6-41a7-92e4-242809d22e0f",
   "metadata": {},
   "outputs": [
    {
     "data": {
      "text/plain": [
       "['even', 'odd', 'even', 'odd', 'even']"
      ]
     },
     "execution_count": 58,
     "metadata": {},
     "output_type": "execute_result"
    }
   ],
   "source": [
    "# list comp\n",
    "#check which number is even/odd from first five including zero\n",
    "\n",
    "mylist =[\"even\" if i%2==0  else\"odd\"  for i in range(5)]\n",
    "mylist"
   ]
  },
  {
   "cell_type": "code",
   "execution_count": 60,
   "id": "71bfefa2-4e03-4713-8130-2ec895ab7f7b",
   "metadata": {},
   "outputs": [
    {
     "ename": "SyntaxError",
     "evalue": "expected 'else' after 'if' expression (4253935477.py, line 1)",
     "output_type": "error",
     "traceback": [
      "\u001b[1;36m  Cell \u001b[1;32mIn[60], line 1\u001b[1;36m\u001b[0m\n\u001b[1;33m    mylist =[\"zero\" if i==0 elif i%2==0 \"even\" else \"odd\"  for i in range(5)]\u001b[0m\n\u001b[1;37m             ^\u001b[0m\n\u001b[1;31mSyntaxError\u001b[0m\u001b[1;31m:\u001b[0m expected 'else' after 'if' expression\n"
     ]
    }
   ],
   "source": [
    "mylist =[\"zero\" if i==0 elif i%2==0 \"even\" else \"odd\"  for i in range(5)]\n",
    "mylist\n",
    "#error due to more than two conditions"
   ]
  },
  {
   "cell_type": "code",
   "execution_count": 62,
   "id": "1fe092de-f941-4dae-bbf4-92aba1f603e8",
   "metadata": {},
   "outputs": [
    {
     "data": {
      "text/plain": [
       "['odd', 'even', 'odd']"
      ]
     },
     "execution_count": 62,
     "metadata": {},
     "output_type": "execute_result"
    }
   ],
   "source": [
    "# list comp\n",
    "#check which number is even/odd from first five including zero\n",
    "\n",
    "mylist =[\"even\" if i%2==0  else\"odd\"  for i in [99,22,33]]\n",
    "mylist"
   ]
  },
  {
   "cell_type": "markdown",
   "id": "ed4a180a-855c-4810-b81f-32eeccfb0d89",
   "metadata": {},
   "source": [
    "# map(function_name or lamda, variable_name)\n",
    "\n"
   ]
  },
  {
   "cell_type": "code",
   "execution_count": 77,
   "id": "a021f196-d366-434c-b5c3-59d110116cda",
   "metadata": {},
   "outputs": [
    {
     "data": {
      "text/plain": [
       "['odd', 'even', 'odd']"
      ]
     },
     "execution_count": 77,
     "metadata": {},
     "output_type": "execute_result"
    }
   ],
   "source": [
    "def iseven_odd(num):\n",
    "    if num%2==0:\n",
    "        return \"even\"\n",
    "    else:\n",
    "        return \"odd\"\n",
    "\n",
    "num = [99,22,33]\n",
    "result = [x for x in map(iseven_odd,num)]\n",
    "result"
   ]
  },
  {
   "cell_type": "code",
   "execution_count": 81,
   "id": "79614301-3765-4727-be2f-b489d2bd60ff",
   "metadata": {},
   "outputs": [
    {
     "data": {
      "text/plain": [
       "['99 is odd', '22 is even', '33 is odd']"
      ]
     },
     "execution_count": 81,
     "metadata": {},
     "output_type": "execute_result"
    }
   ],
   "source": [
    "def iseven_odd(num):\n",
    "    if num%2==0:\n",
    "        return str(num)+\" is even\"\n",
    "    else:\n",
    "        return str(num)+\" is odd\"\n",
    "\n",
    "num = [99,22,33]\n",
    "result = [x for x in map(iseven_odd,num)]\n",
    "result"
   ]
  },
  {
   "cell_type": "code",
   "execution_count": 101,
   "id": "abf7c6e6-af46-4402-a1d9-29c8c8d053ee",
   "metadata": {},
   "outputs": [
    {
     "data": {
      "text/plain": [
       "['100 is odd', '100 is even', '100 is odd']"
      ]
     },
     "execution_count": 101,
     "metadata": {},
     "output_type": "execute_result"
    }
   ],
   "source": [
    "def iseven_odd(num1, num2):\n",
    "    if num1%2==0:\n",
    "        return str(num2)+\" is even\"\n",
    "    else:\n",
    "        return str(num2)+\" is odd\"\n",
    "\n",
    "num1 = [99,22,33]\n",
    "num2 = [100,100,100,200]\n",
    "result = [x for x in map(iseven_odd,num1,num2)]\n",
    "result"
   ]
  },
  {
   "cell_type": "code",
   "execution_count": 56,
   "id": "f355e5ca-3003-4fa4-8568-18d94e9fcc5a",
   "metadata": {},
   "outputs": [],
   "source": [
    "# Dictionary comprehension"
   ]
  },
  {
   "cell_type": "code",
   "execution_count": 105,
   "id": "69206e8e-fb41-4456-8351-2a6e8e40e1da",
   "metadata": {},
   "outputs": [
    {
     "data": {
      "text/plain": [
       "{'deepsika': 8, 'reema': 5, 'raunak': 6, 'rinku': 5, 'sooraj': 6, 'ammu': 4}"
      ]
     },
     "execution_count": 105,
     "metadata": {},
     "output_type": "execute_result"
    }
   ],
   "source": [
    "mywords = [\"deepsika\",\"reema\",\"raunak\",\"rinku\",\"sooraj\",\"ammu\"]\n",
    "\n",
    "wlengthdic = {i:len(i) for i in mywords}\n",
    "wlengthdic"
   ]
  },
  {
   "cell_type": "code",
   "execution_count": 107,
   "id": "8be06e3d-44d3-4c90-8df5-eea0cc382c61",
   "metadata": {},
   "outputs": [
    {
     "name": "stdout",
     "output_type": "stream",
     "text": [
      "{'deepsika': 8, 'reema': 5, 'raunak': 6, 'rinku': 5, 'sooraj': 6, 'ammu': 4}\n"
     ]
    }
   ],
   "source": [
    "mywords = [\"deepsika\",\"reema\",\"raunak\",\"rinku\",\"sooraj\",\"ammu\"]\n",
    "\n",
    "mywordsdic ={}\n",
    "for i in  mywords:\n",
    "    mywordsdic.update({i:len(i)})\n",
    "print(mywordsdic)"
   ]
  },
  {
   "cell_type": "code",
   "execution_count": 1,
   "id": "a7a1d134-30db-4e26-8c55-e18005319a02",
   "metadata": {},
   "outputs": [
    {
     "data": {
      "text/plain": [
       "{0, 1, 2, 3, 4}"
      ]
     },
     "execution_count": 1,
     "metadata": {},
     "output_type": "execute_result"
    }
   ],
   "source": [
    "setx = {1,2,3,4,0}\n",
    "setx"
   ]
  },
  {
   "cell_type": "code",
   "execution_count": 3,
   "id": "2115f74f-6e27-4c6f-90d5-91e89d33a856",
   "metadata": {},
   "outputs": [
    {
     "data": {
      "text/plain": [
       "{0, 1, 2, 3, 4, 'abc'}"
      ]
     },
     "execution_count": 3,
     "metadata": {},
     "output_type": "execute_result"
    }
   ],
   "source": [
    "setx = {1,2,3,4,0,\"abc\"}\n",
    "setx"
   ]
  },
  {
   "cell_type": "code",
   "execution_count": null,
   "id": "8da4a3f2-508b-4baa-abee-3b4bd5ba5c10",
   "metadata": {},
   "outputs": [],
   "source": []
  }
 ],
 "metadata": {
  "kernelspec": {
   "display_name": "Python 3 (ipykernel)",
   "language": "python",
   "name": "python3"
  },
  "language_info": {
   "codemirror_mode": {
    "name": "ipython",
    "version": 3
   },
   "file_extension": ".py",
   "mimetype": "text/x-python",
   "name": "python",
   "nbconvert_exporter": "python",
   "pygments_lexer": "ipython3",
   "version": "3.12.7"
  }
 },
 "nbformat": 4,
 "nbformat_minor": 5
}
