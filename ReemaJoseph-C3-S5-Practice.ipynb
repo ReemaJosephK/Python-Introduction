{
 "cells": [
  {
   "cell_type": "code",
   "execution_count": 2,
   "id": "206bac89-edae-4700-9f7d-4354d5b820f3",
   "metadata": {},
   "outputs": [
    {
     "name": "stdin",
     "output_type": "stream",
     "text": [
      "Enter a name:  palindrom\n"
     ]
    },
    {
     "name": "stdout",
     "output_type": "stream",
     "text": [
      "palindrom is not a palindrom.\n"
     ]
    }
   ],
   "source": [
    "#Task 1: Checking if a word is a palindrome\n",
    "\n",
    "#function to accept a word to check if the word is a palindrome or not.\n",
    "def checkPalindromes(string):\n",
    "    #compare string with reversed string\n",
    "    if(string == ''.join(reversed(string))):\n",
    "        print(string,\"is a palindrom.\")\n",
    "    else:\n",
    "        print(string,\"is not a palindrom.\")\n",
    "\n",
    "#accept user input\n",
    "userInput = input(\"Enter a name: \")\n",
    "\n",
    "#call checkPalindromes() function\n",
    "checkPalindromes(userInput)\n",
    "    \n"
   ]
  },
  {
   "cell_type": "code",
   "execution_count": 3,
   "id": "0de42d3b-0c08-42b4-95ea-81127c84d577",
   "metadata": {},
   "outputs": [
    {
     "name": "stdin",
     "output_type": "stream",
     "text": [
      "how many words would you like to enter?:  2\n",
      "Please enter a word:  aa\n",
      "Please enter a word:  aa\n"
     ]
    },
    {
     "data": {
      "text/plain": [
       "['aa', 'aa']"
      ]
     },
     "execution_count": 3,
     "metadata": {},
     "output_type": "execute_result"
    }
   ],
   "source": [
    "#Task 2: Sorting words\n",
    "\n",
    "def sortWord():\n",
    "\n",
    "    #check how many words user is planning to enter for sorting\n",
    "    count = input(\"how many words would you like to enter?: \")   \n",
    "   \n",
    "    #convert count into int\n",
    "    try:\n",
    "        count = int(count)\n",
    "        #set words list as empty\n",
    "        words = []\n",
    "    \n",
    "        #check if count is >=1\n",
    "        if(count>0):\n",
    "            #accept user input as many times as count\n",
    "            while(count>=1):\n",
    "                #reduce count by 1 each time\n",
    "                count = count-1\n",
    "                # add new word into word list\n",
    "                words.append(input(\"Please enter a word: \"))\n",
    "        \n",
    "        #Sort the words in the list in alphabetical order      \n",
    "        words.sort()    #return sorted list\n",
    "        return words\n",
    "    except:\n",
    "        print(\"please enter a valid number\")           \n",
    "    \n",
    "\n",
    "# call the sortWord() function\n",
    "sortWord()\n",
    "\n",
    "\n"
   ]
  },
  {
   "cell_type": "code",
   "execution_count": 4,
   "id": "c1f7db06-f17a-4f42-a199-b86840c2f826",
   "metadata": {},
   "outputs": [
    {
     "name": "stdin",
     "output_type": "stream",
     "text": [
      "Please enter a list of comma separated characters , example: A,L,P,H,A:   A,L,P,H,A\n"
     ]
    },
    {
     "name": "stdout",
     "output_type": "stream",
     "text": [
      "ALPHA\n"
     ]
    }
   ],
   "source": [
    "#Task 3: Converting characters to a string\n",
    "\n",
    "def makeString():\n",
    "    #accept user input\n",
    "    string = input(\"Please enter a list of comma separated characters , example: A,L,P,H,A:  \")   \n",
    "    #convert input into a list\n",
    "    charlist = string.split(\",\")    \n",
    "    #Convert the list of characters into a string and display\n",
    "    print(\"\".join(charlist))\n",
    "\n",
    "#call makeString() function\n",
    "makeString()\n"
   ]
  },
  {
   "cell_type": "code",
   "execution_count": 5,
   "id": "294025d0-d48c-46d0-91ed-6f5f55b4b7ed",
   "metadata": {},
   "outputs": [
    {
     "name": "stdin",
     "output_type": "stream",
     "text": [
      "Please enter a list of comma separated characters , example: 3,4,1,0, -31, 20, 40   3,4,1,0, -31, 20, 40\n"
     ]
    },
    {
     "name": "stdout",
     "output_type": "stream",
     "text": [
      "min value is :  -31\n",
      "max value is :  40\n"
     ]
    }
   ],
   "source": [
    "# Task 4: Picking the largest and smallest elements\n",
    "def findLargestSmallestNumber(inputnum): \n",
    "    #create a list from user input, values are in sttring\n",
    "    tempList = inputnum.split(\",\") \n",
    "    #set numlist to store values in int\n",
    "    numlist= []\n",
    "    \n",
    "    #inset input into numlist from tempList as integer\n",
    "    for n in tempList:\n",
    "        numlist.append(int(n))\n",
    "\n",
    "    #display min number\n",
    "    print(\"min value is : \",min(numlist))\n",
    "    #display max number\n",
    "    print(\"max value is : \",max(numlist))\n",
    "\n",
    "#accept user input\n",
    "inputnum = input(\"Please enter a list of comma separated characters , example: 3,4,1,0, -31, 20, 40  \")\n",
    "\n",
    "#call findLargestSmallestNumber() function\n",
    "findLargestSmallestNumber(inputnum)\n"
   ]
  },
  {
   "cell_type": "code",
   "execution_count": 6,
   "id": "7931eb50-d282-45c0-aef5-7b35d0168ba7",
   "metadata": {},
   "outputs": [
    {
     "name": "stdin",
     "output_type": "stream",
     "text": [
      "Please enter a list of comma separated characters, example: Item1 45.50, item2 35, item3 41.30, item4 29, item5 49.89 Item1 45.50, item2 35, item3 41.30, item4 29, item5 49.89\n"
     ]
    },
    {
     "name": "stdout",
     "output_type": "stream",
     "text": [
      "   \n",
      "min value is :  29.0\n",
      "max value is :  49.89\n"
     ]
    }
   ],
   "source": [
    "#Task 5: Searching a dictionary\n",
    "\n",
    "#declare function to find min/max values from a dictionary \n",
    "def findLargestSmallestNumberDic(inputnum): \n",
    "    #create a list from user input, values are in string\n",
    "    tempList = inputnum.split(\", \") \n",
    "    \n",
    "    #set numlist to store values in int\n",
    "    numdic= {}\n",
    "    \n",
    "    #inset input into numlist from tempList as integer\n",
    "    for item in tempList:\n",
    "       key, value = item.split(\" \")\n",
    "       numdic[key] = float(value)\n",
    "\n",
    "    #put a space before displaying answer\n",
    "    print(\"   \")\n",
    "    \n",
    "    #display min number\n",
    "    print(\"min value is : \",min(numdic.values()))\n",
    "    #display max number\n",
    "    print(\"max value is : \",max(numdic.values()))\n",
    "\n",
    "#accept user input \n",
    "inputnum = input(\"Please enter a list of comma separated characters, example: Item1 45.50, item2 35, item3 41.30, item4 29, item5 49.89\")\n",
    "\n",
    "#call findLargestSmallestNumberDic() function\n",
    "findLargestSmallestNumberDic(inputnum)"
   ]
  },
  {
   "cell_type": "code",
   "execution_count": 14,
   "id": "e5a19f09-b564-4391-9a0e-8743739fd56d",
   "metadata": {},
   "outputs": [
    {
     "name": "stdin",
     "output_type": "stream",
     "text": [
      "please enter name, age, gender, and occupation comma separated, for example: John Matthew, 40, Male, HR  John Matthew, 40, Male, HR\n"
     ]
    },
    {
     "name": "stdout",
     "output_type": "stream",
     "text": [
      "Name:  John Matthew\n",
      "Age:  40\n",
      "Gender:  Male\n",
      "Occupation:  HR\n"
     ]
    }
   ],
   "source": [
    "# Task 6: Generating a profile card\n",
    "\n",
    "#define f1 function\n",
    "def f1():\n",
    "    #accept user input name,age,gender and occupation\n",
    "    name,age,gender,occupation = input(\"please enter name, age, gender, and occupation comma separated, for example: John Matthew, 40, Male, HR \").split(\", \")\n",
    "    \n",
    "    #call f2 to dosplay  profile card\n",
    "    f2(name,age,gender,occupation)\n",
    "        \n",
    "def f2(name,age,gender,occupation):\n",
    "    # generate profile card\n",
    "    print(\"Name: \", name)\n",
    "    print(\"Age: \", age)\n",
    "    print(\"Gender: \", gender)\n",
    "    print(\"Occupation: \", occupation)\n",
    "\n",
    "def main():\n",
    "    f1()\n",
    "\n",
    "#call f1 function\n",
    "main()\n"
   ]
  },
  {
   "cell_type": "code",
   "execution_count": 8,
   "id": "1d3fb5d6-fad1-4755-b93a-526af0574e19",
   "metadata": {},
   "outputs": [
    {
     "name": "stdin",
     "output_type": "stream",
     "text": [
      "please enter name, age, gender, and occupation comma separated, for example John Matthew, 40, Male, HR:  John Matthew, 40, Male, HR\n"
     ]
    },
    {
     "name": "stdout",
     "output_type": "stream",
     "text": [
      "\n",
      "Profile Card:   \n",
      "Name:  John Matthew\n",
      "Age:  40\n",
      "Gender:  Male\n",
      "Occupation:  HR\n"
     ]
    }
   ],
   "source": [
    "# Task 6: Generating a profile card using tuple \n",
    "\n",
    "#define f1 function\n",
    "def f1():\n",
    "    #accept user input name,age,gender and occupation\n",
    "    inputList = input(\"please enter name, age, gender, and occupation comma separated, for example John Matthew, 40, Male, HR: \").split(\", \")   \n",
    "    #set numlist to store values in int\n",
    "    numdtuple= ()\n",
    "    \n",
    "    #inset input into numlist from tempList as integer\n",
    "    for item in inputList:\n",
    "        numdtuple = numdtuple + (item,)\n",
    "\n",
    "    #call f2 to dosplay  profile card\n",
    "    f2(numdtuple)\n",
    "        \n",
    "def f2(numdtuple):\n",
    "    # generate profile card\n",
    "    print(\"\")\n",
    "    print(\"Profile Card:   \")\n",
    "    print(\"Name: \", numdtuple[0])\n",
    "    print(\"Age: \", numdtuple[1])\n",
    "    print(\"Gender: \", numdtuple[2])\n",
    "    print(\"Occupation: \", numdtuple[3])\n",
    "\n",
    "def main():\n",
    "    f1()\n",
    "\n",
    "#call f1 function\n",
    "main()\n"
   ]
  },
  {
   "cell_type": "code",
   "execution_count": 16,
   "id": "b12fe24a-d56f-4099-8a90-21a40ab7297a",
   "metadata": {},
   "outputs": [
    {
     "name": "stdout",
     "output_type": "stream",
     "text": [
      "[('green', 1), ('blue', 2), ('yellow', 3), ('black', 4), ('red', 5)]\n"
     ]
    }
   ],
   "source": [
    "#Task 7: Sorting color frequency in tuples\n",
    "\n",
    "def sortColors(color):\n",
    "    sorted_colors = sorted(color, key=lambda x: x[1])\n",
    "    print(sorted_colors)    \n",
    "\n",
    "def main():\n",
    "    color = [('black', 4), ('green', 1), ('red', 5), ('blue', 2), ('yellow', 3)]\n",
    "    sortColors(color)\n",
    "\n",
    "#main function\n",
    "if __name__== \"__main__\": \n",
    "    main()\n"
   ]
  },
  {
   "cell_type": "code",
   "execution_count": null,
   "id": "6cbf2b2e-efe9-41d3-ae44-f3f5ca0c1281",
   "metadata": {},
   "outputs": [],
   "source": [
    "#Task 7: Sorting color frequency in tuples --without  lambda\n",
    "\n",
    "def sortColors(color):\n",
    "    sorted_colors = sorted(color, key=lambda x: x[1])\n",
    "    print(sorted_colors)    \n",
    "\n",
    "def main():\n",
    "    color = [('black', 4), ('green', 1), ('red', 5), ('blue', 2), ('yellow', 3)]\n",
    "    sortColors(color)\n",
    "\n",
    "#main function\n",
    "if __name__== \"__main__\": \n",
    "    main()"
   ]
  },
  {
   "cell_type": "code",
   "execution_count": 39,
   "id": "65695463-9aad-41d8-a881-9a055ec2085e",
   "metadata": {},
   "outputs": [
    {
     "name": "stdout",
     "output_type": "stream",
     "text": [
      "['Mandy']\n"
     ]
    }
   ],
   "source": [
    "#Task 8: Common data elements in two lists\n",
    "\n",
    "a = ['Andy', 'Mandy', 'Sandy']\n",
    "b = ['Handy', 'Burgundy', 'Mandy']\n",
    "\n",
    "# find the common element(s) \n",
    "x = list(filter(lambda item_input_a:item_input_a in b,a))\n",
    "\n",
    "#display output\n",
    "print(x)\n",
    "\n",
    "\n"
   ]
  },
  {
   "cell_type": "markdown",
   "id": "4fefe65d-bc60-4d4b-9f17-f406e6ca6105",
   "metadata": {},
   "source": [
    "Task 9: Map function with Lambda expression\n",
    "\n",
    "c = [12,14,14] d = [17,16,17]\n",
    "\n",
    "Write a Python program to add each element of list c with the corresponding element of list d, using the map function and Lambda expression.\n",
    "\n",
    "The output should be [29,30,31]."
   ]
  },
  {
   "cell_type": "code",
   "execution_count": 47,
   "id": "332841b1-0330-4b0c-a00e-0e55a56b6d4f",
   "metadata": {},
   "outputs": [
    {
     "name": "stdout",
     "output_type": "stream",
     "text": [
      "[29, 30, 31]\n"
     ]
    }
   ],
   "source": [
    "#set lists c and d\n",
    "c = [12,14,14] \n",
    "d = [17,16,17]\n",
    "\n",
    "#add each element of list c with the corresponding element of list d, using the map function and Lambda expression\n",
    "sumList = list(map(lambda item_input_c,item_input_d:item_input_c + item_input_d,c,d))\n",
    "\n",
    "#display output\n",
    "print(sumList)"
   ]
  },
  {
   "cell_type": "markdown",
   "id": "300435bf-08e7-44ee-9670-3d5a21578e83",
   "metadata": {},
   "source": [
    "Task 10: Working with dates\n",
    "\n",
    "Develop a function that accepts the below mentioned date of birth and date of joining of an employee and determines if the employee is over 18 years of age. The function should accept dob and doj as two arguments and return True or False.\n",
    "\n",
    "dob=\"12-25-1991\" #date of birth doj= \"04-25-2020\" #date of joining the company The dates are in MM-DD-YYYY format.\n",
    "\n",
    "Hint: Only compare the year component in the dates to perform this task. Use the split() function in string. For example, parts_of_date = dob.split(\"-\")"
   ]
  },
  {
   "cell_type": "code",
   "execution_count": 57,
   "id": "39608707-9af7-46e4-ad43-94388c8e7bb5",
   "metadata": {},
   "outputs": [
    {
     "name": "stdin",
     "output_type": "stream",
     "text": [
      "Please enter date of birth in MM-DD-YYYY format, for example: 12-25-1991 12-25-1991\n",
      "Please enter date of joining in MM-DD-YYYY format, for example: 04-25-2020  04-25-2000\n"
     ]
    },
    {
     "name": "stdout",
     "output_type": "stream",
     "text": [
      "Employee's age while joining the company was BELOW 18\n"
     ]
    }
   ],
   "source": [
    "#Task 10: Working with dates\n",
    "def ageChecker(dob,doj):\n",
    "    a,b,c = dob.split(\"-\")\n",
    "    dob_year = int(c)\n",
    "    \n",
    "    a,b,c = doj.split(\"-\")\n",
    "    doj_year = int(c)\n",
    "    \n",
    "    age = doj_year -dob_year\n",
    "    \n",
    "    if(age >=18):\n",
    "        print(\"employee's age while joining the company was above 18\")\n",
    "    else:\n",
    "        print(\"Employee's age while joining the company was BELOW 18\")\n",
    "        \n",
    "def main():\n",
    "    dob = input(\"Please enter date of birth in MM-DD-YYYY format, for example: 12-25-1991\")\n",
    "    doj = input(\"Please enter date of joining in MM-DD-YYYY format, for example: 04-25-2020\")\n",
    "    ageChecker(dob,doj)\n",
    "\n",
    "if __name__==\"__main__\":\n",
    "    main()"
   ]
  },
  {
   "cell_type": "markdown",
   "id": "9c6f122b-022f-4e68-b090-43b156c28395",
   "metadata": {},
   "source": [
    "\n",
    "*************************************************************\n",
    "\n",
    "hints 26Nov 12:58 BRT\n",
    "\n",
    "task 1 >>  if else >> reverse >> 5 different ways are there\n",
    "task 2 >> sorting words >> append /insert/extend >> append is good. >>  sort()/sorted()\n",
    "task 3 >>  join\n",
    "task 4 >>  min/max ??\n",
    "task 5 >> dic.update , iterate \n",
    "task 6 >> user defined function >> tuple >> use indexing >> use return\n",
    "task 10 ...\n",
    "\n"
   ]
  },
  {
   "cell_type": "code",
   "execution_count": null,
   "id": "d682fed1-49d5-438b-a156-376c5851766b",
   "metadata": {},
   "outputs": [],
   "source": []
  }
 ],
 "metadata": {
  "kernelspec": {
   "display_name": "Python 3 (ipykernel)",
   "language": "python",
   "name": "python3"
  },
  "language_info": {
   "codemirror_mode": {
    "name": "ipython",
    "version": 3
   },
   "file_extension": ".py",
   "mimetype": "text/x-python",
   "name": "python",
   "nbconvert_exporter": "python",
   "pygments_lexer": "ipython3",
   "version": "3.12.7"
  }
 },
 "nbformat": 4,
 "nbformat_minor": 5
}
