{
 "cells": [
  {
   "cell_type": "code",
   "execution_count": 1,
   "id": "6d8c6f9e-1d46-4d3a-ae23-0aa4afe17c6d",
   "metadata": {},
   "outputs": [],
   "source": [
    "# S4 Practice looping  23 Nov 12:57 BRTime saturday"
   ]
  },
  {
   "cell_type": "code",
   "execution_count": 2,
   "id": "8c7320f6-95f5-4305-b74e-55aad6fd7674",
   "metadata": {},
   "outputs": [
    {
     "name": "stdin",
     "output_type": "stream",
     "text": [
      "Please enter a number:  1\n"
     ]
    },
    {
     "name": "stdout",
     "output_type": "stream",
     "text": [
      "1 ! = 1  =  1\n"
     ]
    }
   ],
   "source": [
    "# Task 1: Factorial of a Number\n",
    "\n",
    "#Accept the number n as an input from the user.\n",
    "userInput = input(\"Please enter a number: \")\n",
    "\n",
    "#check input in valid else return error\n",
    "try:\n",
    "    num = int(userInput)\n",
    "except ValueError:\n",
    "    print(\"Error: Invalid Input. Expecting a numeric value\")\n",
    "\n",
    "print(num,\"! =\", end=\" \")\n",
    "\n",
    "fact = 1\n",
    "\n",
    "#Using \"while\" loop, calculate the factorial of a number n. \n",
    "while(num>=1):\n",
    "\n",
    "    # display the list of numbers like >> 5  *  4  *  3  *  2  *  1   \n",
    "    if(num!=1):\n",
    "        print(num, \" * \",end=\" \")\n",
    "    else:\n",
    "        print(num, \" = \",end=\" \")\n",
    "        \n",
    "    fact = fact * num # find factorial\n",
    "    num = num - 1 #reduce by 1\n",
    "\n",
    "#display factorial \n",
    "print(fact)     \n"
   ]
  },
  {
   "cell_type": "code",
   "execution_count": 3,
   "id": "ac3d6989-4e9c-4678-87b9-1b266a5c179a",
   "metadata": {},
   "outputs": [
    {
     "name": "stdout",
     "output_type": "stream",
     "text": [
      "50  is divided by 2; 50  is not a prime number\n",
      "51  is divided by 3; 51  is not a prime number\n"
     ]
    }
   ],
   "source": [
    "# Task 2: Prime Numbers\n",
    "#Create a program that uses \"while\" loop to check if 50 and 51 are prime numbers.\n",
    "#Note: A prime number is a number that is only divisible by 1 or itself.\n",
    "#Eg: 2, 3, 5, 7, 11 etc. are prime numbers.\n",
    "\n",
    "# import math module for sqrt function\n",
    "import math\n",
    "\n",
    "#set num as 50\n",
    "num = 50\n",
    "seq= 3\n",
    "\n",
    "isPrime = False\n",
    "\n",
    "#check 50 and 51 are prime\n",
    "while(num<=51):\n",
    "    #not prime if num can be divided by 2\n",
    "    if(num%2==0):        \n",
    "        print(num ,\" is divided by 2\", end=\"; \")\n",
    "        print(num,\" is not a prime number\")\n",
    "    else:\n",
    "        # find square root of number\n",
    "        sqrtnum = math.sqrt(num)\n",
    "        \n",
    "        #not prime if its divided by 2 upto square root of num\n",
    "        while(seq<= sqrtnum):\n",
    "             #check modulo of num oby each sequence from 3 to square root of number \n",
    "            if(num % seq == 0):\n",
    "                print(num ,\" is divided by\",seq , end=\"; \")\n",
    "                print(num,\" is not a prime number\")\n",
    "                break # breaking inner while loop to fetch next num\n",
    "            else:\n",
    "                isPrime = True\n",
    "                \n",
    "            seq = seq+1\n",
    "        \n",
    "    num =  num + 1 \n",
    "    \n"
   ]
  },
  {
   "cell_type": "code",
   "execution_count": 4,
   "id": "909cbfb7-e598-4ef8-9671-e75d5d80f999",
   "metadata": {},
   "outputs": [
    {
     "name": "stdin",
     "output_type": "stream",
     "text": [
      "please enter a five-digit number:  1\n"
     ]
    },
    {
     "name": "stdout",
     "output_type": "stream",
     "text": [
      "five-digit number sum:  1\n"
     ]
    }
   ],
   "source": [
    "#Task 3: Sum of All Digits\n",
    "\n",
    "#Take input of a five-digit number from the user. \n",
    "num = input(\"please enter a five-digit number: \")\n",
    "\n",
    "#set variables\n",
    "i=0 # to use inside while loo as index\n",
    "sum=0 #set sum to zero initally\n",
    "listnum = list(num) # convert input 5 digit numbers into a list \n",
    "\n",
    "#iterate through list until index =list length-1\n",
    "while(i<=len(listnum)-1):\n",
    "    sum = sum + int(listnum[i]) # find sum\n",
    "    i = i+1 #each time increase index to plus one\n",
    "\n",
    "#display sum\n",
    "print(\"five-digit number sum: \",sum)\n",
    "    \n",
    "    "
   ]
  },
  {
   "cell_type": "code",
   "execution_count": 25,
   "id": "dc2447e5-6b9f-409c-949e-f5072e7dc9fd",
   "metadata": {},
   "outputs": [
    {
     "name": "stdout",
     "output_type": "stream",
     "text": [
      "0\n",
      "1\n",
      "1\n",
      "2\n",
      "3\n",
      "5\n",
      "8\n"
     ]
    }
   ],
   "source": [
    "# Task 4: Fibonacci Series - uing \"while\" loop, write a program to display the Fibonacci series up to 7 values. \n",
    "\n",
    "#set first value as zero\n",
    "num1 = 0\n",
    "print(num1)#0\n",
    "\n",
    "#set second value as 1\n",
    "num2  = 1\n",
    "print(num2)#1\n",
    "\n",
    "#set range start value as zero\n",
    "n=0\n",
    "\n",
    "#calculate adjacent values sum for 5 more values\n",
    "while(n <= 4):    \n",
    "\n",
    "    #display output expected: 0, 1, 1, 2, 3, 5, 8\n",
    "    print(num1 + num2) \n",
    "    temp= num1\n",
    "    num1 = num2\n",
    "    num2 = temp + num2 \n",
    "    n = n+1\n",
    "    \n"
   ]
  },
  {
   "cell_type": "code",
   "execution_count": 7,
   "id": "3c183da0-bd23-45a7-9bea-2c5af0491414",
   "metadata": {},
   "outputs": [
    {
     "name": "stdout",
     "output_type": "stream",
     "text": [
      "id t1 : 2948688997184\n",
      "id t2 : 2948711781120\n",
      "id t2 : 2948711781120\n",
      "id t1 : 2948688084512\n"
     ]
    }
   ],
   "source": [
    "# Task 5: Adding Two tuples\n",
    "\n",
    "#Create two tuples, t1=(1,2,3) and t2=(4,5,6).\n",
    "\n",
    "t1 =(1,2,3)\n",
    "t2 =(4,5,6)\n",
    "\n",
    "#Display the ids of both tuples.\n",
    "print(\"id t1 :\", id(t1))\n",
    "print(\"id t2 :\", id(t2))\n",
    "\n",
    "#Execute the command t1 = t1 + t2.\n",
    "t1 = t1 + t2\n",
    "\n",
    "#Display the ids of both tuples after the operation.\n",
    "print(\"id t2 :\", id(t2))\n",
    "print(\"id t1 :\", id(t1))\n",
    "\n",
    "#observation - \n",
    "#Is there any change in the ids of both tuples? Why or why not?\n",
    "# Ans: Yes the t1 id got changed and t2 remains the same. Its because Id is associated to the value stored in a variable. \n",
    "# in this case t1 changed value to t1+t2  so its id is also changed. Whereas  t2 has no change in stored values so its id remains the same\n"
   ]
  },
  {
   "cell_type": "code",
   "execution_count": 23,
   "id": "5e399f4a-e9ef-473b-ac30-3ef0dd1e3200",
   "metadata": {},
   "outputs": [
    {
     "name": "stdout",
     "output_type": "stream",
     "text": [
      "{70, 10, 20, 30, 33, 40, 50, 55, 60}\n"
     ]
    }
   ],
   "source": [
    "#Task 6: Inserting Data Into Sets\n",
    "#Note: Use the \"add\" function to insert elements into the set. You may use either the \"for\" loop or the \"while\" loop to perform this task.\n",
    "\n",
    "# create data structures , a set and a list\n",
    "m = {10, 20, 30, 40, 50} # m is a set\n",
    "n = [33, 40, 55, 60, 70] # n is a list\n",
    "\n",
    "#Insert the elements of list n into set m one by one and print the output.\n",
    "for i in n:\n",
    "    m.add(i)\n",
    "\n",
    "#display m\n",
    "print(m)\n",
    "\n",
    "# What happened to the elements that were common in the two data structures? Provide explanation.\n",
    "# Ans: duplicate value from list is ignored/removed because set only stores unique elemets in a sorted order\n"
   ]
  },
  {
   "cell_type": "code",
   "execution_count": 41,
   "id": "c3c535ae-d70e-4803-bf74-d118c2250700",
   "metadata": {},
   "outputs": [
    {
     "name": "stdout",
     "output_type": "stream",
     "text": [
      "Data :  2\n",
      "SQL :  4\n"
     ]
    }
   ],
   "source": [
    "#Task 7: Iterating Over a Dictionary Data Structure\n",
    "#Using \"while\" loop, create a program that prints those key-value pairs that contain values which are even numbers.\n",
    "#Note: Use \"for\" loops to perform this task.\n",
    "#Sample output:\n",
    "#Data: 2\n",
    "#SQL: 4\n",
    "\n",
    "#create dictionary var \n",
    "Data_Set = {'Python': 1, 'Data': 2, 'Excel': 3, 'SQL': 4}\n",
    "\n",
    "#iterate through Data_Set\n",
    "for i in Data_Set:\n",
    "    #check if value is even number\n",
    "    if(Data_Set[i]%2 == 0):\n",
    "        #print key: value if even\n",
    "        print(i,\": \",Data_Set[i])\n",
    "\n"
   ]
  },
  {
   "cell_type": "code",
   "execution_count": 59,
   "id": "5807d64f-03ef-43e1-8543-1867c60463a1",
   "metadata": {},
   "outputs": [
    {
     "name": "stdout",
     "output_type": "stream",
     "text": [
      "{1: 1, 2: 4, 3: 9, 4: 16, 5: 25, 6: 36, 7: 49, 8: 64, 9: 81, 10: 100, 11: 121, 12: 144, 13: 169, 14: 196}\n",
      "{1: 1, 2: 4, 3: 9, 4: 16, 5: 25, 6: 36, 7: 49, 8: 64, 9: 81, 10: 100, 11: 121, 12: 144, 13: 169, 14: 196, 100: 10000}\n"
     ]
    }
   ],
   "source": [
    "#Task 8: Populating a Dictionary Data Structure\n",
    "\n",
    "#Eg. {1:1, 2:4, ...}\n",
    "#Hint: Create an empty dictionary first. Use the \"update\" command to insert data.\n",
    "\n",
    "#empty deictionary\n",
    "D={}\n",
    "\n",
    "#create range 1 to 15\n",
    "for i in range(1,15):\n",
    "    #update dictionary where the keys are the integers from 1 to 15 and the values are squares of the keys\n",
    "    D[i] = i**2\n",
    "    \n",
    "#display D\n",
    "print(D)\n",
    "\n",
    "#Once the above dictionary is created, add a new element {100:10000} to this dictionary.\n",
    "D.update({100:10000})\n",
    "\n",
    "#display D again after adding {100:10000}\n",
    "print(D)"
   ]
  }
 ],
 "metadata": {
  "kernelspec": {
   "display_name": "Python 3 (ipykernel)",
   "language": "python",
   "name": "python3"
  },
  "language_info": {
   "codemirror_mode": {
    "name": "ipython",
    "version": 3
   },
   "file_extension": ".py",
   "mimetype": "text/x-python",
   "name": "python",
   "nbconvert_exporter": "python",
   "pygments_lexer": "ipython3",
   "version": "3.12.7"
  }
 },
 "nbformat": 4,
 "nbformat_minor": 5
}
