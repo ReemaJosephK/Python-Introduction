{
 "cells": [
  {
   "cell_type": "markdown",
   "id": "f12e10ce-a136-47f3-86e9-ed572879a18f",
   "metadata": {},
   "source": [
    "# Sprint 2 Practice"
   ]
  },
  {
   "cell_type": "code",
   "execution_count": 14,
   "id": "c5bde983-7845-4ab5-98f4-8b2cb2552b1c",
   "metadata": {},
   "outputs": [
    {
     "name": "stdin",
     "output_type": "stream",
     "text": [
      "Please enter A or B or C A\n"
     ]
    },
    {
     "name": "stdout",
     "output_type": "stream",
     "text": [
      "Python\n"
     ]
    }
   ],
   "source": [
    "#Task 1: Decision-making Based on User Input\n",
    "\n",
    "#Accept a character from the user\n",
    "userInput = input(\"Please enter A or B or C\")\n",
    "\n",
    "#check user input and print based on values\n",
    "if userInput==\"A\":\n",
    "    print(\"Python\")  #'A', then display \"Python\"\n",
    "elif userInput==\"B\":\n",
    "    print(\"MySQL\") # 'B', then display \"MySQL\"\n",
    "elif userInput==\"C\":\n",
    "    print(\"Excel\") #'C', then display \"Excel\"\n",
    "else:\n",
    "    print(\"Holiday\") #any other character, then display \"Holiday\"."
   ]
  },
  {
   "cell_type": "code",
   "execution_count": 44,
   "id": "11df5f96-9966-4dcc-8c0d-e40470953fc1",
   "metadata": {},
   "outputs": [
    {
     "name": "stdin",
     "output_type": "stream",
     "text": [
      "Please enter two numbers comma separated 1,2\n"
     ]
    },
    {
     "name": "stdout",
     "output_type": "stream",
     "text": [
      "2\n"
     ]
    }
   ],
   "source": [
    "# Task 2: Comparing Two Numbers , Accept two numbers from the user and display the higher of the two numbers.\n",
    "\n",
    "a, b =input(\"Please enter two numbers comma separated\").split(\",\")\n",
    "\n",
    "if(a>b):\n",
    "    print(a)\n",
    "else:\n",
    "    print(b)\n"
   ]
  },
  {
   "cell_type": "code",
   "execution_count": 39,
   "id": "11945f0d-75ab-431b-b311-107d7907769c",
   "metadata": {},
   "outputs": [
    {
     "name": "stdin",
     "output_type": "stream",
     "text": [
      "Please enter basic salary:  1\n"
     ]
    },
    {
     "name": "stdout",
     "output_type": "stream",
     "text": [
      "gross salary: 18012.0\n"
     ]
    }
   ],
   "source": [
    "#Task 3: Calculating Gross Salary\n",
    "\n",
    "#get basicSalary from user\n",
    "user_input = input(\"Please enter basic salary: \")\n",
    "\n",
    "#set base salary\n",
    "basicSalary=0\n",
    "\n",
    "# check if user input is a valid base salary (numeric)\n",
    "try:\n",
    "    basicSalary = int(user_input)\n",
    "except ValueError: \n",
    "    print(\"Error: Invalid Input. Expecting basic salary in numeric value\")\n",
    "\n",
    "#set variables\n",
    "hra=0\n",
    "ta=0\n",
    "grossSalary=0\n",
    "\n",
    "if(basicSalary>=1 and basicSalary<=4000): #if salary between 1 to 4000\n",
    "    hra= (10 / basicSalary)*100\n",
    "    ta = (5 / basicSalary)*100\n",
    "elif(basicSalary>4000 and basicSalary<=10000):  #if salary between 4001 to 10000\n",
    "    hra = (10 / basicSalary)*100\n",
    "    ta = (10 / basicSalary)*100\n",
    "elif(basicSalary>10000): #if salary above 10000\n",
    "    hra = (15 / basicSalary)*100\n",
    "    ta = (15 / basicSalary)*100\n",
    "else: #if inavlid user input then \n",
    "    basicSalary=0\n",
    "\n",
    "#calculate gross salary  = [(Basic salary) + (HRA on basic salary) + (TA on basic salary)]*12\n",
    "grosssalary = (basicSalary + hra+ ta)*12\n",
    "\n",
    "#display gross salary\n",
    "print(\"gross salary: \" + str(round(grosssalary,2)))\n"
   ]
  },
  {
   "cell_type": "code",
   "execution_count": 58,
   "id": "1db9d166-444f-4377-be9d-c033853ebe84",
   "metadata": {},
   "outputs": [
    {
     "name": "stdin",
     "output_type": "stream",
     "text": [
      "Please enter a word: philosophy\n"
     ]
    },
    {
     "name": "stdout",
     "output_type": "stream",
     "text": [
      "YES\n"
     ]
    }
   ],
   "source": [
    "# Task 4: Searching a Word in a Paragraph\n",
    "\n",
    "# set string\n",
    "var = \"Python is an interpreted, high-level, general- purpose programming language. Its design philosophy emphasizes code readability, with its use of significant indentation. Its language constructs as well as its object-oriented approach aim to help programmers write clear, logical code for small and large-scale projects.\"\n",
    "\n",
    "#get user input\n",
    "userInput = input(\"Please enter a word:\" )\n",
    "\n",
    "#check if user input is in var\n",
    "if(userInput in var):\n",
    "    print(\"YES\")\n",
    "else:\n",
    "     print(\"NO\")"
   ]
  },
  {
   "cell_type": "code",
   "execution_count": 68,
   "id": "f3c33b71-0ae8-459c-96b3-48164ca59a2d",
   "metadata": {},
   "outputs": [
    {
     "name": "stdin",
     "output_type": "stream",
     "text": [
      "Please enter an alphabet: AAA\n"
     ]
    },
    {
     "name": "stdout",
     "output_type": "stream",
     "text": [
      "UPPERCASE\n"
     ]
    }
   ],
   "source": [
    "#Task 5: Checking if a Character is Uppercase or Lowercase\n",
    "\n",
    "#Accept an alphabet from the user\n",
    "userInput = input(\"Please enter an alphabet:\" )\n",
    "\n",
    "if(userInput.isupper()): #If the input is A, then the output will be:UPPERCASE\n",
    "    print(\"UPPERCASE\")\n",
    "elif(userInput.islower()): # If the input is a, then the output will be:lowercase\n",
    "     print(\"lowercase\")\n",
    "else: #If the input is invalid then display invalid\n",
    "     print(\"invalid\")\n",
    "\n"
   ]
  },
  {
   "cell_type": "code",
   "execution_count": 84,
   "id": "03940f1e-f544-472a-9e16-561b8d43e365",
   "metadata": {},
   "outputs": [
    {
     "name": "stdin",
     "output_type": "stream",
     "text": [
      "Please enter an alphabet: 123\n"
     ]
    },
    {
     "name": "stdout",
     "output_type": "stream",
     "text": [
      "Invalid input. Please enter a single alphabet.\n"
     ]
    }
   ],
   "source": [
    "# Task 6: Checking if an Alphabet is a Vowel or a Consonant\n",
    "\n",
    "#Accept an alphabet from the user\n",
    "userInput = input(\"Please enter an alphabet:\" ).lower()\n",
    "\n",
    "if userInput.isalpha() and len(userInput) == 1: #check if userinput is a valid alphabet  \n",
    "    if(userInput in \"aeiou\" ):# If the input is a, then the output will be: vowel\n",
    "        print(\"Vowel\")\n",
    "    else: #If the input is b, then the output will be: consonant\n",
    "         print(\"Consonant\")\n",
    "else:\n",
    "    print(\"Invalid input. Please enter a single alphabet.\")"
   ]
  },
  {
   "cell_type": "code",
   "execution_count": null,
   "id": "6894f760-0e7d-4650-9c67-87d4fcc366c0",
   "metadata": {},
   "outputs": [],
   "source": []
  }
 ],
 "metadata": {
  "kernelspec": {
   "display_name": "Python 3 (ipykernel)",
   "language": "python",
   "name": "python3"
  },
  "language_info": {
   "codemirror_mode": {
    "name": "ipython",
    "version": 3
   },
   "file_extension": ".py",
   "mimetype": "text/x-python",
   "name": "python",
   "nbconvert_exporter": "python",
   "pygments_lexer": "ipython3",
   "version": "3.12.7"
  }
 },
 "nbformat": 4,
 "nbformat_minor": 5
}
