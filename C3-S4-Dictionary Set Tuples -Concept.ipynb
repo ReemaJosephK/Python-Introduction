{
 "cells": [
  {
   "cell_type": "markdown",
   "id": "c1382f23-02b0-4c2e-a4b7-86c2509137de",
   "metadata": {},
   "source": [
    "# Dictionary and SET"
   ]
  },
  {
   "cell_type": "code",
   "execution_count": 1,
   "id": "c428f42e-567b-4306-9555-58bd9f571f0c",
   "metadata": {},
   "outputs": [
    {
     "name": "stdout",
     "output_type": "stream",
     "text": [
      "{1: 'A', 2: 'B'}\n",
      "<class 'dict'>\n"
     ]
    }
   ],
   "source": [
    "# {} >>  dictionarys and sets\n",
    "\n",
    "# Dictionary\n",
    "mydic ={1:\"A\", 2:\"B\"}\n",
    "print(mydic)\n",
    "print(type(mydic))"
   ]
  },
  {
   "cell_type": "code",
   "execution_count": 3,
   "id": "1db31434-5ddd-40ce-a606-8b63eea10493",
   "metadata": {},
   "outputs": [
    {
     "name": "stdout",
     "output_type": "stream",
     "text": [
      "{2, 5, 7}\n",
      "<class 'set'>\n"
     ]
    }
   ],
   "source": [
    "myset ={7,2,5}\n",
    "print(myset)\n",
    "print(type(myset))"
   ]
  },
  {
   "cell_type": "code",
   "execution_count": null,
   "id": "c16ef86c-53ac-4415-9cda-75f0708d9e45",
   "metadata": {},
   "outputs": [],
   "source": [
    "# SETS are ordered in nature\n",
    "# its mutable meaning editable >> update/delete/pop\n",
    "# dic and sets cannot be indexed **************\n",
    "\n",
    "#dic .. key value should be unique and values can be repeated\n",
    "#dic update can be used to ADD as well if key is new\n",
    "\n",
    "#SET will not allow to repeate same value.  No error but no change as well"
   ]
  },
  {
   "cell_type": "code",
   "execution_count": 15,
   "id": "4fa8fb5a-1d1e-4f88-b4f7-1699b16bbf23",
   "metadata": {},
   "outputs": [
    {
     "data": {
      "text/plain": [
       "'z'"
      ]
     },
     "execution_count": 15,
     "metadata": {},
     "output_type": "execute_result"
    }
   ],
   "source": [
    "mylist =[\"z\",\"y\"]\n",
    "mylist[0] ## indexing"
   ]
  },
  {
   "cell_type": "code",
   "execution_count": 21,
   "id": "d513b6a9-29f3-4114-b5b1-40ec2f7e5948",
   "metadata": {},
   "outputs": [
    {
     "data": {
      "text/plain": [
       "'A'"
      ]
     },
     "execution_count": 21,
     "metadata": {},
     "output_type": "execute_result"
    }
   ],
   "source": [
    "mydic[1] ## 1 is Key in this case"
   ]
  },
  {
   "cell_type": "code",
   "execution_count": 25,
   "id": "5285bc90-9ded-400b-90e0-6202b6144070",
   "metadata": {},
   "outputs": [
    {
     "data": {
      "text/plain": [
       "'B'"
      ]
     },
     "execution_count": 25,
     "metadata": {},
     "output_type": "execute_result"
    }
   ],
   "source": [
    "mydic ={\"key1\":\"A\", 2:\"B\"}\n",
    "mydic[\"key1\"]\n",
    "mydic[2]"
   ]
  },
  {
   "cell_type": "code",
   "execution_count": 27,
   "id": "dcffdc1b-0bc2-48c1-8021-3cc4887d57f8",
   "metadata": {},
   "outputs": [
    {
     "data": {
      "text/plain": [
       "{'key1': 'newVal', 2: 'B'}"
      ]
     },
     "execution_count": 27,
     "metadata": {},
     "output_type": "execute_result"
    }
   ],
   "source": [
    "mydic.update({\"key1\":\"newVal\"})\n",
    "mydic"
   ]
  },
  {
   "cell_type": "code",
   "execution_count": 29,
   "id": "89c383ad-b1b6-4fca-ac05-cb86e0bc9ad3",
   "metadata": {},
   "outputs": [
    {
     "data": {
      "text/plain": [
       "{'key1': 'newVal', 2: 'newVal'}"
      ]
     },
     "execution_count": 29,
     "metadata": {},
     "output_type": "execute_result"
    }
   ],
   "source": [
    "mydic.update({2:'newVal'})\n",
    "mydic"
   ]
  },
  {
   "cell_type": "code",
   "execution_count": 33,
   "id": "f8c095b7-5d31-4dd8-9b09-638705d4b70d",
   "metadata": {},
   "outputs": [
    {
     "data": {
      "text/plain": [
       "{'key1': 'newVal', 2: 'B'}"
      ]
     },
     "execution_count": 33,
     "metadata": {},
     "output_type": "execute_result"
    }
   ],
   "source": [
    "mydic ={\"key1\":123, 2:\"B\"}\n",
    "mydic.update({\"key1\":\"newVal\"})\n",
    "mydic"
   ]
  },
  {
   "cell_type": "code",
   "execution_count": 48,
   "id": "4b9b8671-b484-4eab-9f45-5917ae1ace75",
   "metadata": {},
   "outputs": [
    {
     "data": {
      "text/plain": [
       "{'key1': 'newVal', 2: 'B', 'key3': 'B'}"
      ]
     },
     "execution_count": 48,
     "metadata": {},
     "output_type": "execute_result"
    }
   ],
   "source": [
    "mydic.update({\"key3\":\"B\"})\n",
    "mydic"
   ]
  },
  {
   "cell_type": "code",
   "execution_count": 59,
   "id": "c297b11b-04ac-4be6-be5c-ff961a03940f",
   "metadata": {},
   "outputs": [
    {
     "data": {
      "text/plain": [
       "{'key1': 'B', 2: 'B', 'key3': 'B'}"
      ]
     },
     "execution_count": 59,
     "metadata": {},
     "output_type": "execute_result"
    }
   ],
   "source": [
    "mydic.update({\"key1\":\"B\"})  \n",
    "mydic"
   ]
  },
  {
   "cell_type": "code",
   "execution_count": null,
   "id": "4be8873b-c3c3-4405-9767-46403c9fb2bc",
   "metadata": {},
   "outputs": [],
   "source": []
  },
  {
   "cell_type": "markdown",
   "id": "75ba2ab1-f533-4211-9668-2f648f149149",
   "metadata": {},
   "source": [
    "SET"
   ]
  },
  {
   "cell_type": "code",
   "execution_count": 38,
   "id": "d6009c3e-d214-4698-bb66-f53bc4aeb39e",
   "metadata": {},
   "outputs": [
    {
     "data": {
      "text/plain": [
       "{2, 5, 7, 999}"
      ]
     },
     "execution_count": 38,
     "metadata": {},
     "output_type": "execute_result"
    }
   ],
   "source": [
    "myset.add(999)\n",
    "myset"
   ]
  },
  {
   "cell_type": "code",
   "execution_count": 42,
   "id": "9b71ffb5-f125-479e-9b61-9eab81b9938a",
   "metadata": {},
   "outputs": [
    {
     "ename": "TypeError",
     "evalue": "unhashable type: 'set'",
     "output_type": "error",
     "traceback": [
      "\u001b[1;31m---------------------------------------------------------------------------\u001b[0m",
      "\u001b[1;31mTypeError\u001b[0m                                 Traceback (most recent call last)",
      "Cell \u001b[1;32mIn[42], line 1\u001b[0m\n\u001b[1;32m----> 1\u001b[0m myset\u001b[38;5;241m.\u001b[39madd({\u001b[38;5;241m999\u001b[39m})\n",
      "\u001b[1;31mTypeError\u001b[0m: unhashable type: 'set'"
     ]
    }
   ],
   "source": [
    "myset.add({999})"
   ]
  },
  {
   "cell_type": "code",
   "execution_count": 63,
   "id": "f2c3622f-daf5-4c46-87f6-16dc2dea53a3",
   "metadata": {},
   "outputs": [
    {
     "data": {
      "text/plain": [
       "{2, 5, 7, 999}"
      ]
     },
     "execution_count": 63,
     "metadata": {},
     "output_type": "execute_result"
    }
   ],
   "source": [
    "myset.add(2)\n",
    "myset"
   ]
  },
  {
   "cell_type": "markdown",
   "id": "1548092b-71b5-41a2-8ec5-dc6421beb184",
   "metadata": {},
   "source": [
    "# TUPLE"
   ]
  },
  {
   "cell_type": "code",
   "execution_count": 70,
   "id": "480aa7b1-8f8b-4db8-bf48-d37e49471781",
   "metadata": {},
   "outputs": [
    {
     "data": {
      "text/plain": [
       "('hi', 2, 'bye')"
      ]
     },
     "execution_count": 70,
     "metadata": {},
     "output_type": "execute_result"
    }
   ],
   "source": [
    "mytuple = (\"hi\",2,\"bye\")\n",
    "mytuple"
   ]
  },
  {
   "cell_type": "code",
   "execution_count": 72,
   "id": "c3c80ea2-2186-402c-9d2c-98612840d546",
   "metadata": {},
   "outputs": [
    {
     "ename": "TypeError",
     "evalue": "'tuple' object does not support item assignment",
     "output_type": "error",
     "traceback": [
      "\u001b[1;31m---------------------------------------------------------------------------\u001b[0m",
      "\u001b[1;31mTypeError\u001b[0m                                 Traceback (most recent call last)",
      "Cell \u001b[1;32mIn[72], line 1\u001b[0m\n\u001b[1;32m----> 1\u001b[0m mytuple[\u001b[38;5;241m2\u001b[39m] \u001b[38;5;241m=\u001b[39m \u001b[38;5;124m\"\u001b[39m\u001b[38;5;124mHEY\u001b[39m\u001b[38;5;124m\"\u001b[39m\n",
      "\u001b[1;31mTypeError\u001b[0m: 'tuple' object does not support item assignment"
     ]
    }
   ],
   "source": [
    "mytuple[2] = \"HEY\""
   ]
  },
  {
   "cell_type": "code",
   "execution_count": 74,
   "id": "61c96eac-400e-4d2f-87e1-9c0055878caf",
   "metadata": {},
   "outputs": [
    {
     "data": {
      "text/plain": [
       "{'reema': ['dog', 'cat'],\n",
       " 'deepu': ('chair', 'table'),\n",
       " 'Priya': {'paper', 'pen'}}"
      ]
     },
     "execution_count": 74,
     "metadata": {},
     "output_type": "execute_result"
    }
   ],
   "source": [
    "my_dic = {\"reema\":[\"dog\",\"cat\"], \"deepu\":(\"chair\",\"table\"), \"Priya\":{\"pen\",\"paper\"} }\n",
    "my_dic"
   ]
  },
  {
   "cell_type": "code",
   "execution_count": 76,
   "id": "55e71d09-3c11-49b1-8015-fe02c461b78f",
   "metadata": {},
   "outputs": [],
   "source": [
    "# slide 17 -32 "
   ]
  },
  {
   "cell_type": "code",
   "execution_count": 84,
   "id": "48bcb412-d603-4a90-8f6e-1fb0979b14fd",
   "metadata": {},
   "outputs": [
    {
     "name": "stdout",
     "output_type": "stream",
     "text": [
      "<class 'list'>\n"
     ]
    }
   ],
   "source": [
    "newlist = my_dic[\"reema\"]\n",
    "newlist\n",
    "print(type(newlist))"
   ]
  },
  {
   "cell_type": "code",
   "execution_count": 86,
   "id": "79d65b38-4143-435e-b9e8-829a28f1ef42",
   "metadata": {},
   "outputs": [
    {
     "name": "stdout",
     "output_type": "stream",
     "text": [
      "<class 'tuple'>\n"
     ]
    }
   ],
   "source": [
    "newlist = my_dic[\"deepu\"]\n",
    "newlist\n",
    "print(type(newlist))"
   ]
  },
  {
   "cell_type": "code",
   "execution_count": 88,
   "id": "1395fea8-05f0-4830-80b7-da79ef9517d9",
   "metadata": {},
   "outputs": [
    {
     "name": "stdout",
     "output_type": "stream",
     "text": [
      "<class 'set'>\n"
     ]
    }
   ],
   "source": [
    "newlist = my_dic[\"Priya\"]\n",
    "newlist\n",
    "print(type(newlist))"
   ]
  },
  {
   "cell_type": "code",
   "execution_count": 1,
   "id": "4bbb5b57-1e5c-4b11-9d3d-965cc934cfc5",
   "metadata": {},
   "outputs": [
    {
     "data": {
      "text/plain": [
       "['__add__',\n",
       " '__class__',\n",
       " '__class_getitem__',\n",
       " '__contains__',\n",
       " '__delattr__',\n",
       " '__dir__',\n",
       " '__doc__',\n",
       " '__eq__',\n",
       " '__format__',\n",
       " '__ge__',\n",
       " '__getattribute__',\n",
       " '__getitem__',\n",
       " '__getnewargs__',\n",
       " '__getstate__',\n",
       " '__gt__',\n",
       " '__hash__',\n",
       " '__init__',\n",
       " '__init_subclass__',\n",
       " '__iter__',\n",
       " '__le__',\n",
       " '__len__',\n",
       " '__lt__',\n",
       " '__mul__',\n",
       " '__ne__',\n",
       " '__new__',\n",
       " '__reduce__',\n",
       " '__reduce_ex__',\n",
       " '__repr__',\n",
       " '__rmul__',\n",
       " '__setattr__',\n",
       " '__sizeof__',\n",
       " '__str__',\n",
       " '__subclasshook__',\n",
       " 'count',\n",
       " 'index']"
      ]
     },
     "execution_count": 1,
     "metadata": {},
     "output_type": "execute_result"
    }
   ],
   "source": [
    "dir(tuple)"
   ]
  },
  {
   "cell_type": "code",
   "execution_count": 3,
   "id": "b034aa0c-62ab-46b4-993a-eb4300e85bfc",
   "metadata": {},
   "outputs": [
    {
     "data": {
      "text/plain": [
       "['__and__',\n",
       " '__class__',\n",
       " '__class_getitem__',\n",
       " '__contains__',\n",
       " '__delattr__',\n",
       " '__dir__',\n",
       " '__doc__',\n",
       " '__eq__',\n",
       " '__format__',\n",
       " '__ge__',\n",
       " '__getattribute__',\n",
       " '__getstate__',\n",
       " '__gt__',\n",
       " '__hash__',\n",
       " '__iand__',\n",
       " '__init__',\n",
       " '__init_subclass__',\n",
       " '__ior__',\n",
       " '__isub__',\n",
       " '__iter__',\n",
       " '__ixor__',\n",
       " '__le__',\n",
       " '__len__',\n",
       " '__lt__',\n",
       " '__ne__',\n",
       " '__new__',\n",
       " '__or__',\n",
       " '__rand__',\n",
       " '__reduce__',\n",
       " '__reduce_ex__',\n",
       " '__repr__',\n",
       " '__ror__',\n",
       " '__rsub__',\n",
       " '__rxor__',\n",
       " '__setattr__',\n",
       " '__sizeof__',\n",
       " '__str__',\n",
       " '__sub__',\n",
       " '__subclasshook__',\n",
       " '__xor__',\n",
       " 'add',\n",
       " 'clear',\n",
       " 'copy',\n",
       " 'difference',\n",
       " 'difference_update',\n",
       " 'discard',\n",
       " 'intersection',\n",
       " 'intersection_update',\n",
       " 'isdisjoint',\n",
       " 'issubset',\n",
       " 'issuperset',\n",
       " 'pop',\n",
       " 'remove',\n",
       " 'symmetric_difference',\n",
       " 'symmetric_difference_update',\n",
       " 'union',\n",
       " 'update']"
      ]
     },
     "execution_count": 3,
     "metadata": {},
     "output_type": "execute_result"
    }
   ],
   "source": [
    "dir(set)"
   ]
  },
  {
   "cell_type": "code",
   "execution_count": 5,
   "id": "6fbf87e0-86f9-4c13-a19b-e87ba73c3c29",
   "metadata": {},
   "outputs": [
    {
     "data": {
      "text/plain": [
       "['__class__',\n",
       " '__class_getitem__',\n",
       " '__contains__',\n",
       " '__delattr__',\n",
       " '__delitem__',\n",
       " '__dir__',\n",
       " '__doc__',\n",
       " '__eq__',\n",
       " '__format__',\n",
       " '__ge__',\n",
       " '__getattribute__',\n",
       " '__getitem__',\n",
       " '__getstate__',\n",
       " '__gt__',\n",
       " '__hash__',\n",
       " '__init__',\n",
       " '__init_subclass__',\n",
       " '__ior__',\n",
       " '__iter__',\n",
       " '__le__',\n",
       " '__len__',\n",
       " '__lt__',\n",
       " '__ne__',\n",
       " '__new__',\n",
       " '__or__',\n",
       " '__reduce__',\n",
       " '__reduce_ex__',\n",
       " '__repr__',\n",
       " '__reversed__',\n",
       " '__ror__',\n",
       " '__setattr__',\n",
       " '__setitem__',\n",
       " '__sizeof__',\n",
       " '__str__',\n",
       " '__subclasshook__',\n",
       " 'clear',\n",
       " 'copy',\n",
       " 'fromkeys',\n",
       " 'get',\n",
       " 'items',\n",
       " 'keys',\n",
       " 'pop',\n",
       " 'popitem',\n",
       " 'setdefault',\n",
       " 'update',\n",
       " 'values']"
      ]
     },
     "execution_count": 5,
     "metadata": {},
     "output_type": "execute_result"
    }
   ],
   "source": [
    "dir(dict)"
   ]
  },
  {
   "cell_type": "markdown",
   "id": "c032150f-5d3a-4a17-96b9-47aed366a0c7",
   "metadata": {},
   "source": [
    "# 19 Nov 2024  LOOP"
   ]
  },
  {
   "cell_type": "markdown",
   "id": "5dff6cb0-178a-45c5-acbb-05295eb4d04f",
   "metadata": {},
   "source": [
    "# FOR LOOP"
   ]
  },
  {
   "cell_type": "code",
   "execution_count": 14,
   "id": "ae4a6dc4-99e4-4425-94d4-986060502349",
   "metadata": {},
   "outputs": [
    {
     "data": {
      "text/plain": [
       "{'key1': 'val1', 'key2': 'val2', 'key3': 'val3', 'key4': 'val4'}"
      ]
     },
     "execution_count": 14,
     "metadata": {},
     "output_type": "execute_result"
    }
   ],
   "source": [
    "a= {\"key1\":\"val1\",\"key2\":\"val2\",\"key3\":\"val3\",\"key4\":\"val4\"}\n",
    "a"
   ]
  },
  {
   "cell_type": "code",
   "execution_count": 16,
   "id": "fd677a83-08ef-4658-86e2-8a8c6e44583c",
   "metadata": {},
   "outputs": [
    {
     "data": {
      "text/plain": [
       "dict_keys(['key1', 'key2', 'key3', 'key4'])"
      ]
     },
     "execution_count": 16,
     "metadata": {},
     "output_type": "execute_result"
    }
   ],
   "source": [
    "a.keys() # all keys will be printed"
   ]
  },
  {
   "cell_type": "code",
   "execution_count": 18,
   "id": "9b8cd715-8b0d-4ef9-9148-eaf6a4ffaea9",
   "metadata": {},
   "outputs": [
    {
     "data": {
      "text/plain": [
       "dict_values(['val1', 'val2', 'val3', 'val4'])"
      ]
     },
     "execution_count": 18,
     "metadata": {},
     "output_type": "execute_result"
    }
   ],
   "source": [
    "a.values()"
   ]
  },
  {
   "cell_type": "code",
   "execution_count": 20,
   "id": "1c70f743-0ae1-4035-83f7-e3eb73764a75",
   "metadata": {},
   "outputs": [
    {
     "data": {
      "text/plain": [
       "dict_items([('key1', 'val1'), ('key2', 'val2'), ('key3', 'val3'), ('key4', 'val4')])"
      ]
     },
     "execution_count": 20,
     "metadata": {},
     "output_type": "execute_result"
    }
   ],
   "source": [
    "a.items()"
   ]
  },
  {
   "cell_type": "code",
   "execution_count": 22,
   "id": "00c8b12a-5024-49db-9d1e-d3e23c1ae725",
   "metadata": {},
   "outputs": [
    {
     "name": "stdout",
     "output_type": "stream",
     "text": [
      "my key is:key1\n",
      "my key is:key2\n",
      "my key is:key3\n",
      "my key is:key4\n"
     ]
    }
   ],
   "source": [
    "for mykey in a.keys():\n",
    "        print(\"my key is:\" + mykey)  # datatype of mykey should be string in this case "
   ]
  },
  {
   "cell_type": "code",
   "execution_count": 26,
   "id": "259d59a4-67af-4818-a55f-42405ffeefeb",
   "metadata": {},
   "outputs": [
    {
     "name": "stdout",
     "output_type": "stream",
     "text": [
      "('key1', 'val1')\n",
      "('key2', 'val2')\n",
      "('key3', 'val3')\n",
      "('key4', 'val4')\n"
     ]
    }
   ],
   "source": [
    "for mykey in a.items():\n",
    "        print(mykey)"
   ]
  },
  {
   "cell_type": "code",
   "execution_count": 28,
   "id": "6fde8041-8b7f-45b6-8eb9-a8994bbcad0f",
   "metadata": {},
   "outputs": [
    {
     "name": "stdout",
     "output_type": "stream",
     "text": [
      "key1\n",
      "val1\n",
      "key2\n",
      "val2\n",
      "key3\n",
      "val3\n",
      "key4\n",
      "val4\n"
     ]
    }
   ],
   "source": [
    "for mykey in a.items():\n",
    "    for keyval in mykey:\n",
    "        print(keyval)"
   ]
  },
  {
   "cell_type": "code",
   "execution_count": 32,
   "id": "22790b52-a41b-427d-8cdb-623e4ad8f295",
   "metadata": {},
   "outputs": [
    {
     "name": "stdout",
     "output_type": "stream",
     "text": [
      "key1\n",
      "key2\n",
      "key3\n",
      "key4\n"
     ]
    }
   ],
   "source": [
    "for mykey1 in a:\n",
    "    print(mykey1)"
   ]
  },
  {
   "cell_type": "markdown",
   "id": "ffa894b6-ecdb-49ab-8fd1-660d2bdba902",
   "metadata": {},
   "source": [
    "# WHILE"
   ]
  },
  {
   "cell_type": "code",
   "execution_count": 36,
   "id": "6c0b233b-d491-4719-9bf4-fb1a3bb5c77a",
   "metadata": {},
   "outputs": [
    {
     "name": "stdout",
     "output_type": "stream",
     "text": [
      "5\n",
      "6\n",
      "7\n",
      "8\n",
      "9\n",
      "10\n",
      "11\n",
      "12\n",
      "13\n",
      "14\n",
      "15\n"
     ]
    }
   ],
   "source": [
    "b=5\n",
    "while (b<16):\n",
    "    print(b)\n",
    "    b=b+1\n",
    "    "
   ]
  },
  {
   "cell_type": "code",
   "execution_count": 46,
   "id": "dc25bdb9-639e-4f90-a9e6-d2eb8408b1d9",
   "metadata": {},
   "outputs": [
    {
     "name": "stdout",
     "output_type": "stream",
     "text": [
      "1\n"
     ]
    },
    {
     "name": "stdin",
     "output_type": "stream",
     "text": [
      "enter 0/1 1\n"
     ]
    },
    {
     "name": "stdout",
     "output_type": "stream",
     "text": [
      "<class 'int'>\n",
      "1\n"
     ]
    },
    {
     "name": "stdin",
     "output_type": "stream",
     "text": [
      "enter 0/1 1\n"
     ]
    },
    {
     "name": "stdout",
     "output_type": "stream",
     "text": [
      "<class 'int'>\n",
      "1\n"
     ]
    },
    {
     "name": "stdin",
     "output_type": "stream",
     "text": [
      "enter 0/1 0\n"
     ]
    },
    {
     "name": "stdout",
     "output_type": "stream",
     "text": [
      "<class 'int'>\n"
     ]
    }
   ],
   "source": [
    "f= 1\n",
    "while f==1:\n",
    "    print (f)\n",
    "    f = int(input(\"enter 0/1\"))\n",
    "    print(type(f))"
   ]
  },
  {
   "cell_type": "code",
   "execution_count": 50,
   "id": "169da43f-8091-4d3d-9f36-23b4cb2e5a12",
   "metadata": {},
   "outputs": [
    {
     "name": "stdout",
     "output_type": "stream",
     "text": [
      "2\n",
      "4\n",
      "6\n",
      "8\n",
      "10\n"
     ]
    }
   ],
   "source": [
    "b=2\n",
    "while (b<12):\n",
    "    print(b)\n",
    "    b=b+2\n",
    "    "
   ]
  },
  {
   "cell_type": "code",
   "execution_count": 52,
   "id": "bd9b6700-0fb6-4b45-82ea-ffbabefa224c",
   "metadata": {},
   "outputs": [],
   "source": [
    "# BREAK   >>  stops the loop"
   ]
  },
  {
   "cell_type": "code",
   "execution_count": 54,
   "id": "d02476c0-9ebb-40cd-bbf4-44dd8282f444",
   "metadata": {},
   "outputs": [
    {
     "name": "stdout",
     "output_type": "stream",
     "text": [
      "5\n"
     ]
    }
   ],
   "source": [
    "b=5\n",
    "while (b<16):\n",
    "    print(b)\n",
    "    b=b+1\n",
    "    break"
   ]
  },
  {
   "cell_type": "code",
   "execution_count": 58,
   "id": "f955ab7f-54fe-4deb-be82-9a78d6ca7b2c",
   "metadata": {},
   "outputs": [
    {
     "name": "stdout",
     "output_type": "stream",
     "text": [
      "1\n"
     ]
    },
    {
     "name": "stdin",
     "output_type": "stream",
     "text": [
      "enter yes or no n\n"
     ]
    },
    {
     "name": "stdout",
     "output_type": "stream",
     "text": [
      "we are stopped\n"
     ]
    }
   ],
   "source": [
    "f= 1\n",
    "while f==1:\n",
    "    print (f)\n",
    "    g= input(\"enter yes or no\")\n",
    "    \n",
    "    if (g == \"yes\"):\n",
    "        print(\"we are looping\")\n",
    "    else:\n",
    "        print(\"we are stopped\")\n",
    "        break # stops exec when this condition executes and goes out of while loop\n",
    "        "
   ]
  },
  {
   "cell_type": "code",
   "execution_count": 60,
   "id": "afafad18-638f-490b-8f65-8548b13316a6",
   "metadata": {},
   "outputs": [
    {
     "name": "stdout",
     "output_type": "stream",
     "text": [
      "8\n",
      "this line never gets printed\n",
      "9\n",
      "this line never gets printed\n",
      "10\n",
      "this line never gets printed\n"
     ]
    }
   ],
   "source": [
    "h=8\n",
    "while h<11:\n",
    "    print(h)\n",
    "    h+=1\n",
    "    print(\"this line never gets printed\")"
   ]
  },
  {
   "cell_type": "code",
   "execution_count": 66,
   "id": "c6b92457-0a02-437a-9740-9c9580ef4902",
   "metadata": {},
   "outputs": [
    {
     "name": "stdout",
     "output_type": "stream",
     "text": [
      "1\n"
     ]
    },
    {
     "name": "stdin",
     "output_type": "stream",
     "text": [
      "enter yes or no v\n"
     ]
    },
    {
     "name": "stdout",
     "output_type": "stream",
     "text": [
      "we are stopped\n"
     ]
    }
   ],
   "source": [
    "f= 1\n",
    "while f==1:\n",
    "    print (f)\n",
    "    g= input(\"enter yes or no\")    \n",
    "    if (g == \"yes\"):\n",
    "        continue # this key word will take the loop back to the condition check\n",
    "        print(\"we are looping\")\n",
    "    else:\n",
    "        print(\"we are stopped\")\n",
    "        break\n",
    "    print (\" this will not get printed\")\n",
    "    \n",
    "        "
   ]
  },
  {
   "cell_type": "markdown",
   "id": "bcf874a8-1b48-4411-92d6-1d7818ff69f6",
   "metadata": {},
   "source": [
    "# ITER()\n"
   ]
  },
  {
   "cell_type": "code",
   "execution_count": 95,
   "id": "54fc7270-b483-4149-a05c-44bceb507ef7",
   "metadata": {},
   "outputs": [
    {
     "name": "stdout",
     "output_type": "stream",
     "text": [
      "1\n",
      "2\n",
      "3\n",
      "4\n"
     ]
    }
   ],
   "source": [
    "k=[1,2,3,4]\n",
    "x =iter(k)\n",
    "print(next(x))\n",
    "print(next(x))\n",
    "print(next(x))\n",
    "print(next(x))\n",
    "# print(next(x))  -- error: StopIteration"
   ]
  },
  {
   "cell_type": "code",
   "execution_count": 105,
   "id": "3902800a-81f8-4cf7-be74-e0d086d19c67",
   "metadata": {},
   "outputs": [
    {
     "name": "stdout",
     "output_type": "stream",
     "text": [
      "key1\n",
      "key2\n",
      "key3\n",
      "key4\n"
     ]
    }
   ],
   "source": [
    "dica= {\"key1\":\"val1\",\"key2\":\"val2\",\"key3\":\"val3\",\"key4\":\"val4\"}\n",
    "dicx= iter(dica)\n",
    "print(next(dicx))\n",
    "print(next(dicx))\n",
    "print(next(dicx))\n",
    "print(next(dicx))"
   ]
  },
  {
   "cell_type": "code",
   "execution_count": null,
   "id": "55ae4d48-0deb-4ec8-9b60-0d307cd84adb",
   "metadata": {},
   "outputs": [],
   "source": []
  }
 ],
 "metadata": {
  "kernelspec": {
   "display_name": "Python 3 (ipykernel)",
   "language": "python",
   "name": "python3"
  },
  "language_info": {
   "codemirror_mode": {
    "name": "ipython",
    "version": 3
   },
   "file_extension": ".py",
   "mimetype": "text/x-python",
   "name": "python",
   "nbconvert_exporter": "python",
   "pygments_lexer": "ipython3",
   "version": "3.12.7"
  }
 },
 "nbformat": 4,
 "nbformat_minor": 5
}
