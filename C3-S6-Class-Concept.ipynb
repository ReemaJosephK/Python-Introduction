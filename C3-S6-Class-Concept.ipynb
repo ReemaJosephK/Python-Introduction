{
 "cells": [
  {
   "cell_type": "markdown",
   "id": "76b0b19f-56c6-4de7-85ee-325e5563a24b",
   "metadata": {},
   "source": [
    "# Class"
   ]
  },
  {
   "cell_type": "markdown",
   "id": "84b9d750-d0bc-4fdb-84a3-07611a0b328a",
   "metadata": {},
   "source": [
    "class is a structure, no memory is allocated to the blueprint\n",
    "dynamic memory allocation\n",
    "memory allocated per object * number of variables \n",
    "instance variable\n",
    "\n",
    "object is an instance of class\n",
    "\n",
    "Class variable & Instance variable\n",
    "\n",
    "OOPS >>  Object Oriented programming \n",
    "\n",
    "VIVA ------- Local, global , instance variable, \n",
    "\n",
    "\n",
    "#method  >>>  class function is knowas methods\n"
   ]
  },
  {
   "cell_type": "code",
   "execution_count": 3,
   "id": "21911f71-2a95-41f6-b5aa-ab6b764e5135",
   "metadata": {},
   "outputs": [],
   "source": [
    "class Car():\n",
    "    pass #nothing stored in the calss\n",
    "obj1=Car()  #first object"
   ]
  },
  {
   "cell_type": "code",
   "execution_count": 4,
   "id": "cfdf2e13-67e9-4534-aead-771d073997da",
   "metadata": {},
   "outputs": [
    {
     "name": "stdout",
     "output_type": "stream",
     "text": [
      "I am a constructor\n"
     ]
    }
   ],
   "source": [
    "class Car():\n",
    "        def __init__(self):  # simple constructor \n",
    "            print(\"I am a constructor\")\n",
    "obj1 = Car()  #first object"
   ]
  },
  {
   "cell_type": "code",
   "execution_count": 5,
   "id": "106dc2c9-6a35-4095-9aa0-c15bceac1607",
   "metadata": {},
   "outputs": [
    {
     "name": "stdout",
     "output_type": "stream",
     "text": [
      "I am a constructor:  convertible\n",
      "I am a constructor:  suv\n",
      "I am a constructor:  vintage\n"
     ]
    }
   ],
   "source": [
    "class Car():\n",
    "        def __init__(self, segment):\n",
    "            self.carsegment = segment\n",
    "            print(\"I am a constructor: \", self.carsegment )\n",
    "            \n",
    "obj1 = Car(\"convertible\")\n",
    "obj2 = Car(\"suv\")\n",
    "obj3 = Car(\"vintage\")"
   ]
  },
  {
   "cell_type": "code",
   "execution_count": 6,
   "id": "14b605ff-3ff0-4866-99e3-fbe98e728f6b",
   "metadata": {},
   "outputs": [
    {
     "name": "stdout",
     "output_type": "stream",
     "text": [
      "I am a constructor:  convertible\n",
      "I am a constructor:  suv\n",
      "I am a constructor:  vintage\n",
      "this method drives car type:  convertible\n"
     ]
    }
   ],
   "source": [
    "class Car():\n",
    "        def __init__(self, segment):\n",
    "            self.carsegment = segment\n",
    "            print(\"I am a constructor: \", self.carsegment )\n",
    "            \n",
    "        def myMethod(self):\n",
    "            print(\"this method drives car type: \", self.carsegment)\n",
    "\n",
    "#constructor \n",
    "obj1 = Car(\"convertible\")\n",
    "obj2 = Car(\"suv\")\n",
    "obj3 = Car(\"vintage\")\n",
    "\n",
    "#call method\n",
    "obj1.myMethod()\n",
    "\n"
   ]
  },
  {
   "cell_type": "code",
   "execution_count": 7,
   "id": "a3f67c4c-8f74-47a2-9c91-0ec2a900da48",
   "metadata": {},
   "outputs": [
    {
     "name": "stdout",
     "output_type": "stream",
     "text": [
      "I am a constructor:  1 brown 2\n"
     ]
    }
   ],
   "source": [
    "class Cat:\n",
    "        def __init__(self, myid, mycolor, myage):\n",
    "            self.myid = myid  # self.myid is instant variable available to the object. myid is local var only scope in constructor \n",
    "            self.mycolor = mycolor\n",
    "            self.myage = myage\n",
    "            print(\"I am a constructor: \", myid, mycolor, myage )\n",
    "\n",
    "#constructor \n",
    "obj1 = Cat(1, \"brown\",2)\n"
   ]
  },
  {
   "cell_type": "code",
   "execution_count": 8,
   "id": "40c2a057-9ac4-41db-8d2c-66b67a1c643d",
   "metadata": {},
   "outputs": [
    {
     "name": "stdout",
     "output_type": "stream",
     "text": [
      "I am a constructor:  1 brown 2\n",
      "cat speaking:  meow 1\n",
      "I am a constructor:  2 black 5\n",
      "cat speaking:  meowwwwwww 2\n",
      "cat1 age 5\n"
     ]
    }
   ],
   "source": [
    "class Cat:\n",
    "        def __init__(self, myid, mycolor, myage):\n",
    "            self.myid = myid\n",
    "            self.mycolor = mycolor\n",
    "            self.myage = myage\n",
    "            print(\"I am a constructor: \", myid, mycolor, myage )\n",
    "\n",
    "        def CatsSpeaking(self,sound):\n",
    "            print(\"cat speaking: \", sound , self.myid)\n",
    "\n",
    "#constructor \n",
    "obj1 = Cat(1, \"brown\",2)\n",
    "obj1.CatsSpeaking(\"meow\")\n",
    "\n",
    "obj1 = Cat(2, \"black\",5)\n",
    "obj1.CatsSpeaking(\"meowwwwwww\")\n",
    "\n",
    "print(\"cat1 age\", obj1.myage)"
   ]
  },
  {
   "cell_type": "markdown",
   "id": "70144396-3671-46b6-9a45-5f697247f553",
   "metadata": {},
   "source": [
    "# 27 Nov 2024 11.30am"
   ]
  },
  {
   "cell_type": "code",
   "execution_count": 10,
   "id": "db2a102a-7c8d-4bb5-9e33-efdf498f64ae",
   "metadata": {},
   "outputs": [
    {
     "name": "stdin",
     "output_type": "stream",
     "text": [
      "enter dog name:  a\n"
     ]
    },
    {
     "name": "stdout",
     "output_type": "stream",
     "text": [
      "a  is barking\n",
      "Tommy  is also barking\n"
     ]
    },
    {
     "data": {
      "text/plain": [
       "'Tommy'"
      ]
     },
     "execution_count": 10,
     "metadata": {},
     "output_type": "execute_result"
    }
   ],
   "source": [
    "dname_global  =  input(\"enter dog name: \")\n",
    "\n",
    "def dogs(dname_local):\n",
    "    print(dname_global, \" is barking\")\n",
    "    print(dname_local, \" is also barking\")\n",
    "    return dname_local\n",
    "\n",
    "dname_local  = \"Tommy\"\n",
    "dogs(dname_local)"
   ]
  },
  {
   "cell_type": "code",
   "execution_count": 11,
   "id": "38f4af92-cff6-4de4-a911-59bfd448907f",
   "metadata": {},
   "outputs": [
    {
     "name": "stdin",
     "output_type": "stream",
     "text": [
      "enter dog name:  a\n"
     ]
    },
    {
     "name": "stdout",
     "output_type": "stream",
     "text": [
      "a  is barking\n",
      "Tommy  is also barking\n",
      "a  is black\n",
      "Tommy  is white\n"
     ]
    }
   ],
   "source": [
    "dname_global  =  input(\"enter dog name: \")\n",
    "\n",
    "def dogs(dname_local):\n",
    "    print(dname_global, \" is barking\")\n",
    "    print(dname_local, \" is also barking\")\n",
    "    dogColor()\n",
    "   \n",
    "\n",
    "def dogColor():\n",
    "    print(dname_global, \" is black\")\n",
    "    print(dname_local, \" is white\")\n",
    "\n",
    "dname_local  = \"Tommy\"\n",
    "dogs(dname_local)"
   ]
  },
  {
   "cell_type": "code",
   "execution_count": 9,
   "id": "48ec6eaa-57bf-4fec-a5d2-82ce2202e324",
   "metadata": {},
   "outputs": [
    {
     "name": "stdin",
     "output_type": "stream",
     "text": [
      "enter dog name:  candy\n"
     ]
    },
    {
     "name": "stdout",
     "output_type": "stream",
     "text": [
      "candy  is black\n"
     ]
    }
   ],
   "source": [
    "dname_global  =  input(\"enter dog name: \")\n",
    "\n",
    "def dogColor():\n",
    "    print(dname_global, \" is black\")\n",
    "\n",
    "def dogs(dname_local):\n",
    "    print(dname_global, \" is barking\")\n",
    "    print(dname_local, \" is also barking\")\n",
    "    dogColor()\n",
    "\n",
    "def main():\n",
    "    dogColor()\n",
    "\n",
    "if __name__==\"__main__\":\n",
    "    main()\n",
    "\n"
   ]
  },
  {
   "cell_type": "code",
   "execution_count": 12,
   "id": "0763195d-e821-447a-a133-55d3d09f28fc",
   "metadata": {},
   "outputs": [
    {
     "name": "stdout",
     "output_type": "stream",
     "text": [
      "name is :  John\n"
     ]
    }
   ],
   "source": [
    "#class\n",
    "class Student:\n",
    "    def fun(self):\n",
    "        localVarName = \"John\"\n",
    "        print(\"name is : \",localVarName)\n",
    "        \n",
    "obj = Student()\n",
    "obj.fun()\n",
    "\n"
   ]
  },
  {
   "cell_type": "code",
   "execution_count": 20,
   "id": "884706c0-5197-43cf-9ed2-ec6381089509",
   "metadata": {},
   "outputs": [
    {
     "name": "stdout",
     "output_type": "stream",
     "text": [
      "I am a constructor2\n",
      "name is :  John\n"
     ]
    }
   ],
   "source": [
    "#class\n",
    "class Student:\n",
    "    def __init__(self, var):\n",
    "        print(\"I am a constructor\")\n",
    "        \n",
    "    def __init__(self):\n",
    "        print(\"I am a constructor2\")\n",
    "        \n",
    "    def fun(self): #instance method is with self\n",
    "        localVarName = \"John\"\n",
    "        self.insVar =\"exaple\" #instance variable\n",
    "        print(\"name is : \",localVarName)\n",
    "        \n",
    "obj = Student()\n",
    "obj.fun()\n"
   ]
  },
  {
   "cell_type": "code",
   "execution_count": 24,
   "id": "f8c76039-c01c-48bf-8641-01acd68dbbd3",
   "metadata": {},
   "outputs": [
    {
     "name": "stdout",
     "output_type": "stream",
     "text": [
      "11\n"
     ]
    }
   ],
   "source": [
    "#class\n",
    "class Student:\n",
    "    age = 11 #class variable\n",
    "\n",
    "print(Student.age)"
   ]
  },
  {
   "cell_type": "code",
   "execution_count": 30,
   "id": "a7ba8bf0-cbb1-4d9b-a857-69851c4db43d",
   "metadata": {},
   "outputs": [
    {
     "name": "stdout",
     "output_type": "stream",
     "text": [
      "graduation details 1 12\n"
     ]
    }
   ],
   "source": [
    "class School:\n",
    "    def __init__(self,sname, marks_12):\n",
    "        self.name=sname\n",
    "        self.marks=marks_12\n",
    "\n",
    "class College:\n",
    "    def __init__(self,sid,marks_grad):\n",
    "        self.id=sid\n",
    "        self.score=marks_grad\n",
    "    def fun(self,gender):\n",
    "        print(\"graduation details\", self.id, self.score)\n",
    "\n",
    "obj1= College(1,12)\n",
    "obj1.fun(\"male\")\n",
    "        \n",
    "    "
   ]
  },
  {
   "cell_type": "code",
   "execution_count": 32,
   "id": "e6ced049-4791-4dba-b24e-9644e8cdf387",
   "metadata": {},
   "outputs": [
    {
     "name": "stdout",
     "output_type": "stream",
     "text": [
      "graduation details 1 12\n",
      "reema 20\n"
     ]
    }
   ],
   "source": [
    "class School:\n",
    "    def __init__(self,sname, marks_12):\n",
    "        self.name=sname\n",
    "        self.marks=marks_12\n",
    "\n",
    "class College:\n",
    "    def __init__(self,sid,marks_grad):\n",
    "        self.id=sid\n",
    "        self.score=marks_grad\n",
    "    def fun(self,gender):\n",
    "        print(\"graduation details\", self.id, self.score)\n",
    "        obj2 = School(\"reema\",20)\n",
    "        print(obj2.name, obj2.marks)\n",
    "\n",
    "obj1= College(1,12)\n",
    "obj1.fun(\"male\")\n",
    "        "
   ]
  },
  {
   "cell_type": "markdown",
   "id": "4767099c-d5fc-44ca-a972-b5641b8ac120",
   "metadata": {},
   "source": [
    "# 28Nov2024 Decorators in Python\n",
    "# identified by @classmethod >>  this will change class method into decorator\n",
    "\n",
    "Class method\n",
    "def method_name (cls,arguments):\n",
    "\n",
    "Static Method:\n",
    "def method_name (arguments):\n",
    "\n",
    "Instance Method:\n",
    "def method_name (self, arguments):\n"
   ]
  },
  {
   "cell_type": "code",
   "execution_count": 82,
   "id": "ada963b1-5340-4314-b51b-9cbeb3a7e5f2",
   "metadata": {},
   "outputs": [
    {
     "name": "stdout",
     "output_type": "stream",
     "text": [
      "10\n",
      "200\n",
      "10\n",
      "localvar\n",
      "200\n",
      "10\n",
      "10\n",
      "class-localvar\n",
      "200\n",
      "10\n",
      "10\n",
      "class-localvar\n"
     ]
    }
   ],
   "source": [
    "globalvar = 200\n",
    "\n",
    "class abc():\n",
    "    classvar =10 # class varibale\n",
    "    print (classvar) # always gets printed\n",
    "    \n",
    "    #instance method\n",
    "    def instanceMethod(self, a):\n",
    "        print(globalvar)\n",
    "        print(abc.classvar)\n",
    "        print(a)\n",
    "\n",
    "    @classmethod\n",
    "    def classMethod(cls, a):\n",
    "        print(globalvar)\n",
    "        print(abc.classvar)\n",
    "        print(cls.classvar)\n",
    "        print(a)\n",
    "        \n",
    "obj = abc()\n",
    "obj.instanceMethod(\"localvar\")\n",
    "obj.classMethod(\"class-localvar\")\n",
    "abc.classMethod(\"class-localvar\")\n",
    "\n",
    "# abc.instanceMethod(\"localvar\")  # fails becoz an object is needed"
   ]
  },
  {
   "cell_type": "code",
   "execution_count": 70,
   "id": "c0db7f05-36f9-4bdd-a388-6f0e6ae80b03",
   "metadata": {},
   "outputs": [
    {
     "name": "stdout",
     "output_type": "stream",
     "text": [
      "10\n",
      "200\n",
      "10\n",
      "localvar\n",
      "1000\n",
      "1001\n",
      "200\n",
      "10\n",
      "static-localvar\n",
      "1000\n",
      "1001\n"
     ]
    }
   ],
   "source": [
    "globalvar = 200\n",
    "\n",
    "class abc():\n",
    "    classvar =10 # class varibale\n",
    "    print (classvar) # always gets printed\n",
    "    \n",
    "    @staticmethod\n",
    "    def staicMethod(a):\n",
    "        staticvar=1000\n",
    "        print(globalvar)\n",
    "        print(abc.classvar)\n",
    "        print(a)\n",
    "        print(staticvar)\n",
    "        staticvar = staticvar+1\n",
    "        print(staticvar)\n",
    "        \n",
    "obj = abc()\n",
    "obj.staicMethod(\"localvar\")\n",
    "\n",
    "abc.staicMethod(\"static-localvar\")\n"
   ]
  },
  {
   "cell_type": "code",
   "execution_count": 86,
   "id": "a5c8f875-f5f5-4345-8503-83d1a842e508",
   "metadata": {},
   "outputs": [
    {
     "name": "stdout",
     "output_type": "stream",
     "text": [
      "10\n"
     ]
    }
   ],
   "source": [
    "globalvar = 200\n",
    "\n",
    "class abc():\n",
    "    classvar =10 # class varibale\n",
    "    \n",
    "    @staticmethod\n",
    "    def staicMethod():\n",
    "        staticvar=1000\n",
    "        staticvar =abc.classvar\n",
    "        print(staticvar)\n",
    "\n",
    "\n",
    "    #instance method\n",
    "    def instanceMethod(self):\n",
    "        self.age=50\n",
    "        \n",
    "\n",
    "\n",
    "    @classmethod\n",
    "    def classMethod(cls):\n",
    "        print(staticvar)\n",
    "\n",
    "\n",
    "\n",
    "abc.staicMethod()\n",
    "# abc.classMethod()  #failed\n",
    "\n",
    "obj = abc()\n",
    "obj.instanceMethod()\n"
   ]
  },
  {
   "cell_type": "markdown",
   "id": "f895c549-9f35-40f6-9185-887d945a1ffe",
   "metadata": {},
   "source": [
    "# difference between static and class method\n",
    "\n",
    "Static method knows nothing about the class and just deals with the parameters\n",
    "\n",
    "Class method works with the class since its parameter is always the class itself. \n",
    "The class method can be called both by the class and its object. This cls parameter is the class object we talked about, which allows @classmethod methods to easily instantiate the class, regardless of any inheritance going on.\n",
    "\n",
    "The lack of this cls parameter in @staticmethod methods make them true static methods in the traditional sense."
   ]
  },
  {
   "cell_type": "markdown",
   "id": "da9bd35f-1a5d-44fc-91a3-355edfb8a6e9",
   "metadata": {},
   "source": [
    "# Practice class 11/28 12:05brl\n",
    "#task 1 -simple\n",
    "\n",
    "#task 2 - validation >> use if else\n",
    "\n",
    "#task 3 - task 1 mark ...max percentage 100 ...if else\n",
    "\n",
    "#task 4 - tak 1 , and task 43... if else inside a class method\n",
    "\n",
    "#task 5 - display data ,, from input user + grade calculated\n",
    "\n",
    "#task 6 - max guardians =2 , C: two mobile numbers, 7 digits , len(7)\n",
    "\n",
    "#task 7 -"
   ]
  },
  {
   "cell_type": "code",
   "execution_count": null,
   "id": "77c7cae4-94a9-4b5a-b531-32cd215f2184",
   "metadata": {},
   "outputs": [],
   "source": []
  }
 ],
 "metadata": {
  "kernelspec": {
   "display_name": "Python 3 (ipykernel)",
   "language": "python",
   "name": "python3"
  },
  "language_info": {
   "codemirror_mode": {
    "name": "ipython",
    "version": 3
   },
   "file_extension": ".py",
   "mimetype": "text/x-python",
   "name": "python",
   "nbconvert_exporter": "python",
   "pygments_lexer": "ipython3",
   "version": "3.12.7"
  }
 },
 "nbformat": 4,
 "nbformat_minor": 5
}
