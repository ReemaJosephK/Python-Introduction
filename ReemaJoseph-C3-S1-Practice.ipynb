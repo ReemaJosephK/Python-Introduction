{
 "cells": [
  {
   "cell_type": "markdown",
   "id": "313e3c5e-4e5b-44d9-9549-9f3153558f10",
   "metadata": {},
   "source": [
    "# Task 1"
   ]
  },
  {
   "cell_type": "code",
   "execution_count": 3,
   "id": "aa0ceef2-739b-4558-afdc-efd2fbaf6ad2",
   "metadata": {},
   "outputs": [
    {
     "name": "stdout",
     "output_type": "stream",
     "text": [
      "10\n",
      "<class 'int'>\n"
     ]
    }
   ],
   "source": [
    "# Task1.a\n",
    "rollno =10\n",
    "print(rollno)\n",
    "print(type(rollno))"
   ]
  },
  {
   "cell_type": "code",
   "execution_count": 83,
   "id": "65203b05-058b-4a1d-9b48-f98bf77ae0e4",
   "metadata": {},
   "outputs": [
    {
     "name": "stdout",
     "output_type": "stream",
     "text": [
      "Reema\n",
      "<class 'str'>\n"
     ]
    }
   ],
   "source": [
    "# Task1.b\n",
    "firstname =\"Reema\"\n",
    "print(firstname)\n",
    "print(type(firstname))"
   ]
  },
  {
   "cell_type": "code",
   "execution_count": 85,
   "id": "44ef465a-781b-49c3-afb0-a93855cd2fe9",
   "metadata": {},
   "outputs": [
    {
     "name": "stdout",
     "output_type": "stream",
     "text": [
      "Joseph\n",
      "<class 'str'>\n"
     ]
    }
   ],
   "source": [
    "# Task1.c\n",
    "lastname =\"Joseph\"\n",
    "print(lastname)\n",
    "print(type(lastname))"
   ]
  },
  {
   "cell_type": "code",
   "execution_count": 10,
   "id": "efef4c36-9105-40dc-8c0b-aafeb9050667",
   "metadata": {},
   "outputs": [
    {
     "name": "stdout",
     "output_type": "stream",
     "text": [
      "50\n",
      "<class 'int'>\n"
     ]
    }
   ],
   "source": [
    "# Task1.d\n",
    "maxmarks = 50\n",
    "print(maxmarks)\n",
    "print(type(maxmarks))"
   ]
  },
  {
   "cell_type": "markdown",
   "id": "93f45699-72f1-4fc6-9765-9791d255f7b8",
   "metadata": {},
   "source": [
    "# Task 2"
   ]
  },
  {
   "cell_type": "code",
   "execution_count": 13,
   "id": "9896461b-23e0-4ccc-a781-228b806a27c7",
   "metadata": {},
   "outputs": [],
   "source": [
    "var1 = 2"
   ]
  },
  {
   "cell_type": "code",
   "execution_count": 29,
   "id": "df70a840-b5b5-4e3c-9d03-910a4acafedb",
   "metadata": {},
   "outputs": [
    {
     "ename": "SyntaxError",
     "evalue": "invalid decimal literal (2593071960.py, line 1)",
     "output_type": "error",
     "traceback": [
      "\u001b[1;36m  Cell \u001b[1;32mIn[29], line 1\u001b[1;36m\u001b[0m\n\u001b[1;33m    2var = 2\u001b[0m\n\u001b[1;37m    ^\u001b[0m\n\u001b[1;31mSyntaxError\u001b[0m\u001b[1;31m:\u001b[0m invalid decimal literal\n"
     ]
    }
   ],
   "source": [
    "2var = 2"
   ]
  },
  {
   "cell_type": "code",
   "execution_count": 31,
   "id": "49243612-be6e-4dce-8fa8-f0c2c6e7e416",
   "metadata": {},
   "outputs": [
    {
     "ename": "SyntaxError",
     "evalue": "invalid syntax (1069141224.py, line 1)",
     "output_type": "error",
     "traceback": [
      "\u001b[1;36m  Cell \u001b[1;32mIn[31], line 1\u001b[1;36m\u001b[0m\n\u001b[1;33m    var 1 = 2\u001b[0m\n\u001b[1;37m        ^\u001b[0m\n\u001b[1;31mSyntaxError\u001b[0m\u001b[1;31m:\u001b[0m invalid syntax\n"
     ]
    }
   ],
   "source": [
    "var 1 = 2"
   ]
  },
  {
   "cell_type": "code",
   "execution_count": 33,
   "id": "a1043bd6-745a-4db0-b6b2-9d01f54b83ee",
   "metadata": {},
   "outputs": [
    {
     "ename": "SyntaxError",
     "evalue": "invalid syntax (2085239645.py, line 1)",
     "output_type": "error",
     "traceback": [
      "\u001b[1;36m  Cell \u001b[1;32mIn[33], line 1\u001b[1;36m\u001b[0m\n\u001b[1;33m    var$2 = 2\u001b[0m\n\u001b[1;37m       ^\u001b[0m\n\u001b[1;31mSyntaxError\u001b[0m\u001b[1;31m:\u001b[0m invalid syntax\n"
     ]
    }
   ],
   "source": [
    "var$2 = 2"
   ]
  },
  {
   "cell_type": "markdown",
   "id": "7c4a0ed5-fbe3-418c-a843-895621847619",
   "metadata": {},
   "source": [
    "# observation \n",
    "only first one is following valid/allowed variable format. Rest all are invalid. "
   ]
  },
  {
   "cell_type": "markdown",
   "id": "fd52b9b9-8633-4a9d-80b1-d2bd8450f879",
   "metadata": {},
   "source": [
    "# Task3"
   ]
  },
  {
   "cell_type": "code",
   "execution_count": 37,
   "id": "9e973093-5fff-4e1f-a0fa-32ea7c577640",
   "metadata": {},
   "outputs": [],
   "source": [
    "Class=15"
   ]
  },
  {
   "cell_type": "code",
   "execution_count": 41,
   "id": "258c3627-68bb-4304-8c99-c75ee82dc28c",
   "metadata": {},
   "outputs": [
    {
     "ename": "SyntaxError",
     "evalue": "invalid syntax (1850406401.py, line 1)",
     "output_type": "error",
     "traceback": [
      "\u001b[1;36m  Cell \u001b[1;32mIn[41], line 1\u001b[1;36m\u001b[0m\n\u001b[1;33m    class = 15\u001b[0m\n\u001b[1;37m          ^\u001b[0m\n\u001b[1;31mSyntaxError\u001b[0m\u001b[1;31m:\u001b[0m invalid syntax\n"
     ]
    }
   ],
   "source": [
    "class = 15"
   ]
  },
  {
   "cell_type": "code",
   "execution_count": 43,
   "id": "7a43d2ab-3847-485f-aa9f-76153fc948a3",
   "metadata": {},
   "outputs": [],
   "source": [
    "DEF = 13"
   ]
  },
  {
   "cell_type": "code",
   "execution_count": 45,
   "id": "22de82b1-22af-4d72-b4e3-e83f3fdb70db",
   "metadata": {},
   "outputs": [
    {
     "ename": "SyntaxError",
     "evalue": "invalid syntax (2149395452.py, line 1)",
     "output_type": "error",
     "traceback": [
      "\u001b[1;36m  Cell \u001b[1;32mIn[45], line 1\u001b[1;36m\u001b[0m\n\u001b[1;33m    def =12\u001b[0m\n\u001b[1;37m        ^\u001b[0m\n\u001b[1;31mSyntaxError\u001b[0m\u001b[1;31m:\u001b[0m invalid syntax\n"
     ]
    }
   ],
   "source": [
    "def = 12"
   ]
  },
  {
   "cell_type": "code",
   "execution_count": 47,
   "id": "0130aaca-a44a-4bab-acbc-4785803aed55",
   "metadata": {},
   "outputs": [
    {
     "ename": "NameError",
     "evalue": "name 'TRUE' is not defined",
     "output_type": "error",
     "traceback": [
      "\u001b[1;31m---------------------------------------------------------------------------\u001b[0m",
      "\u001b[1;31mNameError\u001b[0m                                 Traceback (most recent call last)",
      "Cell \u001b[1;32mIn[47], line 1\u001b[0m\n\u001b[1;32m----> 1\u001b[0m a\u001b[38;5;241m=\u001b[39mTRUE\n",
      "\u001b[1;31mNameError\u001b[0m: name 'TRUE' is not defined"
     ]
    }
   ],
   "source": [
    "a=TRUE"
   ]
  },
  {
   "cell_type": "code",
   "execution_count": 49,
   "id": "7ed73398-4e36-4f83-8d3f-a0bbf3dd34b0",
   "metadata": {},
   "outputs": [
    {
     "ename": "NameError",
     "evalue": "name 'false' is not defined",
     "output_type": "error",
     "traceback": [
      "\u001b[1;31m---------------------------------------------------------------------------\u001b[0m",
      "\u001b[1;31mNameError\u001b[0m                                 Traceback (most recent call last)",
      "Cell \u001b[1;32mIn[49], line 1\u001b[0m\n\u001b[1;32m----> 1\u001b[0m b \u001b[38;5;241m=\u001b[39mfalse\n",
      "\u001b[1;31mNameError\u001b[0m: name 'false' is not defined"
     ]
    }
   ],
   "source": [
    "b =false"
   ]
  },
  {
   "cell_type": "markdown",
   "id": "c67f1d1d-1a77-4110-895b-db6b4d8378bf",
   "metadata": {},
   "source": [
    "# observation \n",
    "Class=15  - valid assignment\n",
    "class = 15 -  class ia a keyword not allowed to use as a var name\n",
    "a=TRUE - TRUE is not valid value for bool True is expected\n",
    "b =false  - false is not valid value for bool False is expected"
   ]
  },
  {
   "cell_type": "markdown",
   "id": "fb7a512f-0a88-4761-9d69-ecdca474c315",
   "metadata": {},
   "source": [
    "# Task 4"
   ]
  },
  {
   "cell_type": "code",
   "execution_count": 56,
   "id": "d56d5c2d-d631-4ffb-a87e-a9fe9d7dfaf0",
   "metadata": {},
   "outputs": [
    {
     "name": "stdout",
     "output_type": "stream",
     "text": [
      "30.2\n",
      "2326546502864\n",
      "<class 'float'>\n"
     ]
    }
   ],
   "source": [
    "#task4.a\n",
    "marks =30.2\n",
    "print(marks)\n",
    "print(id(marks))\n",
    "print(type(marks))"
   ]
  },
  {
   "cell_type": "code",
   "execution_count": 64,
   "id": "a836bef9-4895-4d9b-a4d1-4326260f8ef1",
   "metadata": {},
   "outputs": [
    {
     "name": "stdout",
     "output_type": "stream",
     "text": [
      "50.9\n",
      "2326546502864\n",
      "<class 'float'>\n"
     ]
    }
   ],
   "source": [
    "#task4.b\n",
    "marks =50.9\n",
    "print(marks)\n",
    "print(id(marks))\n",
    "print(type(marks))"
   ]
  },
  {
   "cell_type": "markdown",
   "id": "86ea177e-bcdc-4f90-91e7-b698d25cd596",
   "metadata": {},
   "source": [
    "# observation\n",
    "id changed when the assigned value changed. Because the id will be assigned based on the value. Variables with equal value will have same id in python "
   ]
  },
  {
   "cell_type": "markdown",
   "id": "b606722c-a275-447c-aecc-a14daa3af4e6",
   "metadata": {},
   "source": [
    "# Task 5"
   ]
  },
  {
   "cell_type": "code",
   "execution_count": 75,
   "id": "b18c53da-4dc0-496e-8b53-32190eaf8b35",
   "metadata": {},
   "outputs": [
    {
     "name": "stdout",
     "output_type": "stream",
     "text": [
      "50.9\n"
     ]
    }
   ],
   "source": [
    "# Task5.a\n",
    "maxmarks =100\n",
    "\n",
    "print(marks/maxmarks*100)"
   ]
  },
  {
   "cell_type": "code",
   "execution_count": 87,
   "id": "c8cb7648-8692-45a3-981b-db5591be4480",
   "metadata": {},
   "outputs": [
    {
     "name": "stdout",
     "output_type": "stream",
     "text": [
      "Reema Joseph\n"
     ]
    }
   ],
   "source": [
    "# Task5.b\n",
    "fullname  = firstname +\" \"+ lastname\n",
    "print(fullname)\n"
   ]
  },
  {
   "cell_type": "code",
   "execution_count": 95,
   "id": "e0b9a4db-6a06-47fe-8b72-e72e1bd880cc",
   "metadata": {},
   "outputs": [
    {
     "name": "stdout",
     "output_type": "stream",
     "text": [
      "Reema Joseph scored 50.9%\n"
     ]
    }
   ],
   "source": [
    "# Task5.c\n",
    "per = str(marks/maxmarks*100)\n",
    "print(fullname + \" scored \" + per+\"%\")\n"
   ]
  },
  {
   "cell_type": "markdown",
   "id": "b758fa02-d091-4ac2-8ecc-14abced84b02",
   "metadata": {},
   "source": [
    "# Task 6\n"
   ]
  },
  {
   "cell_type": "code",
   "execution_count": 98,
   "id": "81c19180-6ed1-4559-8c84-702ac55300a2",
   "metadata": {},
   "outputs": [
    {
     "ename": "TypeError",
     "evalue": "unsupported operand type(s) for +: 'int' and 'str'",
     "output_type": "error",
     "traceback": [
      "\u001b[1;31m---------------------------------------------------------------------------\u001b[0m",
      "\u001b[1;31mTypeError\u001b[0m                                 Traceback (most recent call last)",
      "Cell \u001b[1;32mIn[98], line 2\u001b[0m\n\u001b[0;32m      1\u001b[0m \u001b[38;5;66;03m#task6.a\u001b[39;00m\n\u001b[1;32m----> 2\u001b[0m \u001b[38;5;241m1\u001b[39m\u001b[38;5;241m+\u001b[39m\u001b[38;5;124m\"\u001b[39m\u001b[38;5;124m2\u001b[39m\u001b[38;5;124m\"\u001b[39m\n",
      "\u001b[1;31mTypeError\u001b[0m: unsupported operand type(s) for +: 'int' and 'str'"
     ]
    }
   ],
   "source": [
    "#task6.a\n",
    "1+\"2\"\n"
   ]
  },
  {
   "cell_type": "code",
   "execution_count": 102,
   "id": "f5536036-5fca-48e1-a842-27ed744e90bb",
   "metadata": {},
   "outputs": [
    {
     "data": {
      "text/plain": [
       "'12'"
      ]
     },
     "execution_count": 102,
     "metadata": {},
     "output_type": "execute_result"
    }
   ],
   "source": [
    "\"1\"+\"2\"\n"
   ]
  },
  {
   "cell_type": "code",
   "execution_count": 104,
   "id": "d89e9afb-9964-417b-a8f7-42e6b941f808",
   "metadata": {},
   "outputs": [
    {
     "data": {
      "text/plain": [
       "0.5"
      ]
     },
     "execution_count": 104,
     "metadata": {},
     "output_type": "execute_result"
    }
   ],
   "source": [
    "1/2\n"
   ]
  },
  {
   "cell_type": "code",
   "execution_count": 106,
   "id": "36f35bb7-b0e8-4dca-9f70-40fad57fe00b",
   "metadata": {},
   "outputs": [
    {
     "data": {
      "text/plain": [
       "0"
      ]
     },
     "execution_count": 106,
     "metadata": {},
     "output_type": "execute_result"
    }
   ],
   "source": [
    "1//2"
   ]
  },
  {
   "cell_type": "markdown",
   "id": "534993ec-2466-4eb3-9bc5-0a00688c5954",
   "metadata": {},
   "source": [
    "# observation :  \n",
    "we cannot add an integer/float with a non-numerical data type. But + opertaor work as a concatination if all variables are String. "
   ]
  },
  {
   "cell_type": "markdown",
   "id": "99a3f3af-49cf-461e-943d-08f0d40f5785",
   "metadata": {},
   "source": [
    "# Task 7"
   ]
  },
  {
   "cell_type": "code",
   "execution_count": 111,
   "id": "504388ec-73e0-46cc-8c9c-e8fddefa1004",
   "metadata": {},
   "outputs": [
    {
     "data": {
      "text/plain": [
       "True"
      ]
     },
     "execution_count": 111,
     "metadata": {},
     "output_type": "execute_result"
    }
   ],
   "source": [
    "True and True"
   ]
  },
  {
   "cell_type": "code",
   "execution_count": 115,
   "id": "a64b59e8-4ccf-482a-824d-94cf7f97e6fd",
   "metadata": {},
   "outputs": [
    {
     "data": {
      "text/plain": [
       "False"
      ]
     },
     "execution_count": 115,
     "metadata": {},
     "output_type": "execute_result"
    }
   ],
   "source": [
    "True and  False"
   ]
  },
  {
   "cell_type": "code",
   "execution_count": 121,
   "id": "2f1e5818-b2a7-4024-a82f-b756a959d0e4",
   "metadata": {},
   "outputs": [
    {
     "data": {
      "text/plain": [
       "True"
      ]
     },
     "execution_count": 121,
     "metadata": {},
     "output_type": "execute_result"
    }
   ],
   "source": [
    "False or True"
   ]
  },
  {
   "cell_type": "code",
   "execution_count": 119,
   "id": "0084c40d-6c7e-4c5a-a3cf-29470007e914",
   "metadata": {},
   "outputs": [
    {
     "data": {
      "text/plain": [
       "True"
      ]
     },
     "execution_count": 119,
     "metadata": {},
     "output_type": "execute_result"
    }
   ],
   "source": [
    "False or True"
   ]
  },
  {
   "cell_type": "markdown",
   "id": "b389939f-18dd-4396-aa50-6ae4efdfa150",
   "metadata": {},
   "source": [
    "# explanation\n",
    "and - operator returns True when all conditions are true. Returns False if at lease one confition is false\n",
    "or  - operator returns True when atleast one condition is True. Returns false when all conditions are false"
   ]
  },
  {
   "cell_type": "markdown",
   "id": "3ca869b8-b844-49b6-9456-4d8653440f46",
   "metadata": {},
   "source": [
    "# Task 8"
   ]
  },
  {
   "cell_type": "code",
   "execution_count": 131,
   "id": "a6a8608d-adda-4aa3-a20e-9a5d021f08bf",
   "metadata": {},
   "outputs": [
    {
     "name": "stdout",
     "output_type": "stream",
     "text": [
      "True\n"
     ]
    }
   ],
   "source": [
    "print (firstname in fullname)"
   ]
  },
  {
   "cell_type": "code",
   "execution_count": 133,
   "id": "dd55616c-953f-4e41-a2b7-c3cc9c3fe949",
   "metadata": {},
   "outputs": [
    {
     "name": "stdout",
     "output_type": "stream",
     "text": [
      "False\n"
     ]
    }
   ],
   "source": [
    "print (firstname is fullname)"
   ]
  },
  {
   "cell_type": "markdown",
   "id": "5d1da09c-a998-4726-a784-dd3aa6532bb6",
   "metadata": {},
   "source": [
    "# Task 9"
   ]
  },
  {
   "cell_type": "code",
   "execution_count": 153,
   "id": "aeb88cfb-9282-40a4-a43c-8e728209260d",
   "metadata": {},
   "outputs": [
    {
     "name": "stdout",
     "output_type": "stream",
     "text": [
      "66\n",
      "1024\n"
     ]
    }
   ],
   "source": [
    "a=4\n",
    "b=3\n",
    "c=2\n",
    "d=a**b+c\n",
    "e=a**(b+c)\n",
    "\n",
    "print(d)\n",
    "print(e)\n",
    "\n"
   ]
  },
  {
   "cell_type": "markdown",
   "id": "5571a3cd-87a1-4fc0-b062-da6efef4c61b",
   "metadata": {},
   "source": [
    "# values are different because of  Python Operators Precedence Rule - PEMDAS"
   ]
  }
 ],
 "metadata": {
  "kernelspec": {
   "display_name": "Python 3 (ipykernel)",
   "language": "python",
   "name": "python3"
  },
  "language_info": {
   "codemirror_mode": {
    "name": "ipython",
    "version": 3
   },
   "file_extension": ".py",
   "mimetype": "text/x-python",
   "name": "python",
   "nbconvert_exporter": "python",
   "pygments_lexer": "ipython3",
   "version": "3.12.7"
  }
 },
 "nbformat": 4,
 "nbformat_minor": 5
}
