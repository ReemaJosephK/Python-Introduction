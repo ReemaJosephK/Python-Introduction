{
 "cells": [
  {
   "cell_type": "markdown",
   "id": "8f1030bd-1ab8-4f3f-a35b-ac5cf8aa6af8",
   "metadata": {},
   "source": [
    "# S3 Practice"
   ]
  },
  {
   "cell_type": "code",
   "execution_count": 2,
   "id": "72ffa4e0-f381-44e2-adbd-8a7652359adc",
   "metadata": {},
   "outputs": [
    {
     "name": "stdout",
     "output_type": "stream",
     "text": [
      "False\n"
     ]
    }
   ],
   "source": [
    "## Task 1: Searching a List\n",
    "\n",
    "mynames =[\"Joe\",\"Zoe\",\"world\",\"Brad\",\"A ngelina\",\"world\",\"Zuki\",\"Tom\",\"Paris\",\"w orld\",\"magic\"]\n",
    "\n",
    "result = False\n",
    "\n",
    "#The output should be \"TRUE\" if the data item USA is present and \"FALSE\" if not present.\n",
    "for var in mynames:\n",
    "    if(var==\"USA\"):\n",
    "        result =True\n",
    "\n",
    "#display o/p True/False \n",
    "print(result)\n",
    "    "
   ]
  },
  {
   "cell_type": "code",
   "execution_count": 3,
   "id": "c9d477a2-f870-4c02-8063-0d86497df6c5",
   "metadata": {},
   "outputs": [
    {
     "data": {
      "text/plain": [
       "2"
      ]
     },
     "execution_count": 3,
     "metadata": {},
     "output_type": "execute_result"
    }
   ],
   "source": [
    "## Task 2:  Frequency Counts of Elements in a List\n",
    "\n",
    "mynames=[\"Joe\",\"Zoe\",\"world\",\"Brad\",\"Angelina\",\" world\",\"Zuki\",\"Tom\",\"Paris\",\"world\",\"mag ic\"]\n",
    "\n",
    "#check how any times \"world\" is in mynames\n",
    "mynames.count(\"world\")\n"
   ]
  },
  {
   "cell_type": "code",
   "execution_count": 4,
   "id": "6d02982c-2e77-4bab-be45-bc6c47913c52",
   "metadata": {},
   "outputs": [
    {
     "name": "stdout",
     "output_type": "stream",
     "text": [
      "Odd number count:  15\n",
      "Even number count:  14\n"
     ]
    }
   ],
   "source": [
    "# Task 3: Looping Over a List\n",
    "\n",
    "numlist = list(range(1,30))\n",
    "\n",
    "#set count variables\n",
    "countOdd =0\n",
    "countEven=0\n",
    "\n",
    "#iterate through numlist\n",
    "for var in numlist:\n",
    "    #check if even number and increase countEven value\n",
    "    if(var%2==0):\n",
    "        countEven= countEven+1\n",
    "     #check if odd number and increase countEven value\n",
    "    elif(var%2==1):\n",
    "        countOdd = countOdd+1\n",
    "     #any other scenario print invalid data \n",
    "    else:\n",
    "        print(\"invalid data\")\n",
    "        \n",
    "print(\"Odd number count: \",countOdd)\n",
    "print(\"Even number count: \",countEven)\n",
    "        "
   ]
  },
  {
   "cell_type": "code",
   "execution_count": 40,
   "id": "0e572663-85d5-4135-9036-ec57754ea318",
   "metadata": {},
   "outputs": [
    {
     "name": "stdout",
     "output_type": "stream",
     "text": [
      "[2, 4, 6, 8]\n"
     ]
    }
   ],
   "source": [
    "## Task 4 Appending Elements to a List, Select the first 5 even numbers from numlist, store them in a new list, and display the contents of the new\n",
    "\n",
    "numlist = list(range(1,30))\n",
    "\n",
    "#set eve number list\n",
    "evenList=[]\n",
    "\n",
    "#iterate through the list\n",
    "for var in numlist:\n",
    "    #chek if even number\n",
    "    if(var%2==0):\n",
    "        #check if evel list lenth is less than 4 then copy new even number\n",
    "        if(len(evenList)<4):\n",
    "            evenList.append(var)\n",
    "        #check if even list lenth is less >= 4 then exit from loop\n",
    "        elif(len(evenList)>=4):\n",
    "            break\n",
    "            \n",
    "#display output            \n",
    "print(evenList)\n",
    "\n"
   ]
  },
  {
   "cell_type": "code",
   "execution_count": 9,
   "id": "c2aa5030-e6fb-47d9-bd58-89f47732c269",
   "metadata": {},
   "outputs": [
    {
     "name": "stdout",
     "output_type": "stream",
     "text": [
      "[27, 29]\n"
     ]
    }
   ],
   "source": [
    "## Task 5: Arithmetic Operations on List Elements ,\n",
    "##Print the last two odd numbers from numlist. numlist = list(range(1,30))\n",
    "#Note: Do not reverse the list and do not use a new list.\n",
    "\n",
    "numlist = list(range(1,30))\n",
    "\n",
    "#set index to zero\n",
    "numlistindex=0\n",
    "\n",
    "#iterate through the list\n",
    "for var in numlist:      \n",
    "    #chek if even number and pop it\n",
    "    if(var%2==0):\n",
    "         numlist.pop(numlistindex)  \n",
    "    \n",
    "    #move to next index  \n",
    "    numlistindex = numlistindex+1\n",
    "\n",
    "print(numlist[-2:])\n"
   ]
  },
  {
   "cell_type": "code",
   "execution_count": 23,
   "id": "1e568a18-41a5-49fa-91f0-825d2f91dda8",
   "metadata": {},
   "outputs": [
    {
     "name": "stdin",
     "output_type": "stream",
     "text": [
      "Please enter any 5 strings comma separated aa,bb,cc,dd,ee\n",
      "Please enter any 3 numbers comma separated 1,2,3\n"
     ]
    },
    {
     "name": "stdout",
     "output_type": "stream",
     "text": [
      "['aa', 'bb', 'cc', 'dd', 'ee', ['1', '2', '3']]\n"
     ]
    }
   ],
   "source": [
    "## Task 6 , appending two list\n",
    "#Create two empty lists, x and y. Accept 5 strings from the user and store them in list x. Accept 3 numbers from the user and store them in list y. \n",
    "#Append the contents of list y to the contents of list x and print the output.\n",
    "\n",
    "#empty list\n",
    "x = []\n",
    "y = []\n",
    "\n",
    "#get inputs\n",
    "varString1,varString2,varString3,varString4,varString5 = input(\"Please enter any 5 strings comma separated\").split(\",\")\n",
    "varnum1,varnum2,varnum3 = input(\"Please enter any 3 numbers comma separated\").split(\",\")\n",
    "\n",
    "#append srting values to x\n",
    "x.append(varString1)\n",
    "x.append(varString2)\n",
    "x.append(varString3)\n",
    "x.append(varString4)\n",
    "x.append(varString5)\n",
    "\n",
    "#append num values to y\n",
    "y.append(varnum1)\n",
    "y.append(varnum2)\n",
    "y.append(varnum3)\n",
    "\n",
    "#append y to x\n",
    "x.append(y)\n",
    "\n",
    "#display x\n",
    "print(x)"
   ]
  },
  {
   "cell_type": "code",
   "execution_count": 37,
   "id": "dd51ca46-318e-4b74-8faa-7c4906e975e0",
   "metadata": {},
   "outputs": [
    {
     "name": "stdout",
     "output_type": "stream",
     "text": [
      "1 4 9 16 25 36 49 64 81 100 900 961 1024 1089 1156 1225 1296 1369 1444 1521 1600 "
     ]
    }
   ],
   "source": [
    "##Task 7: Populating Elements in a List\n",
    "\n",
    "#list_a = squares of all the numbers from 1 to 10\n",
    "list_a = []\n",
    "\n",
    "for n in range(1,11):\n",
    "    list_a.append(n**2)\n",
    "    \n",
    "#list_b=squares of all the numbers from 30 to 40\n",
    "list_b = []\n",
    "\n",
    "for n in range(30,41):\n",
    "    list_b.append(n**2) \n",
    "\n",
    "# print them one after the other.\n",
    "for n in list_a:\n",
    "    print(n, end=\" \")\n",
    "    \n",
    "for n in list_b:\n",
    "    print(n,end=\" \")\n",
    "\n"
   ]
  },
  {
   "cell_type": "code",
   "execution_count": 65,
   "id": "f3254cb0-ae4b-4625-82a9-a6acdf34d97e",
   "metadata": {},
   "outputs": [
    {
     "name": "stdin",
     "output_type": "stream",
     "text": [
      "please enter a positive integer number:  78\n"
     ]
    },
    {
     "name": "stdout",
     "output_type": "stream",
     "text": [
      "78  *  1  =  78\n",
      "78  *  2  =  156\n",
      "78  *  3  =  234\n",
      "78  *  4  =  312\n",
      "78  *  5  =  390\n",
      "78  *  6  =  468\n",
      "78  *  7  =  546\n",
      "78  *  8  =  624\n",
      "78  *  9  =  702\n",
      "78  *  10  =  780\n"
     ]
    }
   ],
   "source": [
    "#Task 8: Iterations in Python Using \"for\" Loop\n",
    "\n",
    "#Accept a positive integer from the user. \n",
    "number = input(\"please enter a positive integer number: \")\n",
    "\n",
    "# check if user input is a valid number \n",
    "try:\n",
    "    number = int(number)\n",
    "except ValueError: \n",
    "    print(\"Error: Invalid Input. Expecting a numeric value\")\n",
    "\n",
    "\n",
    "#Print the multiplication table of the integer using the \"for\" loop and the range() function.\n",
    "if(type(number)==int):\n",
    "    for ran in range(1,11):\n",
    "        print(number, \" * \", ran, \" = \", (number * ran) )\n"
   ]
  },
  {
   "cell_type": "code",
   "execution_count": null,
   "id": "4401eaaa-6295-412d-aa5f-149438a81c1b",
   "metadata": {},
   "outputs": [],
   "source": []
  }
 ],
 "metadata": {
  "kernelspec": {
   "display_name": "Python 3 (ipykernel)",
   "language": "python",
   "name": "python3"
  },
  "language_info": {
   "codemirror_mode": {
    "name": "ipython",
    "version": 3
   },
   "file_extension": ".py",
   "mimetype": "text/x-python",
   "name": "python",
   "nbconvert_exporter": "python",
   "pygments_lexer": "ipython3",
   "version": "3.12.7"
  }
 },
 "nbformat": 4,
 "nbformat_minor": 5
}
