{
 "cells": [
  {
   "cell_type": "markdown",
   "id": "cf773cac-d14e-4e61-8a91-cc48a13a0b88",
   "metadata": {},
   "source": [
    "# Exception handling and Files  02 Dec 2024\n"
   ]
  },
  {
   "cell_type": "code",
   "execution_count": 2,
   "id": "231d8143-8477-4727-87bf-7d3549ad3332",
   "metadata": {},
   "outputs": [],
   "source": [
    "# reading - file should exist otherwise it withh throw error\n",
    "# writing - file will be created if it doesnot exist\n",
    "# Mode >> \n",
    "    # r, \n",
    "    # w , -- this will replace the file \n",
    "    # a -- append -only adding\n",
    "    #a+ write+read"
   ]
  },
  {
   "cell_type": "code",
   "execution_count": 3,
   "id": "16406346-cc6c-4de5-b460-909c21a31485",
   "metadata": {},
   "outputs": [
    {
     "data": {
      "text/plain": [
       "'C:\\\\Users\\\\josep\\\\Documents\\\\Python'"
      ]
     },
     "execution_count": 3,
     "metadata": {},
     "output_type": "execute_result"
    }
   ],
   "source": [
    "pwd\n"
   ]
  },
  {
   "cell_type": "code",
   "execution_count": 4,
   "id": "5bbad0cf-f37f-4205-b4cb-11a4af2d1d13",
   "metadata": {},
   "outputs": [],
   "source": [
    "filename = open(\"myfile.txt\") # default mode is r"
   ]
  },
  {
   "cell_type": "code",
   "execution_count": 5,
   "id": "396406ca-5b82-4ef9-b8b5-87aae97ab584",
   "metadata": {},
   "outputs": [
    {
     "data": {
      "text/plain": [
       "'****i am goodhellohellohow are youhow are youhow are youhow are youhow are youi am goodhellohellohow are youhow are youhow are youhow are youhow are you'"
      ]
     },
     "execution_count": 5,
     "metadata": {},
     "output_type": "execute_result"
    }
   ],
   "source": [
    "filename.read() "
   ]
  },
  {
   "cell_type": "code",
   "execution_count": 6,
   "id": "e7b14abf-bdb8-475e-81de-bbdf62fd87fc",
   "metadata": {},
   "outputs": [],
   "source": [
    "filename.close()"
   ]
  },
  {
   "cell_type": "code",
   "execution_count": 7,
   "id": "80797007-cbe3-40ce-b30b-e9311318d1be",
   "metadata": {},
   "outputs": [],
   "source": [
    "filename1 = \"i am good\""
   ]
  },
  {
   "cell_type": "code",
   "execution_count": 8,
   "id": "33d3fa08-0ff6-40b5-af0b-22df594d17c7",
   "metadata": {},
   "outputs": [],
   "source": [
    "x = open(\"myfile.txt\",'w') # file open with w - write mode"
   ]
  },
  {
   "cell_type": "code",
   "execution_count": 9,
   "id": "cef62cfd-6cb0-4888-944d-74874dac0661",
   "metadata": {},
   "outputs": [
    {
     "data": {
      "text/plain": [
       "9"
      ]
     },
     "execution_count": 9,
     "metadata": {},
     "output_type": "execute_result"
    }
   ],
   "source": [
    "x.write(filename1)"
   ]
  },
  {
   "cell_type": "code",
   "execution_count": 10,
   "id": "a34a2fa1-0f94-44da-b988-64c5ebf80c39",
   "metadata": {},
   "outputs": [],
   "source": [
    "filename.close() "
   ]
  },
  {
   "cell_type": "code",
   "execution_count": 11,
   "id": "fd2a3fa7-1833-4a18-a008-8f9dd88e86e9",
   "metadata": {},
   "outputs": [],
   "source": [
    "x = open(\"C:\\\\Users\\\\josep\\\\Documents\\\\myfile.txt\",'w')"
   ]
  },
  {
   "cell_type": "code",
   "execution_count": 12,
   "id": "96e1d865-d7c2-48aa-9cb8-015b90d7b9b7",
   "metadata": {},
   "outputs": [
    {
     "data": {
      "text/plain": [
       "9"
      ]
     },
     "execution_count": 12,
     "metadata": {},
     "output_type": "execute_result"
    }
   ],
   "source": [
    "x.write(filename1)"
   ]
  },
  {
   "cell_type": "code",
   "execution_count": 13,
   "id": "8cd3be34-2836-4727-ab02-f5499700c5e6",
   "metadata": {},
   "outputs": [
    {
     "ename": "UnsupportedOperation",
     "evalue": "not readable",
     "output_type": "error",
     "traceback": [
      "\u001b[1;31m---------------------------------------------------------------------------\u001b[0m",
      "\u001b[1;31mUnsupportedOperation\u001b[0m                      Traceback (most recent call last)",
      "Cell \u001b[1;32mIn[13], line 1\u001b[0m\n\u001b[1;32m----> 1\u001b[0m x\u001b[38;5;241m.\u001b[39mread()\n",
      "\u001b[1;31mUnsupportedOperation\u001b[0m: not readable"
     ]
    }
   ],
   "source": [
    "x.read()"
   ]
  },
  {
   "cell_type": "code",
   "execution_count": null,
   "id": "0e6b5e34-ca33-4acd-bedb-2bf2b596878a",
   "metadata": {},
   "outputs": [],
   "source": [
    "x = open(\"C:\\\\Users\\\\josep\\\\Documents\\\\myfile.txt\",'r')\n",
    "x.read()\n"
   ]
  },
  {
   "cell_type": "code",
   "execution_count": null,
   "id": "7c528484-4c0c-4b5e-a922-e9cc2cd041ad",
   "metadata": {},
   "outputs": [],
   "source": [
    "x.close()"
   ]
  },
  {
   "cell_type": "code",
   "execution_count": null,
   "id": "f5e77cf4-08b9-47e0-9e4e-15738fcd29da",
   "metadata": {},
   "outputs": [],
   "source": [
    "x = open(\"C:\\\\Users\\\\josep\\\\Documents\\\\myfile.txt\",'a')\n",
    "newtext =\"hello\"\n",
    "x.write(newtext)"
   ]
  },
  {
   "cell_type": "code",
   "execution_count": null,
   "id": "955e1706-b173-405c-85a7-f847dffea8ab",
   "metadata": {},
   "outputs": [],
   "source": [
    "x.close()"
   ]
  },
  {
   "cell_type": "code",
   "execution_count": null,
   "id": "3590605f-4689-47c2-ae7d-fa079280bcd6",
   "metadata": {},
   "outputs": [],
   "source": [
    "x = open(\"C:\\\\Users\\\\josep\\\\Documents\\\\myfile.txt\",'r')\n",
    "x.read()"
   ]
  },
  {
   "cell_type": "code",
   "execution_count": null,
   "id": "b03bc74b-3007-46bc-bc03-b809d86f1626",
   "metadata": {},
   "outputs": [],
   "source": [
    "x = open(\"C:\\\\Users\\\\josep\\\\Documents\\\\myfile.txt\",'a+')\n",
    "newtext =\"hello\"\n",
    "x.write(newtext)\n"
   ]
  },
  {
   "cell_type": "code",
   "execution_count": null,
   "id": "67a2acef-8052-495b-af11-5f570dbba36b",
   "metadata": {},
   "outputs": [],
   "source": [
    "x.close()"
   ]
  },
  {
   "cell_type": "code",
   "execution_count": null,
   "id": "adc2c71d-222b-48c9-b78a-479ca1d07629",
   "metadata": {},
   "outputs": [],
   "source": [
    "x = open(\"C:\\\\Users\\\\josep\\\\Documents\\\\myfile.txt\",'r')\n",
    "x.read()"
   ]
  },
  {
   "cell_type": "code",
   "execution_count": null,
   "id": "9ad21909-d7ff-42e2-8da7-fa6cd8a1276f",
   "metadata": {},
   "outputs": [],
   "source": [
    "x = open(\"C:\\\\Users\\\\josep\\\\Documents\\\\myfile.txt\",'a+') # read and write opertaions together\n",
    "\n",
    "newtext =\"how are you\"\n",
    "x.write(newtext)\n",
    "\n",
    "\n",
    "#x.seek(0)\n"
   ]
  },
  {
   "cell_type": "code",
   "execution_count": null,
   "id": "1135698a-fdd7-449e-a07e-87b36caadfaa",
   "metadata": {},
   "outputs": [],
   "source": [
    "x.read()"
   ]
  },
  {
   "cell_type": "code",
   "execution_count": null,
   "id": "da9f56c6-8a0e-44c3-9a0a-8ef895a78002",
   "metadata": {},
   "outputs": [],
   "source": [
    "x.close()"
   ]
  },
  {
   "cell_type": "code",
   "execution_count": null,
   "id": "c51ff0be-a471-44e1-9efd-6c21fe5904b0",
   "metadata": {},
   "outputs": [],
   "source": [
    "x = open(\"C:\\\\Users\\\\josep\\\\Documents\\\\myfile.txt\",'r') # read and write opertaions together"
   ]
  },
  {
   "cell_type": "code",
   "execution_count": null,
   "id": "d58e7de5-3beb-4bc3-af21-93ec947518d5",
   "metadata": {},
   "outputs": [],
   "source": [
    "x.read()"
   ]
  },
  {
   "cell_type": "code",
   "execution_count": null,
   "id": "1a10e7f9-f22d-4ad5-8ab3-e617443a5bd0",
   "metadata": {},
   "outputs": [],
   "source": [
    "x.seek(0) #at zero position"
   ]
  },
  {
   "cell_type": "code",
   "execution_count": null,
   "id": "cc0b7b24-ab23-45d3-a982-dec8dff77de2",
   "metadata": {},
   "outputs": [],
   "source": [
    "x.close()"
   ]
  },
  {
   "cell_type": "code",
   "execution_count": null,
   "id": "8f884349-fbf7-42cc-b0c1-09ca0f68e0b4",
   "metadata": {},
   "outputs": [],
   "source": [
    "filen= open(\"myfile.txt\",'a+')\n",
    "filen.seek(1)\n",
    "filen.write(\"****\")\n"
   ]
  },
  {
   "cell_type": "code",
   "execution_count": null,
   "id": "62eb8ac0-0ad3-4cf8-af06-cd42f67155e3",
   "metadata": {},
   "outputs": [],
   "source": [
    "filen.read()\n",
    "\n"
   ]
  },
  {
   "cell_type": "code",
   "execution_count": null,
   "id": "a3789957-4b89-4459-9820-11e19b6c5ae7",
   "metadata": {},
   "outputs": [],
   "source": [
    "filen.close()"
   ]
  },
  {
   "cell_type": "code",
   "execution_count": null,
   "id": "fc41763a-2a24-4998-86c5-d6d6c2aade9b",
   "metadata": {},
   "outputs": [],
   "source": [
    "pwd\n"
   ]
  },
  {
   "cell_type": "code",
   "execution_count": 24,
   "id": "152370ce-fe56-4112-b307-73d9510eb9e4",
   "metadata": {},
   "outputs": [
    {
     "data": {
      "text/plain": [
       "74"
      ]
     },
     "execution_count": 24,
     "metadata": {},
     "output_type": "execute_result"
    }
   ],
   "source": [
    "filen= open(\"myfile.txt\",'a+')\n",
    "filen.seek(1)\n",
    "filen.write(\"i am goodhellohellohow are youhow are youhow are youhow are youhow are you\")\n"
   ]
  },
  {
   "cell_type": "code",
   "execution_count": 34,
   "id": "242c7939-36d9-49e7-b0b4-c4b37f780c60",
   "metadata": {},
   "outputs": [
    {
     "data": {
      "text/plain": [
       "0"
      ]
     },
     "execution_count": 34,
     "metadata": {},
     "output_type": "execute_result"
    }
   ],
   "source": [
    "filen= open(\"myfile.txt\",'a+')\n",
    "filen.seek(0)"
   ]
  },
  {
   "cell_type": "code",
   "execution_count": 36,
   "id": "aedd9250-fd74-45c8-9620-6a88b7b433cd",
   "metadata": {},
   "outputs": [
    {
     "data": {
      "text/plain": [
       "'i am goodhellohellohow are youhow are youhow are youhow are youhow are you'"
      ]
     },
     "execution_count": 36,
     "metadata": {},
     "output_type": "execute_result"
    }
   ],
   "source": [
    "filen.read()"
   ]
  },
  {
   "cell_type": "code",
   "execution_count": 38,
   "id": "dd39eada-471b-4813-89db-b3816d8921fc",
   "metadata": {},
   "outputs": [],
   "source": [
    "filen.close()"
   ]
  },
  {
   "cell_type": "code",
   "execution_count": 56,
   "id": "20858f6d-98c5-4515-98b6-7ff74d675b86",
   "metadata": {},
   "outputs": [],
   "source": [
    "filen= open(\"myfile.txt\",'a+')\n",
    "filen.seek(10)\n",
    "filen.write(\"*******\")\n",
    "filen.close()"
   ]
  },
  {
   "cell_type": "code",
   "execution_count": 60,
   "id": "219f2220-9e05-4166-976d-17194803e6a1",
   "metadata": {},
   "outputs": [
    {
     "name": "stdout",
     "output_type": "stream",
     "text": [
      "i am goodhello\n",
      "hellohow are youhow are youhow are youhow are youhow are youi \n",
      "am goodhellohellohow are youhow are \n",
      "youhow are youhow are youhow are you\n",
      "********************\n",
      "*\n"
     ]
    }
   ],
   "source": [
    "filen= open(\"myfile.txt\",'a+')\n",
    "filen.seek(0)\n",
    "print(filen.read())\n",
    "filen.close()"
   ]
  },
  {
   "cell_type": "code",
   "execution_count": 66,
   "id": "02ec9c17-4baf-47e3-afdb-4dbad3a401a2",
   "metadata": {},
   "outputs": [
    {
     "name": "stdout",
     "output_type": "stream",
     "text": [
      "ohow are youhow are youhow are youhow are youhow are youi \n",
      "am goodhellohellohow are youhow are \n",
      "youhow are youhow are youhow are you\n",
      "********************\n",
      "*\n"
     ]
    }
   ],
   "source": [
    "filen= open(\"myfile.txt\",'a+')\n",
    "filen.seek(20)\n",
    "print(filen.read())\n",
    "filen.close()"
   ]
  },
  {
   "cell_type": "code",
   "execution_count": 68,
   "id": "f91f23da-f313-4c06-b497-482d2694f626",
   "metadata": {},
   "outputs": [],
   "source": [
    "filen= open(\"myfile.txt\",'a+')\n",
    "filen.seek(20)\n",
    "filen.write(\"*******\")\n",
    "filen.close()"
   ]
  },
  {
   "cell_type": "code",
   "execution_count": 70,
   "id": "073835f3-9467-4d8b-a5a2-cfa9ac356341",
   "metadata": {},
   "outputs": [
    {
     "name": "stdout",
     "output_type": "stream",
     "text": [
      "i am goodhello\n",
      "hellohow are youhow are youhow are youhow are youhow are youi \n",
      "am goodhellohellohow are youhow are \n",
      "youhow are youhow are youhow are you\n",
      "********************\n",
      "********\n"
     ]
    }
   ],
   "source": [
    "filen= open(\"myfile.txt\",'a+')\n",
    "filen.seek(0)\n",
    "print(filen.read())\n",
    "filen.close()"
   ]
  },
  {
   "cell_type": "code",
   "execution_count": null,
   "id": "292d74ab-e9f6-473c-860a-84d1b54fab10",
   "metadata": {},
   "outputs": [],
   "source": []
  }
 ],
 "metadata": {
  "kernelspec": {
   "display_name": "Python 3 (ipykernel)",
   "language": "python",
   "name": "python3"
  },
  "language_info": {
   "codemirror_mode": {
    "name": "ipython",
    "version": 3
   },
   "file_extension": ".py",
   "mimetype": "text/x-python",
   "name": "python",
   "nbconvert_exporter": "python",
   "pygments_lexer": "ipython3",
   "version": "3.12.7"
  }
 },
 "nbformat": 4,
 "nbformat_minor": 5
}
