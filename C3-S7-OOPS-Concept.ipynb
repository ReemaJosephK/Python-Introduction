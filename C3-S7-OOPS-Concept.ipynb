{
 "cells": [
  {
   "cell_type": "markdown",
   "id": "0900167e-6bef-48e3-9439-a0d9379be392",
   "metadata": {},
   "source": [
    "# Encapsulation\n",
    "\n",
    "# Abstraction\n",
    "\n",
    "# Inheritance\n",
    "\n",
    "# Polymorphism\n"
   ]
  },
  {
   "cell_type": "code",
   "execution_count": 2,
   "id": "7b6c2387-cef5-49eb-abbc-b06f16a5efd9",
   "metadata": {},
   "outputs": [
    {
     "name": "stdout",
     "output_type": "stream",
     "text": [
      "brown meat Candy 2\n",
      "brown meat Candy 2\n"
     ]
    }
   ],
   "source": [
    "#single inheritance\n",
    "\n",
    "class Animal:\n",
    "    def __init__(self, name, age):\n",
    "        self.name = name\n",
    "        self.age =  age\n",
    "\n",
    "class Dog(Animal): #Animal is parent of Dog\n",
    "    def __init__(self, color, food, name, age):\n",
    "        self.color = color\n",
    "        self.food = food\n",
    "        super().__init__(name,age) #inherit the constructor from parent class **********\n",
    "        print(self.color, self.food, self.name, self.age)\n",
    "        \n",
    "    def display(self):\n",
    "        print(self.color, self.food, self.name, self.age)\n",
    "\n",
    "objDog = Dog(\"brown\",\"meat\",\"Candy\",\"2\")\n",
    "objDog.display()\n",
    "        \n",
    "\n",
    "    "
   ]
  },
  {
   "cell_type": "code",
   "execution_count": 3,
   "id": "a13da4a6-e8e8-4ae0-b5b1-e139ab24b65a",
   "metadata": {},
   "outputs": [
    {
     "name": "stdout",
     "output_type": "stream",
     "text": [
      "brown meat Candy 2\n",
      "white milk Miky 1\n"
     ]
    }
   ],
   "source": [
    "#Hierarchical  inheritance\n",
    "\n",
    "class Animal:\n",
    "    def __init__(self, name, age):\n",
    "        self.name = name\n",
    "        self.age =  age\n",
    "\n",
    "class Dog(Animal): #Animal is parent of Dog\n",
    "    def __init__(self, color, food, name, age):\n",
    "        self.color = color\n",
    "        self.food = food\n",
    "        super().__init__(name,age) #inherit the constructor from parent class **********\n",
    "        #print(self.color, self.food, self.name, self.age)\n",
    "        \n",
    "    def display(self):\n",
    "        print(self.color, self.food, self.name, self.age)\n",
    "\n",
    "class Cat(Animal): #Animal is parent of Dog\n",
    "    def __init__(self, color, food, name, age):\n",
    "        self.color = color\n",
    "        self.food = food\n",
    "        super().__init__(name,age) #inherit the constructor from parent class **********\n",
    "        #print(self.color, self.food, self.name, self.age)\n",
    "        \n",
    "    def display(self):\n",
    "        print(self.color, self.food, self.name, self.age)\n",
    "\n",
    "objDog = Dog(\"brown\",\"meat\",\"Candy\",\"2\")\n",
    "objDog.display()\n",
    "\n",
    "objCat = Cat(\"white\",\"milk\",\"Miky\",\"1\")\n",
    "objCat.display()\n"
   ]
  },
  {
   "cell_type": "markdown",
   "id": "77c2f838-fec2-40af-aa7d-dde19d1d0abf",
   "metadata": {},
   "source": [
    "# 29 Nov 2024 Polymorphism\n"
   ]
  },
  {
   "cell_type": "markdown",
   "id": "8c49e53e-c699-4933-9029-0be2dcae2437",
   "metadata": {},
   "source": [
    "Overriding"
   ]
  },
  {
   "cell_type": "code",
   "execution_count": 6,
   "id": "fad87756-41a9-42c5-bcf1-987e56b9f000",
   "metadata": {},
   "outputs": [
    {
     "name": "stdout",
     "output_type": "stream",
     "text": [
      "Child class class function FUN\n"
     ]
    }
   ],
   "source": [
    "class Animal:\n",
    "    def __init__(self, name, age):\n",
    "        self.name = name\n",
    "        self.age =  age\n",
    "    def fun(self):\n",
    "        print(\"parent class function FUN\")\n",
    "\n",
    "class Dog(Animal): #Animal is parent of Dog\n",
    "    def __init__(self, color, food, name, age):\n",
    "        self.color = color\n",
    "        self.food = food\n",
    "        super().__init__(name,age) #inherit the constructor from parent class **********\n",
    "        \n",
    "    def display(self):\n",
    "        print(self.color, self.food, self.name, self.age)\n",
    "\n",
    "    def fun(self):\n",
    "        print(\"Child class class function FUN\")\n",
    "\n",
    "\n",
    "objDog = Dog(\"brown\",\"meat\",\"Candy\",\"2\")\n",
    "objDog.fun()\n"
   ]
  },
  {
   "cell_type": "code",
   "execution_count": 17,
   "id": "5dedff30-7055-4f7c-b1b7-5a9a14b05a91",
   "metadata": {},
   "outputs": [
    {
     "name": "stdout",
     "output_type": "stream",
     "text": [
      "Child class class function FUN\n",
      "I belong to the child class Dog\n"
     ]
    }
   ],
   "source": [
    "#abstract base class and abstract methods  #overloading\n",
    "\n",
    "from abc import ABC, abstractmethod  #ABC = Abstract Base Class\n",
    "class Pet(ABC): # this is an abstract base class    \n",
    "    @abstractmethod\n",
    "    def breed(self):# this is an abstract method\n",
    "        pass\n",
    "\n",
    "class Dog(Pet): #Animal is parent of Dog    \n",
    "    def __init__(self, color, food, name, age):\n",
    "        self.color = color\n",
    "        self.food = food\n",
    "       \n",
    "    def display(self):\n",
    "        print(self.color, self.food, self.name, self.age)\n",
    "\n",
    "    def fun(self):\n",
    "        print(\"Child class class function FUN\")\n",
    "\n",
    "    def breed(self):\n",
    "        print(\"I belong to the child class Dog\")\n",
    "\n",
    "\n",
    "objDog = Dog(\"brown\",\"meat\",\"Candy\",\"2\")\n",
    "objDog.fun()\n",
    "objDog.breed()"
   ]
  },
  {
   "cell_type": "code",
   "execution_count": 10,
   "id": "25109e46-8b4e-4580-aa66-fe4bd64a64a8",
   "metadata": {},
   "outputs": [
    {
     "name": "stdout",
     "output_type": "stream",
     "text": [
      "Child class class function FUN\n",
      "I belong to the child class Dog\n"
     ]
    }
   ],
   "source": [
    "class Pets(): # this is an abstract base class    \n",
    "    @abstractmethod\n",
    "    def breed(self):# this is an abstract method\n",
    "        pass\n",
    "\n",
    "class Dog(Pets): #Animal is parent of Dog    \n",
    "    def __init__(self, color, food, name, age):\n",
    "        self.color = color\n",
    "        self.food = food\n",
    "       \n",
    "    def display(self):\n",
    "        print(self.color, self.food, self.name, self.age)\n",
    "\n",
    "    def fun(self):\n",
    "        print(\"Child class class function FUN\")\n",
    "\n",
    "    def breed(self):\n",
    "        print(\"I belong to the child class Dog\")\n",
    "\n",
    "\n",
    "objDog = Dog(\"brown\",\"meat\",\"Candy\",\"2\")\n",
    "objDog.fun()\n",
    "objDog.breed()"
   ]
  },
  {
   "cell_type": "markdown",
   "id": "65cdd576-4efe-4b28-931f-9dfd89fe4625",
   "metadata": {},
   "source": [
    "# Access specifiers\n",
    "# private  __abc\n",
    "\n",
    "# protected _abc\n",
    "\n",
    "# public  abc"
   ]
  },
  {
   "cell_type": "code",
   "execution_count": 33,
   "id": "37f85f48-1b40-4d21-8ae4-a111e21f4d7c",
   "metadata": {},
   "outputs": [
    {
     "name": "stdout",
     "output_type": "stream",
     "text": [
      "[1 3 7]\n",
      "[0 0 0 0 0]\n",
      "[0 0 0 0 0]\n"
     ]
    }
   ],
   "source": [
    "import numpy as np\n",
    "\n",
    "#array([2, 2, 9]) # random\n",
    "print(np.random.randint(1, [3, 5, 10]))\n",
    "print(np.random.randint(1,size=5))\n",
    "print(np.random.randint(1,size=5))"
   ]
  },
  {
   "cell_type": "code",
   "execution_count": 39,
   "id": "7fcad1c1-e50c-4a99-ad43-613a4c2e57aa",
   "metadata": {},
   "outputs": [
    {
     "name": "stdout",
     "output_type": "stream",
     "text": [
      "12\n",
      "5\n",
      "8\n",
      "6\n",
      "15\n"
     ]
    }
   ],
   "source": [
    "import random \n",
    "\n",
    "for i in range(5):\n",
    "    print(random.randint(1,20))"
   ]
  },
  {
   "cell_type": "markdown",
   "id": "38caa366-12db-4d36-81bc-82a2b29a1040",
   "metadata": {},
   "source": [
    "# S7 Practice\n",
    "# 29 Nov2024 ,  01:02 BRT\n",
    "\n",
    "task 1: multi leve is parent 1 - child 1 (super.init)- subchild 1  (super.init)\n",
    "task 2: parent1 (ABC)  -- child 1, parent1 (ABC)  -- child 2\n",
    "\n",
    "task1 - product(ABC) + method:pass\n",
    "task2: concrete meaning object created >> >> 2 child class 1. digital rpduct 2. physical product ,  method>> redefine in cal_total_proce\n",
    "\n",
    "task 3 -\n",
    "task 4 -\n",
    "\n",
    "task 5 - main() >> put objts +method"
   ]
  },
  {
   "cell_type": "code",
   "execution_count": null,
   "id": "d7641cc3-09d7-4041-9e41-4287459c33c3",
   "metadata": {},
   "outputs": [],
   "source": []
  }
 ],
 "metadata": {
  "kernelspec": {
   "display_name": "Python 3 (ipykernel)",
   "language": "python",
   "name": "python3"
  },
  "language_info": {
   "codemirror_mode": {
    "name": "ipython",
    "version": 3
   },
   "file_extension": ".py",
   "mimetype": "text/x-python",
   "name": "python",
   "nbconvert_exporter": "python",
   "pygments_lexer": "ipython3",
   "version": "3.12.7"
  }
 },
 "nbformat": 4,
 "nbformat_minor": 5
}
