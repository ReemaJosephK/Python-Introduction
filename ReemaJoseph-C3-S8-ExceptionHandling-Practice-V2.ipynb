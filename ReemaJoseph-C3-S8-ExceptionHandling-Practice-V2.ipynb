{
 "cells": [
  {
   "cell_type": "markdown",
   "id": "9accc82d-0650-46be-8f60-38bf19bea451",
   "metadata": {},
   "source": [
    "Inventory Management System\n",
    "\n",
    "As a new owner of a charming local bookstore, Sam is eager to streamline inventory management. He decides to create a Python program to handle this task. The program will allow him to add new books (including ID, title, price, and quantity), display existing inventory, update stock levels, and search for specific titles. Guide Sam through implementing these functionalities while ensuring the program gracefully handles potential errors like file access issues or invalid user input."
   ]
  },
  {
   "cell_type": "code",
   "execution_count": 154,
   "id": "4b9d6a4b-b802-46ff-a612-02b101c3471b",
   "metadata": {},
   "outputs": [],
   "source": [
    "#task1 Create a class named Product to encapsulate product information, including product ID, name, price, and quantity.\n",
    "class Product():\n",
    "    def __init__(self, product_Id=0, product_name=\"\", price=0,quantity=0):\n",
    "        self.product_Id=product_Id\n",
    "        self.product_name=product_name\n",
    "        self.price = price\n",
    "        self.quantity = quantity\n",
    "        \n",
    "    #dd_product() method should validate the input. If the input is invalid, it should raise a ValueError with an appropriate error message.\"\n",
    "    def add_product(self):\n",
    "        try:\n",
    "            product_Id, product_name, price,quantity = input(\"please enter product Id, product name, price and quantity eg: 1,bottle,2,1\").split(\",\")\n",
    "            self.product_Id=product_Id\n",
    "            self.product_name=product_name\n",
    "            self.price = float(price)\n",
    "            self.quantity = int(quantity)\n",
    "            self.save_product()\n",
    "            \n",
    "        except ValueError as e:\n",
    "            print(f\"{e}\")            \n",
    "        except:\n",
    "            print(\"invalid input\")\n",
    "        else:\n",
    "            print(\"Product added\")\n",
    "        finally:\n",
    "            print(\"thank you\")\n",
    "\n",
    "    #Write product information to a file named \"product_detail.txt\":\n",
    "    def save_product(self):\n",
    "        try:\n",
    "            x = open(\"product_detail.txt\",'a') # read and write opertaions together\n",
    "            x.write(\"\\n\")\n",
    "            x.write(\"product_Id:\"+ self.product_Id + \",\")\n",
    "            x.write(\"product_name:\"+ self.product_name + \",\")\n",
    "            x.write(\"price:\"+ str(self.price)+ \",\")\n",
    "            x.write(\"quantity:\"+ str(self.quantity))            \n",
    "        except TypeError as e:\n",
    "            print(f\"{e}\")\n",
    "        except PermissionError as e:\n",
    "            print(f\"{e}\")\n",
    "        except:\n",
    "            print(\"error during product_detail.txt write\")\n",
    "        else:\n",
    "            print(\"please find \",self.product_name,\" information in file: product_detail.txt\")\n",
    "        finally:\n",
    "            x.close()\n",
    "            print(\"thank you\")\n",
    "            print(\" \")            \n",
    "\n",
    "    def display_product(self):\n",
    "        print(\"product_Id: \"+ self.product_Id + \"\\n\")\n",
    "        print(\"product_name: \"+ self.product_name + \"\\n\")\n",
    "        print(\"price: \"+ str(self.price) + \"\\n\")\n",
    "        print(\"quantity: \"+ str(self.quantity) + \"\\n\")   \n",
    "\n",
    "    def format_product(self):\n",
    "        return( {'product_Id': self.product_Id, 'product_name': self.product_name, 'price': self.price, 'quantity': self.quantity})\n",
    "\n",
    "\n",
    "    \n",
    "    #Open the specified file (filename) in read mode (\"r\") using a try...except block.\n",
    "    def read_product(self):\n",
    "        try:\n",
    "            fileProduct = open(\"product_detail.txt\",'r') # read and write opertaions together\n",
    "            print(fileProduct.read())\n",
    "        except IsADirectoryError as e:\n",
    "            print(f\"{e}\")\n",
    "        except FileNotFoundError as e:\n",
    "            print(f\"{e}\")\n",
    "        except PermissionError as e:\n",
    "            print(f\"{e}\")\n",
    "        else:\n",
    "            print(\"completed read operation\")\n",
    "        finally:\n",
    "            fileProduct.close()\n",
    "            print(\"thank you\")\n",
    "            print(\" \")\n",
    "\n",
    "\n"
   ]
  },
  {
   "cell_type": "code",
   "execution_count": 156,
   "id": "881ec204-bdef-4709-aafa-13df66b94d63",
   "metadata": {},
   "outputs": [
    {
     "name": "stdout",
     "output_type": "stream",
     "text": [
      "completed read operation\n",
      "thank you\n",
      " \n"
     ]
    }
   ],
   "source": [
    "# create a header\n",
    "try:\n",
    "    temp= open(\"product_detail.txt\",'+a')\n",
    "    temp.seek(0)\n",
    "    temp.write(\"Product Details:\")\n",
    "\n",
    "except IsADirectoryError as e:\n",
    "    print(f\"{e}\")\n",
    "except FileNotFoundError as e:\n",
    "    print(f\"{e}\")\n",
    "except PermissionError as e:\n",
    "    print(f\"{e}\")\n",
    "else:\n",
    "    print(\"completed read operation\")\n",
    "finally:\n",
    "    temp.close()\n",
    "    print(\"thank you\")\n",
    "    print(\" \")"
   ]
  },
  {
   "cell_type": "code",
   "execution_count": 158,
   "id": "8439bd07-6d97-4788-8e05-9060611c13eb",
   "metadata": {},
   "outputs": [
    {
     "name": "stdin",
     "output_type": "stream",
     "text": [
      "please enter product Id, product name, price and quantity eg: 1,bottle,2,1 1,bottle,2,1\n"
     ]
    },
    {
     "name": "stdout",
     "output_type": "stream",
     "text": [
      "please find  bottle  information in file: product_detail.txt\n",
      "thank you\n",
      " \n",
      "Product added\n",
      "thank you\n"
     ]
    }
   ],
   "source": [
    "#task1 Create a class named Product to encapsulate product information, including product ID, name, price, and quantity.\n",
    "objProduct = Product()\n",
    "objProduct.add_product()"
   ]
  },
  {
   "cell_type": "code",
   "execution_count": 160,
   "id": "b335d7cf-33d1-428c-8a25-df184c8ac8ec",
   "metadata": {},
   "outputs": [
    {
     "name": "stdout",
     "output_type": "stream",
     "text": [
      "please find  The Blue Umbrella  information in file: product_detail.txt\n",
      "thank you\n",
      " \n",
      "please find  The Room on the Roof  information in file: product_detail.txt\n",
      "thank you\n",
      " \n"
     ]
    }
   ],
   "source": [
    "#Task2.a accept two product info\n",
    "\n",
    "objProduct1 = Product(\"1001\",\"The Blue Umbrella\", 2.0,12)\n",
    "objProduct2 = Product(\"1002\",\"The Room on the Roof\", 3.0,10)\n",
    "\n",
    "#Task2.b - Write product information to a file named \"product_detail.txt\":\n",
    "objProduct1.save_product()\n",
    "objProduct2.save_product()"
   ]
  },
  {
   "cell_type": "code",
   "execution_count": 162,
   "id": "af566030-92f7-453d-bbb5-6da3d02b5c36",
   "metadata": {},
   "outputs": [
    {
     "name": "stdout",
     "output_type": "stream",
     "text": [
      "Product Details:\n",
      "product_Id:1,product_name:bottle,price:2.0,quantity:1\n",
      "product_Id:1001,product_name:The Blue Umbrella,price:2.0,quantity:12\n",
      "product_Id:1002,product_name:The Room on the Roof,price:3.0,quantity:10\n",
      "completed read operation\n",
      "thank you\n",
      " \n"
     ]
    }
   ],
   "source": [
    "# task 3.a Read the product information from a file\n",
    "objproductread = Product()\n",
    "objproductread.read_product()\n"
   ]
  },
  {
   "cell_type": "code",
   "execution_count": 168,
   "id": "b4fd8cd4-61f9-4501-ac5a-3e1806785e22",
   "metadata": {},
   "outputs": [
    {
     "name": "stdout",
     "output_type": "stream",
     "text": [
      "product_Id: 1\n",
      "\n",
      "product_name: bottle\n",
      "\n",
      "price: 2.0\n",
      "\n",
      "quantity: 1\n",
      "\n",
      "product_Id: 1001\n",
      "\n",
      "product_name: The Blue Umbrella\n",
      "\n",
      "price: 2.0\n",
      "\n",
      "quantity: 12\n",
      "\n",
      "product_Id: 1002\n",
      "\n",
      "product_name: The Room on the Roof\n",
      "\n",
      "price: 3.0\n",
      "\n",
      "quantity: 10\n",
      "\n",
      "c. Output: If any products were successfully processed, iterate through the products list and print each product's information.\n",
      "{'product_Id': '1', 'product_name': 'bottle', 'price': 2.0, 'quantity': 1}\n",
      "{'product_Id': '1001', 'product_name': 'The Blue Umbrella', 'price': 2.0, 'quantity': 12}\n",
      "{'product_Id': '1002', 'product_name': 'The Room on the Roof', 'price': 3.0, 'quantity': 10}\n",
      "thank you\n",
      " \n"
     ]
    }
   ],
   "source": [
    "# task3 -b , c. Data Processing: \n",
    "\n",
    "#Skip the first line of the file (assuming it's a header row). Read the remaining lines using readlines().\n",
    "try:\n",
    "    with open(\"product_detail.txt\") as filedata:\n",
    "        filedata.seek(0) #set pointer to first line\n",
    "        next(filedata) #read fron next line\n",
    "        #Read the remaining lines using readlines().\n",
    "        lines = filedata.readlines()\n",
    "\n",
    "        templist =[]\n",
    "        tempdic={}\n",
    "        productList =[]\n",
    "        \n",
    "        #remove /n from list\n",
    "        lines = [item.strip() for item in lines]\n",
    "        \n",
    "        #Iterate through each line:\n",
    "        for line in lines:\n",
    "            \n",
    "            #Split the line by commas using strip().split(\",\") to extract product data.\n",
    "            templist = line.strip().split(\",\")\n",
    "\n",
    "            for item in templist:\n",
    "                #Convert the extracted data into appropriate data types (e.g., int for quantity, float for price, etc.) within a try...except block.\n",
    "                if(item.split(':')[0]==\"product_Id\"):\n",
    "                    product_Id = item.split(':')[1]\n",
    "                elif(item.split(':')[0]==\"product_name\"):\n",
    "                    product_name = item.split(':')[1]\n",
    "                elif(item.split(':')[0]==\"price\"):\n",
    "                    price = float(item.split(':')[1])\n",
    "                elif(item.split(':')[0]==\"quantity\"):\n",
    "                    quantity = int(item.split(':')[1]) \n",
    "\n",
    "            #If data conversion is successful, create a Product object and populate its attributes with the extracted data.\n",
    "            objproductread = Product(product_Id, product_name, price, quantity) # product_Id=0, product_name=\"\", price=0,quantity=0\n",
    "\n",
    "            #Call a display_product() method (assuming it exists within the Product class) to format the product information for display.\n",
    "            objproductread.display_product() \n",
    "\n",
    "            #Append the formatted product information to a products list.\n",
    "            productList.append(objproductread.format_product())      \n",
    "except IsADirectoryError as e:\n",
    "    print(f\"{e}\")\n",
    "except FileNotFoundError as e:\n",
    "    print(f\"{e}\")\n",
    "except PermissionError as e:\n",
    "    print(f\"{e}\")\n",
    "except TypeError as e:\n",
    "    print(f\"{e}\")\n",
    "except ValueError as e: #Catch ValueError exceptions if data conversion fails, indicating an error parsing the line.\n",
    "    print(f\"{e}\")\n",
    "else:\n",
    "    print(\"c. Output: If any products were successfully processed, iterate through the products list and print each product's information.\")\n",
    "    #c. Output: If any products were successfully processed, iterate through the products list and print each product's information.\n",
    "    for item in productList:\n",
    "        print(item)        \n",
    "    \n",
    "finally:\n",
    "    filedata.close()\n",
    "    print(\"thank you\")\n",
    "    print(\" \")\n"
   ]
  },
  {
   "cell_type": "code",
   "execution_count": null,
   "id": "b3b45aeb-d77e-485d-aced-965eb47e8cab",
   "metadata": {},
   "outputs": [],
   "source": []
  }
 ],
 "metadata": {
  "kernelspec": {
   "display_name": "Python 3 (ipykernel)",
   "language": "python",
   "name": "python3"
  },
  "language_info": {
   "codemirror_mode": {
    "name": "ipython",
    "version": 3
   },
   "file_extension": ".py",
   "mimetype": "text/x-python",
   "name": "python",
   "nbconvert_exporter": "python",
   "pygments_lexer": "ipython3",
   "version": "3.12.7"
  }
 },
 "nbformat": 4,
 "nbformat_minor": 5
}
