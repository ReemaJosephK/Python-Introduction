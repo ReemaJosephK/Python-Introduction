{
 "cells": [
  {
   "cell_type": "code",
   "execution_count": 1,
   "id": "a86b47b4-7922-4891-953b-d55bb29ab58d",
   "metadata": {},
   "outputs": [
    {
     "name": "stdout",
     "output_type": "stream",
     "text": [
      "welcome dd\n"
     ]
    }
   ],
   "source": [
    "print(\"welcome dd\");"
   ]
  },
  {
   "cell_type": "code",
   "execution_count": 2,
   "id": "bb834a6a-1c7e-4fd3-af97-83f62fb3e4a8",
   "metadata": {},
   "outputs": [],
   "source": [
    "#to execute the code use the short cut  shift+ enter , ctrl +enter executes without new line"
   ]
  },
  {
   "cell_type": "code",
   "execution_count": 3,
   "id": "a23a2f83-1680-4c46-a448-dbdb9cad810c",
   "metadata": {},
   "outputs": [],
   "source": [
    "# single# is a command "
   ]
  },
  {
   "cell_type": "code",
   "execution_count": 4,
   "id": "d70def16-a4cf-4639-841c-9a674dd7ebce",
   "metadata": {},
   "outputs": [],
   "source": [
    "# variable is a named memory location"
   ]
  },
  {
   "cell_type": "code",
   "execution_count": 5,
   "id": "283a25be-f028-4457-99fb-6c47a825fd87",
   "metadata": {},
   "outputs": [],
   "source": [
    "# int, "
   ]
  },
  {
   "cell_type": "code",
   "execution_count": 6,
   "id": "4fb6097b-514e-4dc9-bc5d-a2ea77bf2d04",
   "metadata": {},
   "outputs": [],
   "source": [
    "a=2 # integer datatype"
   ]
  },
  {
   "cell_type": "code",
   "execution_count": 7,
   "id": "ac3f6c8a-997c-411b-a80e-920635ea0add",
   "metadata": {},
   "outputs": [
    {
     "name": "stdout",
     "output_type": "stream",
     "text": [
      "2\n"
     ]
    }
   ],
   "source": [
    "print(a)"
   ]
  },
  {
   "cell_type": "code",
   "execution_count": 8,
   "id": "44f94466-69a4-4358-9bd7-f6f8a074605a",
   "metadata": {},
   "outputs": [],
   "source": [
    "b=\"hello\""
   ]
  },
  {
   "cell_type": "code",
   "execution_count": 9,
   "id": "744d454d-acef-40de-a4eb-d15641b3cc65",
   "metadata": {},
   "outputs": [
    {
     "name": "stdout",
     "output_type": "stream",
     "text": [
      "hello\n"
     ]
    }
   ],
   "source": [
    "print(b)"
   ]
  },
  {
   "cell_type": "code",
   "execution_count": 10,
   "id": "13943893-7dc5-411c-bea5-6f1833c5c8fb",
   "metadata": {},
   "outputs": [],
   "source": [
    "c = 9.9 #float datatype"
   ]
  },
  {
   "cell_type": "code",
   "execution_count": 11,
   "id": "23e42177-4545-4844-ab6f-99dd1a8a6469",
   "metadata": {},
   "outputs": [
    {
     "name": "stdout",
     "output_type": "stream",
     "text": [
      "9.9\n"
     ]
    }
   ],
   "source": [
    "print(c)"
   ]
  },
  {
   "cell_type": "code",
   "execution_count": 12,
   "id": "0036e26c-7556-40db-b7f0-1a70966d52cb",
   "metadata": {},
   "outputs": [],
   "source": [
    "d= True"
   ]
  },
  {
   "cell_type": "code",
   "execution_count": 13,
   "id": "e62277cf-72e4-439e-99f1-21dfb7546f68",
   "metadata": {},
   "outputs": [
    {
     "name": "stdout",
     "output_type": "stream",
     "text": [
      "True\n"
     ]
    }
   ],
   "source": [
    "print (d)"
   ]
  },
  {
   "cell_type": "code",
   "execution_count": 14,
   "id": "2554ec0b-7235-4b1b-ad27-c66c05c60da7",
   "metadata": {},
   "outputs": [],
   "source": [
    "#common in built functions\n",
    "#print() # display\n",
    "#type() # checks the datatype\n",
    "#id()  # checkes the id of the variable"
   ]
  },
  {
   "cell_type": "code",
   "execution_count": 15,
   "id": "fd91ab5a-e1f3-4fa5-a1b1-c22d18bc286b",
   "metadata": {},
   "outputs": [
    {
     "name": "stdout",
     "output_type": "stream",
     "text": [
      "<class 'int'>\n"
     ]
    }
   ],
   "source": [
    "print(type(a))"
   ]
  },
  {
   "cell_type": "code",
   "execution_count": 16,
   "id": "41c18059-09a9-4fd2-bbbc-2a8c3ee65d86",
   "metadata": {},
   "outputs": [
    {
     "name": "stdout",
     "output_type": "stream",
     "text": [
      "<class 'float'>\n"
     ]
    }
   ],
   "source": [
    "a= 9.9 # change datatype\n",
    "print(type(a))"
   ]
  },
  {
   "cell_type": "code",
   "execution_count": 3,
   "id": "65f418ba-34d7-4554-be53-121ff9493732",
   "metadata": {},
   "outputs": [
    {
     "data": {
      "text/plain": [
       "[2, 'test', True, 9.9, 3]"
      ]
     },
     "execution_count": 3,
     "metadata": {},
     "output_type": "execute_result"
    }
   ],
   "source": [
    " ds = [2,'test',True,9.9,3] #data structure\n",
    "ds"
   ]
  },
  {
   "cell_type": "code",
   "execution_count": 9,
   "id": "46f8eaba-eb08-4a45-ae7f-5715ff5d1f38",
   "metadata": {},
   "outputs": [
    {
     "data": {
      "text/plain": [
       "list"
      ]
     },
     "execution_count": 9,
     "metadata": {},
     "output_type": "execute_result"
    }
   ],
   "source": [
    "type(ds)"
   ]
  },
  {
   "cell_type": "markdown",
   "id": "d81b21d7-9c5f-42fe-8e87-61e1b4910966",
   "metadata": {},
   "source": [
    "# brackets\n",
    "[] - list, numpy, array, indexing, slicing\n",
    "{} - set, dictionary\n",
    "() - tuples, functions"
   ]
  },
  {
   "cell_type": "code",
   "execution_count": 19,
   "id": "56233f9a-8229-47e8-85c5-7298ad017d1e",
   "metadata": {},
   "outputs": [
    {
     "data": {
      "text/plain": [
       "2"
      ]
     },
     "execution_count": 19,
     "metadata": {},
     "output_type": "execute_result"
    }
   ],
   "source": [
    "ds[0]"
   ]
  },
  {
   "cell_type": "code",
   "execution_count": 20,
   "id": "528dc3f3-f415-4251-a3fe-50e510721781",
   "metadata": {},
   "outputs": [
    {
     "data": {
      "text/plain": [
       "'test'"
      ]
     },
     "execution_count": 20,
     "metadata": {},
     "output_type": "execute_result"
    }
   ],
   "source": [
    "ds[1]"
   ]
  },
  {
   "cell_type": "code",
   "execution_count": 21,
   "id": "b40f5955-d134-476d-ab50-556556cb7f0e",
   "metadata": {},
   "outputs": [
    {
     "name": "stdout",
     "output_type": "stream",
     "text": [
      "test\n"
     ]
    }
   ],
   "source": [
    "print(ds[1])\n"
   ]
  },
  {
   "cell_type": "code",
   "execution_count": 22,
   "id": "34902597-d181-4b1a-b3d8-f9fbd9f5187a",
   "metadata": {},
   "outputs": [
    {
     "data": {
      "text/plain": [
       "(2, 'test', True, 9.9, 3)"
      ]
     },
     "execution_count": 22,
     "metadata": {},
     "output_type": "execute_result"
    }
   ],
   "source": [
    "ds1 = (2,'test',True,9.9,3) #data structure is tuple\n",
    "ds1"
   ]
  },
  {
   "cell_type": "code",
   "execution_count": 23,
   "id": "133e49a2-0dbc-472f-8c2b-649523c78045",
   "metadata": {},
   "outputs": [
    {
     "data": {
      "text/plain": [
       "{2, 9.9, True, 'test'}"
      ]
     },
     "execution_count": 23,
     "metadata": {},
     "output_type": "execute_result"
    }
   ],
   "source": [
    "ds2 = {2,'test',True,9.9,} #data structure is SET\n",
    "ds2"
   ]
  },
  {
   "cell_type": "code",
   "execution_count": 24,
   "id": "a78d889e-e8dc-4ac2-9d17-76c5954cb7bd",
   "metadata": {},
   "outputs": [
    {
     "name": "stdout",
     "output_type": "stream",
     "text": [
      "<class 'set'>\n"
     ]
    }
   ],
   "source": [
    "print(type(ds2))"
   ]
  },
  {
   "cell_type": "code",
   "execution_count": 25,
   "id": "36d5b145-9631-43b6-8f89-5af40d58232d",
   "metadata": {},
   "outputs": [
    {
     "name": "stdout",
     "output_type": "stream",
     "text": [
      "<class 'dict'>\n"
     ]
    },
    {
     "data": {
      "text/plain": [
       "{'1': 'Reema', '2': 'joseph'}"
      ]
     },
     "execution_count": 25,
     "metadata": {},
     "output_type": "execute_result"
    }
   ],
   "source": [
    "ds_dic= {\"1\":\"Reema\", \"2\":\"joseph\"}\n",
    "print(type(ds_dic))\n",
    "ds_dic"
   ]
  },
  {
   "cell_type": "markdown",
   "id": "deccac14-99b1-4516-9d19-ff760d66bef1",
   "metadata": {},
   "source": [
    "# data structure\n",
    "\n",
    "combine various data types in a group and allow processing of the group into a single unit\n"
   ]
  },
  {
   "cell_type": "code",
   "execution_count": 27,
   "id": "99a4f3d9-89df-4540-9059-04579065c6aa",
   "metadata": {},
   "outputs": [
    {
     "data": {
      "text/plain": [
       "'\\nasdkhdk\\nhdsjahdkh\\ndbskjh\\n\\nthis is a comment\\n'"
      ]
     },
     "execution_count": 27,
     "metadata": {},
     "output_type": "execute_result"
    }
   ],
   "source": [
    "\"\"\"\n",
    "asdkhdk\n",
    "hdsjahdkh\n",
    "dbskjh\n",
    "\n",
    "this is a comment\n",
    "\"\"\"\n"
   ]
  },
  {
   "cell_type": "code",
   "execution_count": 28,
   "id": "a1ab6e78-476c-439d-846d-029cccf415c9",
   "metadata": {},
   "outputs": [
    {
     "name": "stdout",
     "output_type": "stream",
     "text": [
      "lets's\n"
     ]
    }
   ],
   "source": [
    "print (\"lets's\")  # use double quootes when there is a single quote"
   ]
  },
  {
   "cell_type": "code",
   "execution_count": 29,
   "id": "8bd23200-2155-4eb2-bf55-6b4072bcd7b0",
   "metadata": {},
   "outputs": [
    {
     "name": "stdout",
     "output_type": "stream",
     "text": [
      "4\n"
     ]
    }
   ],
   "source": [
    "print (2+2) # understands arithamatic, logical (and , or,not), comparison,identify (is, is not), membership (in, not in) "
   ]
  },
  {
   "cell_type": "markdown",
   "id": "afcfb8c2-6f54-4e1c-b79d-14caf88b65a2",
   "metadata": {},
   "source": [
    "# operators\n",
    "understands arithamatic, logical (and , or,not), comparison,identify (is, is not), membership (in, not in) "
   ]
  },
  {
   "cell_type": "code",
   "execution_count": 31,
   "id": "0a190010-122f-4533-9603-1e115098ebd8",
   "metadata": {},
   "outputs": [],
   "source": [
    "a=9"
   ]
  },
  {
   "cell_type": "code",
   "execution_count": 32,
   "id": "e23a5e6d-fb06-4997-a10d-6fad93a2e8ef",
   "metadata": {},
   "outputs": [
    {
     "data": {
      "text/plain": [
       "True"
      ]
     },
     "execution_count": 32,
     "metadata": {},
     "output_type": "execute_result"
    }
   ],
   "source": [
    "a==9"
   ]
  },
  {
   "cell_type": "code",
   "execution_count": 33,
   "id": "0137e608-f199-46c3-95b0-0f0e24030e7b",
   "metadata": {},
   "outputs": [
    {
     "data": {
      "text/plain": [
       "False"
      ]
     },
     "execution_count": 33,
     "metadata": {},
     "output_type": "execute_result"
    }
   ],
   "source": [
    "a!=9"
   ]
  },
  {
   "cell_type": "markdown",
   "id": "ba44273a-3e84-4c55-960f-1a4b04aec24a",
   "metadata": {},
   "source": [
    "# id will be same if value is same\n"
   ]
  },
  {
   "cell_type": "code",
   "execution_count": 35,
   "id": "60afb7f8-0bb5-4deb-90b6-dc8983fa09da",
   "metadata": {},
   "outputs": [
    {
     "data": {
      "text/plain": [
       "140735928217720"
      ]
     },
     "execution_count": 35,
     "metadata": {},
     "output_type": "execute_result"
    }
   ],
   "source": [
    "x=55\n",
    "x\n",
    "id(x)"
   ]
  },
  {
   "cell_type": "code",
   "execution_count": 36,
   "id": "117e6ee4-e277-4fd9-8afe-5831c4472136",
   "metadata": {},
   "outputs": [
    {
     "data": {
      "text/plain": [
       "55"
      ]
     },
     "execution_count": 36,
     "metadata": {},
     "output_type": "execute_result"
    }
   ],
   "source": [
    "x=55\n",
    "x"
   ]
  },
  {
   "cell_type": "code",
   "execution_count": 37,
   "id": "3f042e89-cf83-475a-80f3-06ae0474cd9a",
   "metadata": {},
   "outputs": [
    {
     "data": {
      "text/plain": [
       "55"
      ]
     },
     "execution_count": 37,
     "metadata": {},
     "output_type": "execute_result"
    }
   ],
   "source": [
    "x=55\n",
    "id(x)\n",
    "x"
   ]
  },
  {
   "cell_type": "code",
   "execution_count": 38,
   "id": "eea1d320-5edf-45c0-a4eb-68471f8d793a",
   "metadata": {},
   "outputs": [
    {
     "data": {
      "text/plain": [
       "140735928217720"
      ]
     },
     "execution_count": 38,
     "metadata": {},
     "output_type": "execute_result"
    }
   ],
   "source": [
    "y=55\n",
    "id(y)"
   ]
  },
  {
   "cell_type": "code",
   "execution_count": 39,
   "id": "b763449a-c661-4846-8fa0-925cf5a273ec",
   "metadata": {},
   "outputs": [
    {
     "data": {
      "text/plain": [
       "True"
      ]
     },
     "execution_count": 39,
     "metadata": {},
     "output_type": "execute_result"
    }
   ],
   "source": [
    "h=[2,4]\n",
    "2 in h"
   ]
  },
  {
   "cell_type": "code",
   "execution_count": 40,
   "id": "95927542-db3a-4fc8-b72c-6efd19e1337a",
   "metadata": {},
   "outputs": [
    {
     "data": {
      "text/plain": [
       "True"
      ]
     },
     "execution_count": 40,
     "metadata": {},
     "output_type": "execute_result"
    }
   ],
   "source": [
    "j=2\n",
    "j in h"
   ]
  },
  {
   "cell_type": "code",
   "execution_count": 41,
   "id": "76839d4c-e2a9-41f3-ba21-46ac2d0d5e61",
   "metadata": {},
   "outputs": [
    {
     "data": {
      "text/plain": [
       "False"
      ]
     },
     "execution_count": 41,
     "metadata": {},
     "output_type": "execute_result"
    }
   ],
   "source": [
    "g=[2]\n",
    "g in h"
   ]
  },
  {
   "cell_type": "code",
   "execution_count": 42,
   "id": "e400c9cc-77e2-4f1c-863a-9bb54745d843",
   "metadata": {},
   "outputs": [
    {
     "data": {
      "text/plain": [
       "True"
      ]
     },
     "execution_count": 42,
     "metadata": {},
     "output_type": "execute_result"
    }
   ],
   "source": [
    "g=[2,4]\n",
    "g==h"
   ]
  },
  {
   "cell_type": "markdown",
   "id": "e0bfd252-118d-4485-9de9-4e5ddec09a51",
   "metadata": {},
   "source": [
    "# IS id should match, value should match"
   ]
  },
  {
   "cell_type": "code",
   "execution_count": 15,
   "id": "0a96c9b5-b651-49ef-b541-472b34f51284",
   "metadata": {},
   "outputs": [
    {
     "data": {
      "text/plain": [
       "True"
      ]
     },
     "execution_count": 15,
     "metadata": {},
     "output_type": "execute_result"
    }
   ],
   "source": [
    "j=2\n",
    "h =[2,4]\n",
    "\n",
    "j is h[0]\n"
   ]
  },
  {
   "cell_type": "code",
   "execution_count": 17,
   "id": "f8088d3a-0fd4-4533-bd53-9e21421675f8",
   "metadata": {},
   "outputs": [
    {
     "data": {
      "text/plain": [
       "list"
      ]
     },
     "execution_count": 17,
     "metadata": {},
     "output_type": "execute_result"
    }
   ],
   "source": [
    "type(h)"
   ]
  },
  {
   "cell_type": "code",
   "execution_count": 45,
   "id": "b4f5cb55-8b03-477c-8810-a467c5b7ebec",
   "metadata": {},
   "outputs": [
    {
     "data": {
      "text/plain": [
       "140735928216024"
      ]
     },
     "execution_count": 45,
     "metadata": {},
     "output_type": "execute_result"
    }
   ],
   "source": [
    "id(j)"
   ]
  },
  {
   "cell_type": "code",
   "execution_count": 46,
   "id": "c1083c82-e501-4ec4-8d66-e353597b87c0",
   "metadata": {},
   "outputs": [
    {
     "data": {
      "text/plain": [
       "2013423638656"
      ]
     },
     "execution_count": 46,
     "metadata": {},
     "output_type": "execute_result"
    }
   ],
   "source": [
    "id(h)"
   ]
  },
  {
   "cell_type": "code",
   "execution_count": 47,
   "id": "08650eac-bb13-4039-8262-7a52f4d23394",
   "metadata": {},
   "outputs": [
    {
     "data": {
      "text/plain": [
       "140735928216024"
      ]
     },
     "execution_count": 47,
     "metadata": {},
     "output_type": "execute_result"
    }
   ],
   "source": [
    "id(h[0])"
   ]
  },
  {
   "cell_type": "markdown",
   "id": "e597d3c2-1db0-4167-b6f9-7484f510645a",
   "metadata": {},
   "source": [
    "# up to slide 37"
   ]
  },
  {
   "cell_type": "code",
   "execution_count": 49,
   "id": "2aa72b16-d938-4b5f-b699-526247aceced",
   "metadata": {},
   "outputs": [
    {
     "name": "stdout",
     "output_type": "stream",
     "text": [
      "178\n"
     ]
    }
   ],
   "source": [
    "print(50+ (32*4))"
   ]
  },
  {
   "cell_type": "code",
   "execution_count": 50,
   "id": "af385d38-17a5-488d-832b-fc5a0e9808da",
   "metadata": {},
   "outputs": [
    {
     "data": {
      "text/plain": [
       "178"
      ]
     },
     "execution_count": 50,
     "metadata": {},
     "output_type": "execute_result"
    }
   ],
   "source": [
    "(50+(32*4))"
   ]
  },
  {
   "cell_type": "code",
   "execution_count": 51,
   "id": "5954fef6-13a4-47ab-8476-d364d1c0eb74",
   "metadata": {},
   "outputs": [
    {
     "data": {
      "text/plain": [
       "35.0"
      ]
     },
     "execution_count": 51,
     "metadata": {},
     "output_type": "execute_result"
    }
   ],
   "source": [
    "((10*3)+(25/5))"
   ]
  },
  {
   "cell_type": "code",
   "execution_count": 52,
   "id": "cb0efe5b-8721-478f-94e9-84731e490eaa",
   "metadata": {},
   "outputs": [
    {
     "data": {
      "text/plain": [
       "2417851639229258349412352"
      ]
     },
     "execution_count": 52,
     "metadata": {},
     "output_type": "execute_result"
    }
   ],
   "source": [
    "2**3**4"
   ]
  },
  {
   "cell_type": "code",
   "execution_count": 53,
   "id": "c1085178-a6e2-4e67-b32a-b63fca65caeb",
   "metadata": {},
   "outputs": [
    {
     "data": {
      "text/plain": [
       "4096"
      ]
     },
     "execution_count": 53,
     "metadata": {},
     "output_type": "execute_result"
    }
   ],
   "source": [
    "((2**3)**4)"
   ]
  },
  {
   "cell_type": "markdown",
   "id": "8dfb3817-cb6e-49e4-9d4c-a47a85dc14b2",
   "metadata": {},
   "source": [
    " # extension\n",
    " .py\n",
    " .ipynb\n",
    " "
   ]
  },
  {
   "cell_type": "code",
   "execution_count": 105,
   "id": "8d3d9c43-7569-48f8-a203-205a17355a1d",
   "metadata": {},
   "outputs": [
    {
     "name": "stdout",
     "output_type": "stream",
     "text": [
      "Name is  reema\n"
     ]
    }
   ],
   "source": [
    "name =\"reema\"\n",
    "print(\"Name is %6s\" %(\"reema\"))"
   ]
  },
  {
   "cell_type": "code",
   "execution_count": 113,
   "id": "6a3105b2-bd02-4654-b051-d488c67adf6e",
   "metadata": {},
   "outputs": [
    {
     "name": "stdout",
     "output_type": "stream",
     "text": [
      "hey your value is True your name is reema\n"
     ]
    }
   ],
   "source": [
    "t=True\n",
    "print(f\"hey your value is {t} your name is {name}\")"
   ]
  },
  {
   "cell_type": "code",
   "execution_count": null,
   "id": "fbd942cc-4d49-48a5-a196-52bd648e6b54",
   "metadata": {},
   "outputs": [],
   "source": []
  }
 ],
 "metadata": {
  "kernelspec": {
   "display_name": "Python 3 (ipykernel)",
   "language": "python",
   "name": "python3"
  },
  "language_info": {
   "codemirror_mode": {
    "name": "ipython",
    "version": 3
   },
   "file_extension": ".py",
   "mimetype": "text/x-python",
   "name": "python",
   "nbconvert_exporter": "python",
   "pygments_lexer": "ipython3",
   "version": "3.12.7"
  }
 },
 "nbformat": 4,
 "nbformat_minor": 5
}
